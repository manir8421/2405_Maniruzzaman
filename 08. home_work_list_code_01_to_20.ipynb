{
 "cells": [
  {
   "cell_type": "markdown",
   "id": "d57b0f21-4166-4533-9d6e-dbcdab42b146",
   "metadata": {},
   "source": [
    "# 01. Write a Python program to sum all the items in a list"
   ]
  },
  {
   "cell_type": "code",
   "execution_count": 44,
   "id": "0fc793a9-ca91-447c-b1f9-e002d39ac8a6",
   "metadata": {},
   "outputs": [
    {
     "name": "stdout",
     "output_type": "stream",
     "text": [
      "Summation of all items in the list is: 35\n"
     ]
    }
   ],
   "source": [
    "given_list = [1,5,8,3,9,2,7]\n",
    "sum_of_list=0\n",
    "for i in range(len(given_list)):\n",
    "    sum_of_list = sum_of_list + given_list[i]\n",
    "print(f\"Summation of all items in the list is: {sum_of_list}\")"
   ]
  },
  {
   "cell_type": "markdown",
   "id": "edaeee70-ffc4-4099-a378-15587fc6cd0a",
   "metadata": {},
   "source": [
    "# 02. Write a Python program to multiplies all the items in a list."
   ]
  },
  {
   "cell_type": "code",
   "execution_count": 56,
   "id": "e2fa9039-00dd-4dc9-aa4c-0c078e4d7c29",
   "metadata": {},
   "outputs": [
    {
     "name": "stdout",
     "output_type": "stream",
     "text": [
      "Multiplies of all items in the list is: 30\n"
     ]
    }
   ],
   "source": [
    "given_list = [1,5,2,3]\n",
    "mult_of_list = 1\n",
    "for i in range(len(given_list)):\n",
    "    mult_of_list = mult_of_list * given_list[i]\n",
    "print(f\"Multiplies of all items in the list is: {mult_of_list}\")"
   ]
  },
  {
   "cell_type": "markdown",
   "id": "fbf994de-d7f7-4e1b-a5cc-3bb393811b79",
   "metadata": {},
   "source": [
    "# 03. Write a Python program to get the largest number from a list."
   ]
  },
  {
   "cell_type": "code",
   "execution_count": 119,
   "id": "e1cb7f0f-b4c9-4e3e-9f7f-e7b14999c9a3",
   "metadata": {},
   "outputs": [
    {
     "name": "stdout",
     "output_type": "stream",
     "text": [
      "Largest number of the list is: 76\n"
     ]
    }
   ],
   "source": [
    "m_list = [5,12,1,44,76,3,40]\n",
    "largest_num = m_list[0]\n",
    "for i in m_list:\n",
    "    if i > largest_num:\n",
    "        largest_num = i\n",
    "print(f\"Largest number of the list is: {largest_num}\") "
   ]
  },
  {
   "cell_type": "markdown",
   "id": "04c7e002-2e61-48f5-9850-90fa4b886436",
   "metadata": {},
   "source": [
    "# 04. Write a Python program to get the smallest number from a list."
   ]
  },
  {
   "cell_type": "code",
   "execution_count": 113,
   "id": "e8c485c7-f020-4957-a3e0-888d41bfa556",
   "metadata": {},
   "outputs": [
    {
     "name": "stdout",
     "output_type": "stream",
     "text": [
      "Largest number of the list is: 1\n"
     ]
    }
   ],
   "source": [
    "m_list = [5,12,1,44,76,3,40]\n",
    "small_num = m_list[0]\n",
    "for i in m_list:\n",
    "    if i < small_num:\n",
    "        small_num = i\n",
    "print(f\"Largest number of the list is: {small_num}\")"
   ]
  },
  {
   "cell_type": "markdown",
   "id": "c19bb851-e2cb-463d-8a9e-d5697b5ad241",
   "metadata": {},
   "source": [
    "# 05. Write a Python program to count the number of strings where the string length is 2 or more and the first and last character are same from a given list of strings.\n",
    "# Sample List : ['abc', 'xyz', 'aba', '1221'] \n",
    "\n",
    "# Expected Result : 2 "
   ]
  },
  {
   "cell_type": "code",
   "execution_count": 109,
   "id": "20612189-4650-4838-8ccb-1034c766958f",
   "metadata": {},
   "outputs": [
    {
     "name": "stdout",
     "output_type": "stream",
     "text": [
      "ege\n",
      "3863\n",
      "tnt\n",
      "676\n",
      "tt\n",
      "Number of string: 5\n"
     ]
    }
   ],
   "source": [
    "m_list=['sdf', 'ege', 'wsx', '3863', 'd', 'tnt', 'e', '1234', '676', 'tt']\n",
    "count = 0\n",
    "for i in m_list:\n",
    "    if len(i) >= 2 and i[0] == i[-1]:\n",
    "        print(i)\n",
    "        count = count+1\n",
    "print(f\"Number of string: {count}\")"
   ]
  },
  {
   "cell_type": "markdown",
   "id": "db0b058b-fa01-4ad3-860b-7336e750003b",
   "metadata": {},
   "source": [
    "# 06. Write a Python program to get a list, sorted in increasing order by the last element in each tuple from a given list of non-empty tuples.\n",
    "# Sample List : [(2, 5), (1, 2), (4, 4), (2, 3), (2, 1)] \n",
    "\n",
    "# Expected Result : [(2, 1), (1, 2), (2, 3), (4, 4), (2, 5)] "
   ]
  },
  {
   "cell_type": "code",
   "execution_count": 7,
   "id": "68926c45-f39b-46e8-a6d7-aa66174c5df7",
   "metadata": {},
   "outputs": [
    {
     "name": "stdout",
     "output_type": "stream",
     "text": [
      "Sorted list is= [(9, 1), (8, 2), (2, 3), (7, 4), (3, 5)]\n"
     ]
    }
   ],
   "source": [
    "my_lst= [(2,3), (8,2), (9,1), (3,5), (7,4)]\n",
    "def last_ele(elem):\n",
    "    return elem[1]\n",
    "new_lst = sorted(my_lst, key=last_ele)\n",
    "print(f\"Sorted list is= {new_lst}\")  "
   ]
  },
  {
   "cell_type": "markdown",
   "id": "6312cb1d-4929-4ad2-ade9-d65c4cc74953",
   "metadata": {},
   "source": [
    "# 07. Write a Python program to remove duplicates from a list."
   ]
  },
  {
   "cell_type": "code",
   "execution_count": 165,
   "id": "8140c01f-9a4b-4bc3-8b62-a52f2593e51b",
   "metadata": {},
   "outputs": [
    {
     "name": "stdout",
     "output_type": "stream",
     "text": [
      "[12, 34, 56, 87, 23, 77, 99]\n"
     ]
    }
   ],
   "source": [
    "my_list = [12,34,56,12,87,23,34,77,12,99,34,56]\n",
    "new_list = []\n",
    "for i in my_list:\n",
    "    if i not in new_list:\n",
    "        new_list.append(i)\n",
    "print(new_list)"
   ]
  },
  {
   "cell_type": "markdown",
   "id": "239964cf-3e5e-4cc2-8814-aa3621979e6b",
   "metadata": {},
   "source": [
    "# 08. Write a Python program to check a list is empty or not."
   ]
  },
  {
   "cell_type": "code",
   "execution_count": 233,
   "id": "c16d587b-a286-4488-a862-79bc1d520bd1",
   "metadata": {},
   "outputs": [
    {
     "name": "stdout",
     "output_type": "stream",
     "text": [
      "List is empty\n",
      "List is not empty\n"
     ]
    }
   ],
   "source": [
    "def empty_chk(lst):\n",
    "    if not lst:\n",
    "        print(\"List is empty\")\n",
    "    else:\n",
    "        print(\"List is not empty\")\n",
    "\n",
    "my_list_1 = []\n",
    "empty_chk(my_list_1)\n",
    "my_list_2 = [1,2,3]\n",
    "empty_chk(my_list_2)"
   ]
  },
  {
   "cell_type": "markdown",
   "id": "e8078063-468a-4fc1-b986-b94392b8cfec",
   "metadata": {},
   "source": [
    "# 09. Write a Python program to clone or copy a list."
   ]
  },
  {
   "cell_type": "code",
   "execution_count": 249,
   "id": "8d1a630a-1dcb-4a8e-ab3d-f77dde47d679",
   "metadata": {},
   "outputs": [
    {
     "name": "stdout",
     "output_type": "stream",
     "text": [
      "[5, 4, 7, 6]\n"
     ]
    }
   ],
   "source": [
    "clone_list = []\n",
    "def clone(lst):\n",
    "    for i in lst:\n",
    "        clone_list.append(i)\n",
    "my_list = [5,4,7,6]\n",
    "clone(my_list)\n",
    "print(clone_list)"
   ]
  },
  {
   "cell_type": "markdown",
   "id": "857afb60-898d-4122-b9ca-2e39bfa8ccfe",
   "metadata": {},
   "source": [
    "# 10. Write a Python program to find the list of words that are longer than n from a given list of words."
   ]
  },
  {
   "cell_type": "code",
   "execution_count": 284,
   "id": "5e8c3d74-5bc6-417f-9d79-550e37398866",
   "metadata": {},
   "outputs": [
    {
     "name": "stdout",
     "output_type": "stream",
     "text": [
      "['This', 'is', 'python', 'machine', 'learning', 'class']\n",
      "['python', 'machine', 'learning', 'class']\n"
     ]
    }
   ],
   "source": [
    "my_sentence = \"This is python machine learning class\"\n",
    "new_list = []\n",
    "list_word = my_sentence.split()\n",
    "print(list_word)\n",
    "n=4\n",
    "for i in range(len(list_word)):\n",
    "    if len(list_word[i]) > n:\n",
    "        new_list.append(list_word[i])\n",
    "print(new_list)"
   ]
  },
  {
   "cell_type": "markdown",
   "id": "e42d74f4-4f3b-4394-8df0-b081ce7a8541",
   "metadata": {},
   "source": [
    "# 11. Write a Python function that takes two lists and returns True if they have at least one common member."
   ]
  },
  {
   "cell_type": "code",
   "execution_count": 338,
   "id": "32503750-f0bb-47d9-a287-c08561f6dfd2",
   "metadata": {},
   "outputs": [
    {
     "name": "stdout",
     "output_type": "stream",
     "text": [
      "For lst_1 and lst_2:True\n",
      "For lst_3 and lst_4:False\n"
     ]
    }
   ],
   "source": [
    "def common_mem(a,b):\n",
    "    for i in a:\n",
    "        if i in b:\n",
    "            return(True)\n",
    "    return(False)\n",
    "lst_1 = [1,2,3,4,5]\n",
    "lst_2 = [5,6,7,8,9]\n",
    "common_mem(lst_1,lst_2)\n",
    "print(f\"For lst_1 and lst_2:{common_mem(lst_1,lst_2)}\")\n",
    "lst_3 = [1,2,3]\n",
    "lst_4 = [6,7,8]\n",
    "common_mem(lst_3,lst_4)\n",
    "print(f\"For lst_3 and lst_4:{common_mem(lst_3,lst_4)}\")"
   ]
  },
  {
   "cell_type": "markdown",
   "id": "8e27915f-aa0f-4b93-8b48-d5d3eb3648f6",
   "metadata": {},
   "source": [
    "# 12. Write a Python program to print a specified list after removing the 0th, 4th and 5th elements."
   ]
  },
  {
   "cell_type": "code",
   "execution_count": 417,
   "id": "da530901-ff7c-4cfb-ae0d-df4fa9d4dcdc",
   "metadata": {},
   "outputs": [
    {
     "name": "stdout",
     "output_type": "stream",
     "text": [
      "Input List = [23, 12, 45, 2, 86, 32, 67, 9]\n",
      "Output List = [12, 45, 2, 67, 9]\n"
     ]
    }
   ],
   "source": [
    "new_list = []\n",
    "def remove_ele(a):\n",
    "    for i in a:\n",
    "        if a.index(i) != 0 and a.index(i) != 4 and a.index(i) !=5:\n",
    "            new_list.append(i)\n",
    "\n",
    "my_list = [23,12,45,2,86,32,67,9]\n",
    "remove_ele(my_list)\n",
    "print(f\"Input List = {my_list}\")\n",
    "print(f\"Output List = {new_list}\")"
   ]
  },
  {
   "cell_type": "markdown",
   "id": "0e9516ce-3a12-447a-952b-44fcd52f1735",
   "metadata": {},
   "source": [
    "# 13. Write Python program to generate 3x4x6 3D array whose each element is '*'"
   ]
  },
  {
   "cell_type": "code",
   "execution_count": 29,
   "id": "2bb84ba7-b1c4-41ea-bd81-81ea4ebd1c89",
   "metadata": {},
   "outputs": [
    {
     "name": "stdout",
     "output_type": "stream",
     "text": [
      "Final 3D array is = [[['*', '*', '*', '*', '*', '*'], ['*', '*', '*', '*', '*', '*'], ['*', '*', '*', '*', '*', '*'], ['*', '*', '*', '*', '*', '*']], [['*', '*', '*', '*', '*', '*'], ['*', '*', '*', '*', '*', '*'], ['*', '*', '*', '*', '*', '*'], ['*', '*', '*', '*', '*', '*']], [['*', '*', '*', '*', '*', '*'], ['*', '*', '*', '*', '*', '*'], ['*', '*', '*', '*', '*', '*'], ['*', '*', '*', '*', '*', '*']]]\n"
     ]
    }
   ],
   "source": [
    "new_array_1=[]\n",
    "new_array_2=[]\n",
    "new_array_3=[]\n",
    "def array_3d(a,b,c):\n",
    "    for i in range(a):\n",
    "        new_array_1.append('*')\n",
    "    for j in range(b):\n",
    "        new_array_2.append(new_array_1)\n",
    "    for k in range(c):\n",
    "        new_array_3.append(new_array_2)\n",
    "\n",
    "array_3d(6,4,3)\n",
    "print(f\"Final 3D array is = {new_array_3}\")"
   ]
  },
  {
   "cell_type": "markdown",
   "id": "27fba429-d230-4fd3-80e7-d0f675e5acbc",
   "metadata": {},
   "source": [
    "# 14. Write a Python program to print the numbers of a specified list after removing even numbers from it."
   ]
  },
  {
   "cell_type": "code",
   "execution_count": 54,
   "id": "ad63823e-5680-4c5e-95f2-1a7d7374b3ac",
   "metadata": {},
   "outputs": [
    {
     "name": "stdout",
     "output_type": "stream",
     "text": [
      "New Specified list after removing eben number= [3, 9, 17, 13, 55]\n"
     ]
    }
   ],
   "source": [
    "new_list = []\n",
    "def remove_even(a):\n",
    "    for i in a:\n",
    "        if i%2 != 0:\n",
    "            new_list.append(i)\n",
    "input_list = [3,6,9,4,17,13,2,44,55,28]\n",
    "remove_even(input_list)\n",
    "print(f\"New Specified list after removing eben number= {new_list}\")"
   ]
  },
  {
   "cell_type": "markdown",
   "id": "f73d2519-c6ff-4fd6-9ab0-0a9ca378bfbd",
   "metadata": {},
   "source": [
    "# 17. Write a Python program to generate and print a list except for the first 5 elements, where the values are square of numbers between 1 and 30 (both included)"
   ]
  },
  {
   "cell_type": "code",
   "execution_count": 71,
   "id": "31940fe3-fe8a-4a6d-bbbe-b064f753f0f2",
   "metadata": {},
   "outputs": [
    {
     "name": "stdout",
     "output_type": "stream",
     "text": [
      "Input List = [1, 2, 3, 4, 5, 6, 7, 8, 9, 10, 11, 12, 13, 14, 15, 16, 17, 18, 19, 20, 21, 22, 23, 24, 25, 26, 27, 28, 29, 30]\n",
      "Output List with square except first 5 elements: [36, 49, 64, 81, 100, 121, 144, 169, 196, 225, 256, 289, 324, 361, 400, 441, 484, 529, 576, 625, 676, 729, 784, 841, 900]\n"
     ]
    }
   ],
   "source": [
    "input_list=[]\n",
    "new_list=[]\n",
    "def gen_list(a):\n",
    "    for i in range(1,a):\n",
    "        input_list.append(i)\n",
    "        if input_list.index(i) >= 5:\n",
    "            new_list.append(i**2)\n",
    "a=31\n",
    "gen_list(a)\n",
    "print(f\"Input List = {input_list}\")\n",
    "print(f\"Output List with square except first 5 elements: {new_list}\")"
   ]
  },
  {
   "cell_type": "markdown",
   "id": "19b5a770-0508-405a-a095-a2b319ecded2",
   "metadata": {},
   "source": [
    "# 18. Write a Python program to generate all permutations of a list in Python."
   ]
  },
  {
   "cell_type": "code",
   "execution_count": 111,
   "id": "d56de84d-b9a9-43cd-908c-b9410e212740",
   "metadata": {},
   "outputs": [
    {
     "name": "stdout",
     "output_type": "stream",
     "text": [
      " All Permutation are = [[111, 222, 333], [111, 333, 222], [222, 111, 333], [222, 333, 111], [333, 111, 222], [333, 222, 111]]\n"
     ]
    }
   ],
   "source": [
    "new_list=[]\n",
    "def permutation(a):\n",
    "    for i in range(len(a)):\n",
    "        for j in range(len(a)):\n",
    "            for k in range(len(a)):\n",
    "                if i != j and i != k and j != k:\n",
    "                    new_list.append([a[i], a[j], a[k]])\n",
    "\n",
    "input_list = [111,222,333]\n",
    "permutation(input_list)\n",
    "print(f\" All Permutation are = {new_list}\")"
   ]
  },
  {
   "cell_type": "markdown",
   "id": "d57ce87d-3783-4bca-8300-cdaa10bb4ea3",
   "metadata": {},
   "source": [
    "# 19. Write a Python program to get the difference between the two lists."
   ]
  },
  {
   "cell_type": "code",
   "execution_count": 152,
   "id": "729705ed-bcbd-4501-855a-233bf35f3cdd",
   "metadata": {},
   "outputs": [
    {
     "name": "stdout",
     "output_type": "stream",
     "text": [
      "Input list 01 = [2, 5, 6, 11, 1, 5]\n",
      "Input list 02 = [9, 2, 1, 23, 11, 9, 2]\n",
      "Difference between two list is: [9, 5, 6, 23]\n"
     ]
    }
   ],
   "source": [
    "Output_list = []\n",
    "list_01 = [2,5,6,11,1,5]\n",
    "list_02 = [9,2,1,23,11,9,2]\n",
    "print(f\"Input list 01 = {list_01}\")\n",
    "print(f\"Input list 02 = {list_02}\")\n",
    "set_01 = set(list_01)\n",
    "set_02 = set(list_02)\n",
    "new_set_01 = set_01 - set_02\n",
    "new_set_02 = set_02 - set_01\n",
    "final_set = new_set_01.union(new_set_02)\n",
    "output_list = list(final_set)\n",
    "print(f\"Difference between two list is: {output_list}\")"
   ]
  },
  {
   "cell_type": "markdown",
   "id": "726e8985-0085-4baa-a622-6942bdaa8ba6",
   "metadata": {},
   "source": [
    "# 20. Write a Python program access the index of a list."
   ]
  },
  {
   "cell_type": "code",
   "execution_count": 177,
   "id": "44122ac7-0024-4576-b005-02a47428fa18",
   "metadata": {},
   "outputs": [
    {
     "name": "stdout",
     "output_type": "stream",
     "text": [
      "0 11\n",
      "1 5\n",
      "2 234\n",
      "3 2\n",
      "4 67\n"
     ]
    }
   ],
   "source": [
    "def index_access(a):\n",
    "    for i in a:\n",
    "        print(f\"{a.index(i)} {i}\")\n",
    "\n",
    "input_list = [11,5,234,2,67]\n",
    "index_access(input_list)"
   ]
  }
 ],
 "metadata": {
  "kernelspec": {
   "display_name": "Python [conda env:base] *",
   "language": "python",
   "name": "conda-base-py"
  },
  "language_info": {
   "codemirror_mode": {
    "name": "ipython",
    "version": 3
   },
   "file_extension": ".py",
   "mimetype": "text/x-python",
   "name": "python",
   "nbconvert_exporter": "python",
   "pygments_lexer": "ipython3",
   "version": "3.12.7"
  }
 },
 "nbformat": 4,
 "nbformat_minor": 5
}
