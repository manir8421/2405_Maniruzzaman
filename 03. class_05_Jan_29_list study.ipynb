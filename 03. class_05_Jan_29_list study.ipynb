{
 "cells": [
  {
   "cell_type": "code",
   "execution_count": 72,
   "id": "5b79ee59-9645-4721-bdb3-0d2406dc796d",
   "metadata": {},
   "outputs": [],
   "source": [
    "# Data structure\n",
    "# list\n",
    "# set\n",
    "# tuple\n",
    "# dictionary"
   ]
  },
  {
   "cell_type": "code",
   "execution_count": 74,
   "id": "fcb74282-1dfb-44af-8e2b-f88a8e4d69e8",
   "metadata": {},
   "outputs": [],
   "source": [
    "# list - indexing, slicing(positive, Negative)"
   ]
  },
  {
   "cell_type": "code",
   "execution_count": 82,
   "id": "0669e1ab-0e53-42b2-8465-668d3f8fd97b",
   "metadata": {},
   "outputs": [
    {
     "data": {
      "text/plain": [
       "\" > pop - will remove a particuler position's value, position define by user\\n    > remove - will remove particuler value from a list, value define by user\\n    > clear -  will delete all values from a list, but list will remain alive in the code\\n    > del - will remove the particuler list from code\""
      ]
     },
     "execution_count": 82,
     "metadata": {},
     "output_type": "execute_result"
    }
   ],
   "source": [
    "# works on list\n",
    "# modifiable\n",
    "# add an element - append, insert, extend, +\n",
    "''' > append - will add an element at the end of the list.\n",
    "    > insert - will add an element to a particuler position, mentioned by user\n",
    "    for an example: list_ex = [11,22,23]\n",
    "    position_0 = 11\n",
    "    position_1 = 22\n",
    "    position_2 = 33\n",
    "    if we write,list name.insert(position,value)\n",
    "                list_ex.insert(1,99)\n",
    "    the value 99 will insert to the position 1 and old value\n",
    "    of position 22 will shift to right side, will increase the length of the list.\n",
    "    new list will be, list_ex = [11,99,22,23]\n",
    "    > extend/+ - will be extend a list by another single/multiple list'''\n",
    "\n",
    "# remove ann element - pop, remove, del, clear\n",
    "''' > pop - will remove a particuler position's value, position define by user\n",
    "    > remove - will remove particuler value from a list, value define by user\n",
    "    > clear -  will delete all values from a list, but list will remain alive in the code\n",
    "    > del - will remove the particuler list from code'''"
   ]
  },
  {
   "cell_type": "code",
   "execution_count": 1,
   "id": "6929eb3c-dd18-4096-821f-7c4860fe9a06",
   "metadata": {},
   "outputs": [],
   "source": [
    "list1=[1,2,'hi',1.2, -2,True]"
   ]
  },
  {
   "cell_type": "code",
   "execution_count": 4,
   "id": "8c6995fd-1d54-4494-9caa-ce1374bb9ad5",
   "metadata": {},
   "outputs": [
    {
     "data": {
      "text/plain": [
       "list"
      ]
     },
     "execution_count": 4,
     "metadata": {},
     "output_type": "execute_result"
    }
   ],
   "source": [
    "type(list1)"
   ]
  },
  {
   "cell_type": "code",
   "execution_count": 7,
   "id": "8bd92c9a-025b-43bb-8235-5a08bace7dcc",
   "metadata": {},
   "outputs": [
    {
     "data": {
      "text/plain": [
       "6"
      ]
     },
     "execution_count": 7,
     "metadata": {},
     "output_type": "execute_result"
    }
   ],
   "source": [
    "len(list1)"
   ]
  },
  {
   "cell_type": "code",
   "execution_count": 11,
   "id": "47b72f64-9edb-4e75-817d-d485fdab96ea",
   "metadata": {},
   "outputs": [],
   "source": [
    "del list1"
   ]
  },
  {
   "cell_type": "code",
   "execution_count": 13,
   "id": "29bf3a48-f22b-41f9-8706-9ab36bff5f09",
   "metadata": {},
   "outputs": [
    {
     "ename": "NameError",
     "evalue": "name 'list1' is not defined",
     "output_type": "error",
     "traceback": [
      "\u001b[1;31m---------------------------------------------------------------------------\u001b[0m",
      "\u001b[1;31mNameError\u001b[0m                                 Traceback (most recent call last)",
      "Cell \u001b[1;32mIn[13], line 1\u001b[0m\n\u001b[1;32m----> 1\u001b[0m \u001b[38;5;28mprint\u001b[39m(list1)\n",
      "\u001b[1;31mNameError\u001b[0m: name 'list1' is not defined"
     ]
    }
   ],
   "source": [
    "print(list1)"
   ]
  },
  {
   "cell_type": "code",
   "execution_count": 21,
   "id": "88317c4a-3122-43b4-8d64-01a4624d38b1",
   "metadata": {},
   "outputs": [],
   "source": [
    "list1=[1,2,'hi',1.2, -2, True]"
   ]
  },
  {
   "cell_type": "code",
   "execution_count": 23,
   "id": "bd6c304f-07f5-478e-a847-05cc8bab37c0",
   "metadata": {},
   "outputs": [
    {
     "name": "stdout",
     "output_type": "stream",
     "text": [
      "[1, 2, 'hi', 1.2, -2, True]\n"
     ]
    }
   ],
   "source": [
    "print(list1)"
   ]
  },
  {
   "cell_type": "code",
   "execution_count": 25,
   "id": "61d0db1e-2b52-4c3c-a5b4-f9ac75bd6dab",
   "metadata": {},
   "outputs": [],
   "source": [
    "list1.insert(2,1000)"
   ]
  },
  {
   "cell_type": "code",
   "execution_count": 27,
   "id": "2f5d620d-f624-41ea-92e5-483bb3d377b6",
   "metadata": {},
   "outputs": [
    {
     "name": "stdout",
     "output_type": "stream",
     "text": [
      "[1, 2, 1000, 'hi', 1.2, -2, True]\n"
     ]
    }
   ],
   "source": [
    "print(list1)"
   ]
  },
  {
   "cell_type": "code",
   "execution_count": 29,
   "id": "3caf15ed-e8c9-4c27-bb52-051475be5499",
   "metadata": {},
   "outputs": [
    {
     "name": "stdout",
     "output_type": "stream",
     "text": [
      "[1, 2, 1000, 'hi', 1.2, -2, True, 250]\n"
     ]
    }
   ],
   "source": [
    "list1.append(250)\n",
    "print(list1)"
   ]
  },
  {
   "cell_type": "code",
   "execution_count": 33,
   "id": "b06fa38b-e2ee-4e06-b1d2-bb67bb13a9be",
   "metadata": {},
   "outputs": [
    {
     "data": {
      "text/plain": [
       "8"
      ]
     },
     "execution_count": 33,
     "metadata": {},
     "output_type": "execute_result"
    }
   ],
   "source": [
    "len(list1)"
   ]
  },
  {
   "cell_type": "code",
   "execution_count": 35,
   "id": "18f9fecc-d0a3-44c8-90f3-551364b63f13",
   "metadata": {},
   "outputs": [],
   "source": [
    "list2=[5,15,25]\n",
    "list3=[101,102,103,104]"
   ]
  },
  {
   "cell_type": "code",
   "execution_count": 37,
   "id": "680c0f40-f5d0-48a9-8d8c-6e14874b1459",
   "metadata": {},
   "outputs": [
    {
     "name": "stdout",
     "output_type": "stream",
     "text": [
      "[1, 2, 1000, 'hi', 1.2, -2, True, 250, 5, 15, 25, 101, 102, 103, 104]\n"
     ]
    }
   ],
   "source": [
    "print(list1+list2+list3)"
   ]
  },
  {
   "cell_type": "code",
   "execution_count": 43,
   "id": "def80747-637b-4885-8432-abd2ce7a3169",
   "metadata": {},
   "outputs": [
    {
     "name": "stdout",
     "output_type": "stream",
     "text": [
      "[1, 2, 1000, 'hi', 1.2, -2, True, 250, 5, 15, 25, 5, 15, 25, 5, 15, 25]\n"
     ]
    }
   ],
   "source": [
    "list1.extend(list2)\n",
    "print(list1)"
   ]
  },
  {
   "cell_type": "code",
   "execution_count": 47,
   "id": "ca93f7a9-1acf-402c-9d08-df9f581da43a",
   "metadata": {},
   "outputs": [
    {
     "name": "stdout",
     "output_type": "stream",
     "text": [
      "[1, 2, 1000, 'hi', 1.2, -2, True, 250, 5, 15, 25, 5, 15, 25, 5, 15, 25, 5, 15, 25, 101, 102, 103, 104]\n"
     ]
    }
   ],
   "source": [
    "list4=list1+list2+list3\n",
    "print(list4)"
   ]
  },
  {
   "cell_type": "code",
   "execution_count": 61,
   "id": "90a5a37c-7398-4ece-81da-8b6089772d8f",
   "metadata": {},
   "outputs": [
    {
     "name": "stdout",
     "output_type": "stream",
     "text": [
      "[1, 2, 1000, 'hi', 1.2, True, 250, 5, 15, 25, 5, 15, 25, 5, 15, 25]\n"
     ]
    }
   ],
   "source": [
    "print(list1)"
   ]
  },
  {
   "cell_type": "code",
   "execution_count": 63,
   "id": "4069a775-4986-4b67-97c8-26fa57e44554",
   "metadata": {},
   "outputs": [
    {
     "name": "stdout",
     "output_type": "stream",
     "text": [
      "[1, 2, 1000, 'hi', True, 250, 5, 15, 25, 5, 15, 25, 5, 15, 25]\n"
     ]
    }
   ],
   "source": [
    "list1.remove(1.2) # remove particuler value from a list\n",
    "print(list1)"
   ]
  },
  {
   "cell_type": "code",
   "execution_count": 65,
   "id": "f9824a7d-a04e-4ff2-b18b-c1f77000594f",
   "metadata": {},
   "outputs": [
    {
     "name": "stdout",
     "output_type": "stream",
     "text": [
      "[2, 1000, 'hi', True, 250, 5, 15, 25, 5, 15, 25, 5, 15, 25]\n"
     ]
    }
   ],
   "source": [
    "list1.pop( 0)\n",
    "print(list1)"
   ]
  },
  {
   "cell_type": "code",
   "execution_count": 67,
   "id": "d0a2d1ca-db25-4e68-90d6-72feedae6382",
   "metadata": {},
   "outputs": [
    {
     "name": "stdout",
     "output_type": "stream",
     "text": [
      "[]\n"
     ]
    }
   ],
   "source": [
    "list1.clear()\n",
    "print(list1)"
   ]
  },
  {
   "cell_type": "code",
   "execution_count": 69,
   "id": "cf6f96ce-c340-4d80-b5e2-08e7dd1a1749",
   "metadata": {},
   "outputs": [
    {
     "ename": "NameError",
     "evalue": "name 'list1' is not defined",
     "output_type": "error",
     "traceback": [
      "\u001b[1;31m---------------------------------------------------------------------------\u001b[0m",
      "\u001b[1;31mNameError\u001b[0m                                 Traceback (most recent call last)",
      "Cell \u001b[1;32mIn[69], line 2\u001b[0m\n\u001b[0;32m      1\u001b[0m \u001b[38;5;28;01mdel\u001b[39;00m list1\n\u001b[1;32m----> 2\u001b[0m \u001b[38;5;28mprint\u001b[39m(list1)\n",
      "\u001b[1;31mNameError\u001b[0m: name 'list1' is not defined"
     ]
    }
   ],
   "source": [
    "del list1\n",
    "print(list1)"
   ]
  },
  {
   "cell_type": "markdown",
   "id": "df7a85d9-bbf1-4616-ba29-44ea737dadb6",
   "metadata": {},
   "source": [
    "# Indexing"
   ]
  },
  {
   "cell_type": "code",
   "execution_count": 84,
   "id": "58cb6903-ca4d-4aa1-8ed9-3a70f3a1b6df",
   "metadata": {},
   "outputs": [],
   "source": [
    "# example\n",
    "#                 list_example = [10, 20, 30, 40, 50, 60]\n",
    "# positive indexing (position) = [0, 1, 2, 3, 4, 5]\n",
    "# Negative indexing (position) = [-6, -5, -4, -3, -2, -1]"
   ]
  },
  {
   "cell_type": "code",
   "execution_count": 86,
   "id": "382c7a50-87e8-4411-8c2a-b52b7cf30cfe",
   "metadata": {},
   "outputs": [
    {
     "name": "stdout",
     "output_type": "stream",
     "text": [
      "10\n"
     ]
    }
   ],
   "source": [
    "list1=[10,20,30,40,50]\n",
    "print(list1[0])"
   ]
  },
  {
   "cell_type": "code",
   "execution_count": 88,
   "id": "8bd52bc4-0c57-453f-8ce2-c844495c6419",
   "metadata": {},
   "outputs": [
    {
     "name": "stdout",
     "output_type": "stream",
     "text": [
      "30\n"
     ]
    }
   ],
   "source": [
    "print(list1[2])"
   ]
  },
  {
   "cell_type": "code",
   "execution_count": 90,
   "id": "6da73232-1428-49be-9595-f399a7e36783",
   "metadata": {},
   "outputs": [
    {
     "name": "stdout",
     "output_type": "stream",
     "text": [
      "2\n"
     ]
    }
   ],
   "source": [
    "print(list1.index(30))"
   ]
  },
  {
   "cell_type": "code",
   "execution_count": null,
   "id": "cd228908-bf68-415a-aad9-151ad551ac55",
   "metadata": {},
   "outputs": [],
   "source": []
  },
  {
   "cell_type": "markdown",
   "id": "e6523b7f-e033-422f-9c53-ae08a2955c20",
   "metadata": {},
   "source": [
    "# Slicing"
   ]
  },
  {
   "cell_type": "code",
   "execution_count": null,
   "id": "08a7227b-f2e2-4143-9868-87a3972836f6",
   "metadata": {},
   "outputs": [],
   "source": [
    "# formula: list_name[start_index:end_index + 1] > for print specific position's value\n"
   ]
  },
  {
   "cell_type": "code",
   "execution_count": 99,
   "id": "cfa4377a-a9a0-4203-8a13-810328610dad",
   "metadata": {},
   "outputs": [
    {
     "name": "stdout",
     "output_type": "stream",
     "text": [
      "[30, 40]\n"
     ]
    }
   ],
   "source": [
    "# list1[s_index:end_index+1] # [10,20,30,40,50]\n",
    "list1=[10,20,30,40,50]\n",
    "print(list1[2:4]) # [2:3+1]"
   ]
  },
  {
   "cell_type": "code",
   "execution_count": 95,
   "id": "2f883e1c-d50e-48b0-b4a8-45895d150888",
   "metadata": {},
   "outputs": [
    {
     "name": "stdout",
     "output_type": "stream",
     "text": [
      "[20, 30, 40]\n"
     ]
    }
   ],
   "source": [
    "print(list1[1:3+1]) # for print values 20-40 from list"
   ]
  },
  {
   "cell_type": "code",
   "execution_count": 101,
   "id": "bee3064c-d719-46b8-8461-3466486ec44e",
   "metadata": {},
   "outputs": [
    {
     "name": "stdout",
     "output_type": "stream",
     "text": [
      "[20, 30]\n"
     ]
    }
   ],
   "source": [
    "print(list1[1:2+1]) # for print values 20-30 from list"
   ]
  },
  {
   "cell_type": "code",
   "execution_count": 105,
   "id": "e7bcae2d-d2c6-4885-b014-d05a1092ec54",
   "metadata": {},
   "outputs": [
    {
     "name": "stdout",
     "output_type": "stream",
     "text": [
      "[20, 30, 40, 50]\n"
     ]
    }
   ],
   "source": [
    "print(list1[1:4+1]) # for print values 20-50 from list"
   ]
  },
  {
   "cell_type": "code",
   "execution_count": 113,
   "id": "ef3fd2d2-38d0-496e-b05e-753c66e3bc71",
   "metadata": {},
   "outputs": [
    {
     "name": "stdout",
     "output_type": "stream",
     "text": [
      "[20, 30, 40, 50]\n"
     ]
    }
   ],
   "source": [
    "print(list1[1:]) # for print values 2-(end element) of the list\n",
    "# here, after ':' <blank> means until last element of the list "
   ]
  },
  {
   "cell_type": "code",
   "execution_count": 115,
   "id": "db78e027-453e-4ce8-9c1c-832652a36347",
   "metadata": {},
   "outputs": [
    {
     "name": "stdout",
     "output_type": "stream",
     "text": [
      "[10, 20, 30]\n"
     ]
    }
   ],
   "source": [
    "print(list1[0:3]) # for print values 10-30 of the list"
   ]
  },
  {
   "cell_type": "code",
   "execution_count": 117,
   "id": "ba28860c-95af-4a53-9abd-7806aac14351",
   "metadata": {},
   "outputs": [
    {
     "name": "stdout",
     "output_type": "stream",
     "text": [
      "[10, 20, 30]\n"
     ]
    }
   ],
   "source": [
    "print(list1[:3]) # for print values 10-30 of the list\n",
    "# here, before ':' <blank> means start from 1st element of the list"
   ]
  },
  {
   "cell_type": "code",
   "execution_count": 119,
   "id": "16d544e5-9bd9-4d63-b919-a8ca3f3d66a6",
   "metadata": {},
   "outputs": [
    {
     "name": "stdout",
     "output_type": "stream",
     "text": [
      "[10, 20, 30, 40, 50]\n"
     ]
    }
   ],
   "source": [
    "# list1[s_index:end_index+1] # [10,20,30,40,50]\n",
    "list1=[10,20,30,40,50]\n",
    "print(list1[0:5])"
   ]
  },
  {
   "cell_type": "code",
   "execution_count": 121,
   "id": "a98923e0-41d9-4edd-a887-6f26e0ec2983",
   "metadata": {},
   "outputs": [
    {
     "name": "stdout",
     "output_type": "stream",
     "text": [
      "[10, 20, 30, 40, 50]\n"
     ]
    }
   ],
   "source": [
    "print(list1[:]) # all element from the list\n",
    "# <blank_before> : <blank_after> , \n",
    "# blank_before means from 1st element\n",
    "# blank_after means until last element"
   ]
  },
  {
   "cell_type": "code",
   "execution_count": 123,
   "id": "07a8eb93-2e49-4f2d-b9fd-38c1b1e6fd12",
   "metadata": {},
   "outputs": [],
   "source": [
    "# negative indexing"
   ]
  },
  {
   "cell_type": "code",
   "execution_count": 135,
   "id": "424c7f61-66a8-41e6-9856-32b9982d8f28",
   "metadata": {},
   "outputs": [
    {
     "name": "stdout",
     "output_type": "stream",
     "text": [
      "40\n"
     ]
    }
   ],
   "source": [
    "list1=[10,20,30,40,50]\n",
    "print(list1[len(list1)-2])\n",
    "# len(list1) = 5\n",
    "# means [5-2] = 3, position 3 value is = 40"
   ]
  },
  {
   "cell_type": "code",
   "execution_count": 145,
   "id": "7f7e24e9-a19d-4108-9d2a-b9308af5b8c4",
   "metadata": {},
   "outputs": [],
   "source": [
    "# example\n",
    "#                 list_example = [ 10, 20, 30, 40, 50]\n",
    "# positive indexing (position) = [ 0,  1,  2,  3,  4]\n",
    "# Negative indexing (position) = [-5, -4, -3, -2, -1]"
   ]
  },
  {
   "cell_type": "code",
   "execution_count": 143,
   "id": "69c6ac8f-20e3-41d9-9c96-202298abbce0",
   "metadata": {},
   "outputs": [
    {
     "name": "stdout",
     "output_type": "stream",
     "text": [
      "30\n"
     ]
    }
   ],
   "source": [
    "list1=[10,20,30,40,50]\n",
    "print(list1[-3])"
   ]
  },
  {
   "cell_type": "code",
   "execution_count": 147,
   "id": "288e20a4-114a-44d2-a49c-23fc047b4e80",
   "metadata": {},
   "outputs": [
    {
     "name": "stdout",
     "output_type": "stream",
     "text": [
      "10\n"
     ]
    }
   ],
   "source": [
    "list1=[10,20,30,40,50]\n",
    "print(list1[-5])"
   ]
  },
  {
   "cell_type": "code",
   "execution_count": 153,
   "id": "767fa845-79a4-4c90-a8ca-558037b6cbc4",
   "metadata": {},
   "outputs": [
    {
     "name": "stdout",
     "output_type": "stream",
     "text": [
      "[20, 30, 40]\n"
     ]
    }
   ],
   "source": [
    "# formula for negative indexing: \n",
    "# list_name[start_index:end_index + 1] > for print specific position's value\n",
    "list1=[10,20,30,40,50]\n",
    "print(list1[-4:-2+1])"
   ]
  },
  {
   "cell_type": "code",
   "execution_count": 155,
   "id": "979fc298-6584-458e-867a-7e6f8677714b",
   "metadata": {},
   "outputs": [
    {
     "name": "stdout",
     "output_type": "stream",
     "text": [
      "[20, 30, 40]\n"
     ]
    }
   ],
   "source": [
    "list1=[10,20,30,40,50]\n",
    "print(list1[-4:-1])"
   ]
  },
  {
   "cell_type": "code",
   "execution_count": 157,
   "id": "242e72ee-106e-4c6f-9736-9bbdd7e99b9f",
   "metadata": {},
   "outputs": [
    {
     "name": "stdout",
     "output_type": "stream",
     "text": [
      "[10, 20, 30, 40]\n"
     ]
    }
   ],
   "source": [
    "list1=[10,20,30,40,50]\n",
    "print(list1[:-1])"
   ]
  },
  {
   "cell_type": "code",
   "execution_count": 159,
   "id": "8bdcda77-37a8-4152-b6ae-b1772674638d",
   "metadata": {},
   "outputs": [
    {
     "name": "stdout",
     "output_type": "stream",
     "text": [
      "[10, 20, 30, 40, 50]\n"
     ]
    }
   ],
   "source": [
    "list1=[10,20,30,40,50]\n",
    "print(list1[-5:])"
   ]
  },
  {
   "cell_type": "code",
   "execution_count": 161,
   "id": "f99bb2eb-cb8a-4b1d-a8c2-18102a31f0be",
   "metadata": {},
   "outputs": [
    {
     "name": "stdout",
     "output_type": "stream",
     "text": [
      "[10, 20, 30, 40]\n"
     ]
    }
   ],
   "source": [
    "list1=[10,20,30,40,50]\n",
    "print(list1[-5:-1]) # [-5:-2+1]"
   ]
  },
  {
   "cell_type": "code",
   "execution_count": 169,
   "id": "30690c04-628a-49c4-8189-a41eda16567d",
   "metadata": {},
   "outputs": [
    {
     "data": {
      "text/plain": [
       "-3"
      ]
     },
     "execution_count": 169,
     "metadata": {},
     "output_type": "execute_result"
    }
   ],
   "source": [
    "# example\n",
    "#                 list_example = [ 10, 20, 30, 40, 50]\n",
    "# positive indexing (position) = [ 0,  1,  2,  3,  4]\n",
    "# Negative indexing (position) = [-5, -4, -3, -2, -1]\n",
    "list1=[10,20,30,40,50]\n",
    "-len(list1)+list1.index(30)\n",
    "# here, len(list1)=5\n",
    "# -len(list1) = -5\n",
    "# list1.index(30) = 2\n",
    "# -5+2 = -3 (result)"
   ]
  },
  {
   "cell_type": "code",
   "execution_count": 171,
   "id": "a9b882e0-607a-49eb-a8c2-978ed7cc58d8",
   "metadata": {},
   "outputs": [],
   "source": [
    "# interval /skip\n"
   ]
  },
  {
   "cell_type": "code",
   "execution_count": 173,
   "id": "ac59bafc-cdd8-4906-a917-674b168488ac",
   "metadata": {},
   "outputs": [],
   "source": [
    "list1= [10,'a',20,'b',30,'c',40,'d',50]"
   ]
  },
  {
   "cell_type": "code",
   "execution_count": 179,
   "id": "585da162-8f5d-4a61-b503-ec24d9c1856f",
   "metadata": {},
   "outputs": [
    {
     "data": {
      "text/plain": [
       "[10, 20, 30, 40, 50]"
      ]
     },
     "execution_count": 179,
     "metadata": {},
     "output_type": "execute_result"
    }
   ],
   "source": [
    "# for print all alphabet from list by skippling\n",
    "# formula for skip in indexing: \n",
    "# list_name[start_index:end_index + 1:gap+1]\n",
    "list1= [10,'a',20,'b',30,'c',40,'d',50]\n",
    "list1[0:len(list1)+1:1+1]\n",
    "# len(list1) = 9\n",
    "# len(list1) + 1 = 9+1 = 10\n",
    "# for gap, gap + 1 = 1+1 = 2\n",
    "# so, [0:10:2]\n",
    "# output, start from index 0, value = 10,\n",
    "# 10 means, end at index 10, but, here list has 9 element\n",
    "# steps by 2, means, select every 2nd element\n",
    "# output calculate by start by 10 and step 2\n",
    "# output: [10,20,30,40,50]"
   ]
  },
  {
   "cell_type": "code",
   "execution_count": 181,
   "id": "b9f1de9a-2f3f-41bb-bc8c-10c34df186c6",
   "metadata": {},
   "outputs": [
    {
     "data": {
      "text/plain": [
       "['a', 'b', 'c', 'd']"
      ]
     },
     "execution_count": 181,
     "metadata": {},
     "output_type": "execute_result"
    }
   ],
   "source": [
    "list1= [10,'a',20,'b',30,'c',40,'d',50]\n",
    "list1[1:len(list1)+1:1+1] # start fro position 1"
   ]
  },
  {
   "cell_type": "code",
   "execution_count": 183,
   "id": "a8108f70-4d88-4525-8c13-d3836921c5a6",
   "metadata": {},
   "outputs": [
    {
     "data": {
      "text/plain": [
       "[10, 'b', 40]"
      ]
     },
     "execution_count": 183,
     "metadata": {},
     "output_type": "execute_result"
    }
   ],
   "source": [
    "list1= [10,'a',20,'b',30,'c',40,'d',50]\n",
    "list1[0:len(list1)+1:2+1] # gap by 2"
   ]
  },
  {
   "cell_type": "code",
   "execution_count": 185,
   "id": "afd4ba6a-64f4-495b-99fe-66ffaaeb8f1d",
   "metadata": {},
   "outputs": [
    {
     "data": {
      "text/plain": [
       "[10, 30, 50]"
      ]
     },
     "execution_count": 185,
     "metadata": {},
     "output_type": "execute_result"
    }
   ],
   "source": [
    "list1= [10,'a',20,'b',30,'c',40,'d',50]\n",
    "list1[0:len(list1)+1:3+1] # gap by 3"
   ]
  },
  {
   "cell_type": "code",
   "execution_count": 187,
   "id": "957ff195-fcd7-4547-94fd-42e813d77217",
   "metadata": {},
   "outputs": [
    {
     "data": {
      "text/plain": [
       "[10, 'c']"
      ]
     },
     "execution_count": 187,
     "metadata": {},
     "output_type": "execute_result"
    }
   ],
   "source": [
    "list1= [10,'a',20,'b',30,'c',40,'d',50]\n",
    "list1[0:len(list1)+1:4+1] # gap by 4"
   ]
  },
  {
   "cell_type": "code",
   "execution_count": 189,
   "id": "aca98852-c10f-4b30-b7f1-b87c177dcc38",
   "metadata": {},
   "outputs": [],
   "source": [
    "#slicing by negative indexing\n"
   ]
  },
  {
   "cell_type": "code",
   "execution_count": 191,
   "id": "794c19ca-ce39-48dc-ad4c-7ab9a72b11f5",
   "metadata": {},
   "outputs": [
    {
     "data": {
      "text/plain": [
       "[10, 'a', 20, 'b', 30, 'c', 40, 'd', 50]"
      ]
     },
     "execution_count": 191,
     "metadata": {},
     "output_type": "execute_result"
    }
   ],
   "source": [
    "list1= [10,'a',20,'b',30,'c',40,'d',50]\n",
    "list1[-9:]"
   ]
  },
  {
   "cell_type": "code",
   "execution_count": 195,
   "id": "7d8ca906-0ae3-4e66-831e-9524b6e8ec1d",
   "metadata": {},
   "outputs": [
    {
     "data": {
      "text/plain": [
       "[50, 40, 30, 20, 10]"
      ]
     },
     "execution_count": 195,
     "metadata": {},
     "output_type": "execute_result"
    }
   ],
   "source": [
    "# formula for skip by negative indexing: \n",
    "# list_name[start_index:end_index + 1:-(gap+1)]\n",
    "list1= [10,'a',20,'b',30,'c',40,'d',50]\n",
    "list1[::-2] # -(gap+1) = -(1+1); gap by 1"
   ]
  },
  {
   "cell_type": "code",
   "execution_count": 203,
   "id": "0d6d8581-1085-4e00-a285-2d84b05dcd14",
   "metadata": {},
   "outputs": [
    {
     "data": {
      "text/plain": [
       "[50, 'd', 40, 'c', 30, 'b', 20, 'a', 10]"
      ]
     },
     "execution_count": 203,
     "metadata": {},
     "output_type": "execute_result"
    }
   ],
   "source": [
    "list1= [10,'a',20,'b',30,'c',40,'d',50]\n",
    "list1[::-1]"
   ]
  },
  {
   "cell_type": "code",
   "execution_count": 205,
   "id": "6c00a809-dd1c-4e07-b9f0-31fccdeaf569",
   "metadata": {},
   "outputs": [
    {
     "data": {
      "text/plain": [
       "[50, 'd', 40, 'c', 30, 'b', 20, 'a', 10]"
      ]
     },
     "execution_count": 205,
     "metadata": {},
     "output_type": "execute_result"
    }
   ],
   "source": [
    "# for reverse a list\n",
    "# formula:\n",
    "# list_name[start_index_reverse:end_index_reverse:-1]\n",
    "# here, mainly, -1 indicate the reverse list according to index\n",
    "list1= [10,'a',20,'b',30,'c',40,'d',50]\n",
    "list1[9::-1]"
   ]
  },
  {
   "cell_type": "code",
   "execution_count": 219,
   "id": "2b2fff3a-d0f2-4cb3-94e2-838784252044",
   "metadata": {},
   "outputs": [
    {
     "data": {
      "text/plain": [
       "[40, 'c', 30, 'b', 20, 'a']"
      ]
     },
     "execution_count": 219,
     "metadata": {},
     "output_type": "execute_result"
    }
   ],
   "source": [
    "list1= [10,'a',20,'b',30,'c',40,'d',50] # for print 40 to a\n",
    "list1[6:1-1:-1]\n",
    "# list =  [10,'a', 20, 'b', 30, 'c', 40, 'd',  50]\n",
    "# index = [0,  1,  2,   3,   4,  5,   6,  7,   8]\n",
    "# 6 = index 6 = 40\n",
    "# end = 1-1 = 0, (exclude index 0), because index =1 for end\n",
    "# step = -1 (means reverse)"
   ]
  },
  {
   "cell_type": "code",
   "execution_count": 209,
   "id": "075117a1-ef34-4609-8fc7-0039fe81f97c",
   "metadata": {},
   "outputs": [
    {
     "data": {
      "text/plain": [
       "[40, 'c', 30, 'b', 20]"
      ]
     },
     "execution_count": 209,
     "metadata": {},
     "output_type": "execute_result"
    }
   ],
   "source": [
    "list1= [10,'a',20,'b',30,'c',40,'d',50] # for print 40 to 20\n",
    "list1[6:2-1:-1]"
   ]
  },
  {
   "cell_type": "code",
   "execution_count": 211,
   "id": "90b7fb1f-03a0-4e5b-a32e-154a4ae14e1d",
   "metadata": {},
   "outputs": [
    {
     "data": {
      "text/plain": [
       "[40, 'b']"
      ]
     },
     "execution_count": 211,
     "metadata": {},
     "output_type": "execute_result"
    }
   ],
   "source": [
    "list1= [10,'a',20,'b',30,'c',40,'d',50] # for print 40 to 20 step by 2\n",
    "list1[6:2-1:-(2+1)]"
   ]
  },
  {
   "cell_type": "code",
   "execution_count": 223,
   "id": "cba82f87-f2ae-4480-917c-647d3ca3c12d",
   "metadata": {},
   "outputs": [
    {
     "data": {
      "text/plain": [
       "['b', 20, 'a']"
      ]
     },
     "execution_count": 223,
     "metadata": {},
     "output_type": "execute_result"
    }
   ],
   "source": [
    "list1= [10,'a',20,'b',30,'c',40,'d',50] # for print 40 to 20 step by 2\n",
    "list1[3:0:-1]\n",
    "# list =  [10,'a', 20, 'b', 30, 'c', 40, 'd',  50]\n",
    "# index = [0,  1,  2,   3,   4,  5,   6,  7,   8]\n",
    "# start = 3 = b\n",
    "# end = 0 = 1-1 = print until index 1\n",
    "# -1 = -(gap+1) = -(0-1) = 0 step in reverse (-) means reverse"
   ]
  },
  {
   "cell_type": "code",
   "execution_count": null,
   "id": "6689b2a8-a8fd-4024-ba4e-b0f1ca5d8949",
   "metadata": {},
   "outputs": [],
   "source": [
    "# list in summery\n",
    "#=================\n",
    "# Allow duplicate value\n",
    "# support multiple data type in a list\n",
    "# indexing (positive, negative)\n",
    "# slicing (positive, negative)\n",
    "# modification support like: add, remove, insert, pop, extend, clear, del\n",
    "# support item assignment"
   ]
  }
 ],
 "metadata": {
  "kernelspec": {
   "display_name": "Python [conda env:base] *",
   "language": "python",
   "name": "conda-base-py"
  },
  "language_info": {
   "codemirror_mode": {
    "name": "ipython",
    "version": 3
   },
   "file_extension": ".py",
   "mimetype": "text/x-python",
   "name": "python",
   "nbconvert_exporter": "python",
   "pygments_lexer": "ipython3",
   "version": "3.12.7"
  }
 },
 "nbformat": 4,
 "nbformat_minor": 5
}
