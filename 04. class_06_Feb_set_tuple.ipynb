{
 "cells": [
  {
   "cell_type": "markdown",
   "id": "6085eb64-ad29-493d-8eeb-dd6c5c1ea4c8",
   "metadata": {},
   "source": [
    "# Set data structure"
   ]
  },
  {
   "cell_type": "code",
   "execution_count": 4,
   "id": "9f225a08-55f3-4cdd-bdc0-cb820d06787d",
   "metadata": {},
   "outputs": [
    {
     "name": "stdout",
     "output_type": "stream",
     "text": [
      "<class 'set'>\n"
     ]
    }
   ],
   "source": [
    "set1={2,3}\n",
    "print(type(set1))  # for print the data type"
   ]
  },
  {
   "cell_type": "code",
   "execution_count": 6,
   "id": "25928fda-3b1a-4332-a132-dfa1cac676e4",
   "metadata": {},
   "outputs": [
    {
     "name": "stdout",
     "output_type": "stream",
     "text": [
      "2\n"
     ]
    }
   ],
   "source": [
    "print(len(set1))  # for print the length of dataset named 'set1'"
   ]
  },
  {
   "cell_type": "code",
   "execution_count": 8,
   "id": "5ade8982-7963-4be0-8cba-bfaaad49a856",
   "metadata": {},
   "outputs": [
    {
     "name": "stdout",
     "output_type": "stream",
     "text": [
      "{1, 2, 3, 4, 10, 12, 14, 16}\n"
     ]
    }
   ],
   "source": [
    "set2={1,1,2,2,3,3,4,4,10,12,14,16}\n",
    "print(set2)"
   ]
  },
  {
   "cell_type": "code",
   "execution_count": null,
   "id": "f07b51bd-971a-4676-ada0-ae04ddc3b099",
   "metadata": {},
   "outputs": [],
   "source": [
    "#     feature                     [list]                     {set}\n",
    "# ------------------------------------------------------------------------------\n",
    "# Duplicate value             -   allow                -    Not allow\n",
    "# Multiple data type          -   supported            -    supported\n",
    "# indexing                    -   allow                -    Not allow\n",
    "# slicing                     -   allow                -    Not allow\n",
    "# Unique Value                -   cannot make unique   -    make unique automatic\n",
    "# ordered (user input)        -   ordered              -    not ordered\n",
    "# item assignment/replace     -   supported            -    not supported\n",
    "# modification                -   supported            -    supported"
   ]
  },
  {
   "cell_type": "code",
   "execution_count": 12,
   "id": "65b0975e-aa5a-4d94-b7f2-b6a0e128cb24",
   "metadata": {},
   "outputs": [
    {
     "name": "stdout",
     "output_type": "stream",
     "text": [
      "{1, 2, 3, 4, 10, 12, 14, 16}\n"
     ]
    }
   ],
   "source": [
    "set3={1,1,2,2,3,3,4,4,16,14,10,12}  # data is in descending in set\n",
    "print(set3)                         # set will make ascending automatically"
   ]
  },
  {
   "cell_type": "code",
   "execution_count": 16,
   "id": "fd4a1562-e652-437e-b18c-ae5a64d51a97",
   "metadata": {},
   "outputs": [
    {
     "name": "stdout",
     "output_type": "stream",
     "text": [
      "{1, 2, 3, 4, 'a', 'c', 10, 12, 14, 16, 'b'}\n"
     ]
    }
   ],
   "source": [
    "set3={1,1,2,2,3,3,4,4,16,14,10,12,'a','c','b'}  # data is in descending in set\n",
    "print(set3)"
   ]
  },
  {
   "cell_type": "code",
   "execution_count": 20,
   "id": "872ced53-c636-4d23-bfb3-d5472db1ca98",
   "metadata": {},
   "outputs": [
    {
     "name": "stdout",
     "output_type": "stream",
     "text": [
      "{1, 2, 3, 100}\n",
      "{1, 2, 100}\n"
     ]
    }
   ],
   "source": [
    "set4={1,2,3}\n",
    "set4.add(100)   # for add data in set use function \"add\"\n",
    "print(set4)\n",
    "set4.remove(3)  # for remove data from set use function \"remove\"\n",
    "print(set4)     "
   ]
  },
  {
   "cell_type": "code",
   "execution_count": 46,
   "id": "b3e62bbb-8637-45b3-959c-ab5d0dfa6a40",
   "metadata": {},
   "outputs": [
    {
     "name": "stdout",
     "output_type": "stream",
     "text": [
      "{2, 3, 'a', 'b', 11}\n"
     ]
    }
   ],
   "source": [
    "set5={'b',11,2,1,3,'a'}\n",
    "set5.pop()     # pop will remove data randomly from set\n",
    "print(set5)"
   ]
  },
  {
   "cell_type": "code",
   "execution_count": 48,
   "id": "fa2cc1db-31f9-4f06-a06c-dbf98eb2a777",
   "metadata": {},
   "outputs": [
    {
     "name": "stdout",
     "output_type": "stream",
     "text": [
      "{2, 3, 'a', 11}\n"
     ]
    }
   ],
   "source": [
    "set5={11,2,1,3,'a'}\n",
    "set5.pop()     # pop will remove data randomly from set\n",
    "print(set5)"
   ]
  },
  {
   "cell_type": "code",
   "execution_count": 50,
   "id": "e4f71ecc-3a13-4d51-844a-6b1d8504d482",
   "metadata": {},
   "outputs": [
    {
     "name": "stdout",
     "output_type": "stream",
     "text": [
      "{2, 3, 'a'}\n"
     ]
    }
   ],
   "source": [
    "set5={11,2,3,'a'}\n",
    "set5.pop()     # pop will remove data randomly from set\n",
    "print(set5)"
   ]
  },
  {
   "cell_type": "code",
   "execution_count": 52,
   "id": "4e31baf1-9c70-4def-96c9-87af593da255",
   "metadata": {},
   "outputs": [
    {
     "name": "stdout",
     "output_type": "stream",
     "text": [
      "{1, 2, 3, 4}\n"
     ]
    }
   ],
   "source": [
    "set6={1,3}\n",
    "set7={2,4}\n",
    "set7.update(set6)  # use finction 'update' to add multiple set, also 'add'\n",
    "print(set7)"
   ]
  },
  {
   "cell_type": "code",
   "execution_count": 58,
   "id": "7431ed38-f76b-4755-867a-b5c849214a5c",
   "metadata": {},
   "outputs": [
    {
     "data": {
      "text/plain": [
       "{4, 5}"
      ]
     },
     "execution_count": 58,
     "metadata": {},
     "output_type": "execute_result"
    }
   ],
   "source": [
    "set8={1,2,3,4,5}\n",
    "set9={4,5,6,7,8,9}\n",
    "set8.intersection(set9)  # to get common element from both set"
   ]
  },
  {
   "cell_type": "code",
   "execution_count": 68,
   "id": "e904796f-56ec-43b4-b992-fe4b3f8f3023",
   "metadata": {},
   "outputs": [
    {
     "data": {
      "text/plain": [
       "{1, 2, 3, 4, 5, 6, 7, 8, 9}"
      ]
     },
     "execution_count": 68,
     "metadata": {},
     "output_type": "execute_result"
    }
   ],
   "source": [
    "set8={1,2,3,4,5}\n",
    "set9={4,5,6,7,8,9}\n",
    "set8.union(set9)  # to get all element from both set"
   ]
  },
  {
   "cell_type": "code",
   "execution_count": 74,
   "id": "35a2af01-96a3-49e1-acd1-a7757c2e5a75",
   "metadata": {},
   "outputs": [
    {
     "name": "stdout",
     "output_type": "stream",
     "text": [
      "{1, 2, 3, 4, 5, 6, 7, 8, 9}\n"
     ]
    }
   ],
   "source": [
    "set8={1,2,3,4,5}\n",
    "set9={4,5,6,7,8,9}\n",
    "set8.update(set9)  # to get all element or add multiple set\n",
    "print(set8)"
   ]
  },
  {
   "cell_type": "code",
   "execution_count": 80,
   "id": "65ec873a-a3b9-465e-876f-c4e5de00276f",
   "metadata": {},
   "outputs": [
    {
     "data": {
      "text/plain": [
       "{1, 2, 3}"
      ]
     },
     "execution_count": 80,
     "metadata": {},
     "output_type": "execute_result"
    }
   ],
   "source": [
    "set8={1,2,3,4,5}\n",
    "set9={4,5,6,7,8,9}\n",
    "set8-set9 # remove those element from set8, which are present in set9, print set 8"
   ]
  },
  {
   "cell_type": "code",
   "execution_count": 86,
   "id": "755d1002-c0b6-4247-8c99-d68dcf899402",
   "metadata": {},
   "outputs": [
    {
     "data": {
      "text/plain": [
       "{6, 7, 8, 9}"
      ]
     },
     "execution_count": 86,
     "metadata": {},
     "output_type": "execute_result"
    }
   ],
   "source": [
    "set8={1,2,3,4,5}\n",
    "set9={4,5,6,7,8,9}\n",
    "set9-set8 # remove those element from set8, which are present in set8, print set 9"
   ]
  },
  {
   "cell_type": "code",
   "execution_count": 88,
   "id": "fa3ce25f-3e97-4d15-b9fa-fa0c8b930b39",
   "metadata": {},
   "outputs": [
    {
     "data": {
      "text/plain": [
       "{6, 7, 8, 9}"
      ]
     },
     "execution_count": 88,
     "metadata": {},
     "output_type": "execute_result"
    }
   ],
   "source": [
    "set8={1,2,3,4,5}\n",
    "set9={4,5,6,7,8,9}\n",
    "set9.difference(set8) # remove those element from set8, which are present in set8, print set 9"
   ]
  },
  {
   "cell_type": "code",
   "execution_count": 90,
   "id": "f9a548cd-ae65-4f75-959c-6e02565110e1",
   "metadata": {},
   "outputs": [],
   "source": [
    "# '-' and 'difference' we can use sor same case"
   ]
  },
  {
   "cell_type": "code",
   "execution_count": null,
   "id": "81d75542-9965-4f67-a7d2-08d3cc93accd",
   "metadata": {},
   "outputs": [],
   "source": [
    "# when use set\n",
    "#--------------\n",
    "# where no need indexing\n",
    "# where no need slicing\n",
    "# where need unique value"
   ]
  },
  {
   "cell_type": "markdown",
   "id": "f2157841-672f-4f3e-84d2-c27e983044be",
   "metadata": {},
   "source": [
    "# list to set convert"
   ]
  },
  {
   "cell_type": "code",
   "execution_count": 95,
   "id": "5f66d295-852d-4a82-8c54-a10e2a6c3af9",
   "metadata": {},
   "outputs": [
    {
     "name": "stdout",
     "output_type": "stream",
     "text": [
      "{1, 2, 3, 4, 'a', 'c', 'b'}\n"
     ]
    }
   ],
   "source": [
    "list1=[1,2,3,4,1,2,3,'a','b',4,'b','c']\n",
    "set10=set(list1) # will print unique value from list and convert to set, no order follow\n",
    "print(set10)"
   ]
  },
  {
   "cell_type": "markdown",
   "id": "a6652fea-f8a7-4a4a-b3b3-2b3133e5a2a6",
   "metadata": {},
   "source": [
    "# set to list convert"
   ]
  },
  {
   "cell_type": "code",
   "execution_count": 110,
   "id": "7bab09cc-237a-4223-881f-e199c4955b77",
   "metadata": {},
   "outputs": [
    {
     "name": "stdout",
     "output_type": "stream",
     "text": [
      "[1, 2, 3, 'a', 5, 4, 6, 'c', 7, 'b']\n"
     ]
    }
   ],
   "source": [
    "set_11={1,2,'a',3,5,'c',2,3,4,'a',5,6,7,'b'}\n",
    "list_2=list(set_11) # will take unique value (no duplicate) from set, convert to list (not follow order)\n",
    "print(list_2)"
   ]
  },
  {
   "cell_type": "markdown",
   "id": "a8b47751-fd52-4acc-96e4-3dbab88b8f62",
   "metadata": {},
   "source": [
    "# tuple"
   ]
  },
  {
   "cell_type": "code",
   "execution_count": 113,
   "id": "e4189045-6dd7-43cd-9cd4-ff5c4b8787da",
   "metadata": {},
   "outputs": [],
   "source": [
    "#list VS tuple"
   ]
  },
  {
   "cell_type": "code",
   "execution_count": null,
   "id": "91ef2bd2-dc0c-4cc9-a690-59e32bdc3a54",
   "metadata": {},
   "outputs": [],
   "source": [
    "#     feature                     [list]                     {set}                         (tuple)\n",
    "# -----------------------------------------------------------------------------------------------------\n",
    "# Duplicate value             -   allow                -    Not allow                   -  allow\n",
    "# Multiple data type          -   supported            -    supported                   -  supported\n",
    "# indexing                    -   allow                -    Not allow                   -  allow\n",
    "# slicing                     -   allow                -    Not allow                   -  allow\n",
    "# Unique Value                -   cannot make unique   -    make unique automatic       -  cannot make unique\n",
    "# ordered (user input)        -   ordered              -    not ordered                 -  ordered \n",
    "# item assignment/replace     -   supported            -    not supported               -  Not supported\n",
    "# modification                -   supported            -    supported                   -  Not supported\n",
    "# nested                      -   allow                -    not allow                   -  allow"
   ]
  },
  {
   "cell_type": "code",
   "execution_count": 121,
   "id": "de413231-7051-46d2-991d-c84c4019f25a",
   "metadata": {},
   "outputs": [
    {
     "name": "stdout",
     "output_type": "stream",
     "text": [
      "<class 'tuple'>\n",
      "6\n",
      "(1, 1, 2, 4, 3, 0)\n"
     ]
    }
   ],
   "source": [
    "tuple1=(1,1,2,4,3,0)\n",
    "print(type(tuple1))\n",
    "print(len(tuple1))\n",
    "print(tuple1)"
   ]
  },
  {
   "cell_type": "code",
   "execution_count": 127,
   "id": "2a859c60-51c0-45b6-ba7f-a671a7fb1f14",
   "metadata": {},
   "outputs": [
    {
     "data": {
      "text/plain": [
       "(1, 2, 3)"
      ]
     },
     "execution_count": 127,
     "metadata": {},
     "output_type": "execute_result"
    }
   ],
   "source": [
    "tup_2=(1,2,3,5,7,10)\n",
    "tup_2[:3] # means [0:2+1],[index_start:index_end+1]; indexing to print from index 0 to index2"
   ]
  },
  {
   "cell_type": "code",
   "execution_count": 129,
   "id": "30cae376-199c-407b-93eb-82b18f8b600f",
   "metadata": {},
   "outputs": [],
   "source": [
    "# not support add, replace even item assignment"
   ]
  },
  {
   "cell_type": "code",
   "execution_count": 135,
   "id": "b57afe49-dcd2-4e6a-96db-f260dd45f95c",
   "metadata": {},
   "outputs": [
    {
     "name": "stdout",
     "output_type": "stream",
     "text": [
      "<class 'list'>\n",
      "8\n"
     ]
    }
   ],
   "source": [
    "# example of nested list\n",
    "list_11=[1,'a',[2,4],2,1,{'a',5},3, 6]   # nested list\n",
    "print(type(list_11))\n",
    "print(len(list_11))"
   ]
  },
  {
   "cell_type": "code",
   "execution_count": 141,
   "id": "bc009611-e2c5-43a6-8cd3-7365a1ff49aa",
   "metadata": {},
   "outputs": [
    {
     "name": "stdout",
     "output_type": "stream",
     "text": [
      "<class 'int'>\n",
      "<class 'str'>\n",
      "<class 'list'>\n",
      "<class 'int'>\n",
      "<class 'int'>\n",
      "<class 'set'>\n",
      "<class 'int'>\n",
      "<class 'int'>\n"
     ]
    }
   ],
   "source": [
    "print(type(list_11[0]))  # print data type of index 0 of the list (integer)\n",
    "print(type(list_11[1]))  # print data type of index 1 of the list (string)\n",
    "print(type(list_11[2]))  # print data type of index 2 of the list (list)\n",
    "print(type(list_11[3]))  # print data type of index 3 of the list (integer)\n",
    "print(type(list_11[4]))  # print data type of index 4 of the list (integer)\n",
    "print(type(list_11[5]))  # print data type of index 5 of the list (set)\n",
    "print(type(list_11[6]))  # print data type of index 6 of the list (integer)\n",
    "print(type(list_11[7]))  # print data type of index 7 of the list (integer)"
   ]
  },
  {
   "cell_type": "code",
   "execution_count": 145,
   "id": "4f986d02-ac95-43c7-9353-637f512fc585",
   "metadata": {},
   "outputs": [
    {
     "name": "stdout",
     "output_type": "stream",
     "text": [
      "2\n"
     ]
    }
   ],
   "source": [
    "# find data from nested list\n",
    "print(list_11[2][0])  # means, in the list_11 has nested list in index 2, in the nested list, there index o value is 2"
   ]
  },
  {
   "cell_type": "code",
   "execution_count": 147,
   "id": "095c69bc-60ac-41d3-95ba-645a3bc724a6",
   "metadata": {},
   "outputs": [
    {
     "ename": "TypeError",
     "evalue": "'set' object is not subscriptable",
     "output_type": "error",
     "traceback": [
      "\u001b[1;31m-------------------------------------------------------------------\u001b[0m",
      "\u001b[1;31mTypeError\u001b[0m                         Traceback (most recent call last)",
      "Cell \u001b[1;32mIn[147], line 1\u001b[0m\n\u001b[1;32m----> 1\u001b[0m \u001b[38;5;28mprint\u001b[39m(list_11[\u001b[38;5;241m5\u001b[39m][\u001b[38;5;241m0\u001b[39m])\n",
      "\u001b[1;31mTypeError\u001b[0m: 'set' object is not subscriptable"
     ]
    }
   ],
   "source": [
    "print(list_11[5][0]) # index 5 has set, set not allow indexing, so error"
   ]
  },
  {
   "cell_type": "code",
   "execution_count": 153,
   "id": "6c6082bd-f6f6-4c9d-b82f-35278e99ef7f",
   "metadata": {},
   "outputs": [
    {
     "name": "stdout",
     "output_type": "stream",
     "text": [
      "[1, 'a', ['Hello', 4], 2, 1, {'a', 5}, 3, 6]\n"
     ]
    }
   ],
   "source": [
    "list_11[2][0]='Hello'  # change the value in nested list, from integer 2 to string 'Hellow'\n",
    "print(list_11)"
   ]
  },
  {
   "cell_type": "code",
   "execution_count": 159,
   "id": "bc9180c5-6921-4250-8295-c5f6d014de3a",
   "metadata": {},
   "outputs": [
    {
     "name": "stdout",
     "output_type": "stream",
     "text": [
      "[1, 'a', ['Hello', 'Python'], 2, 1, {'a', 5}, 3, 6]\n"
     ]
    }
   ],
   "source": [
    "list_11[2][1]='Python'  # change the value in nested list, from integer 4 to string 'Python'\n",
    "print(list_11)"
   ]
  },
  {
   "cell_type": "code",
   "execution_count": 163,
   "id": "01a78ed5-7ce8-4ed5-9943-9b576fc90d4a",
   "metadata": {},
   "outputs": [],
   "source": [
    "# If there any tuple carry a list/set inside the tuple - list type cannot be change if we change tuple to any other data type\n",
    "# but, the values present in the list can be modified as usual"
   ]
  }
 ],
 "metadata": {
  "kernelspec": {
   "display_name": "Python [conda env:base] *",
   "language": "python",
   "name": "conda-base-py"
  },
  "language_info": {
   "codemirror_mode": {
    "name": "ipython",
    "version": 3
   },
   "file_extension": ".py",
   "mimetype": "text/x-python",
   "name": "python",
   "nbconvert_exporter": "python",
   "pygments_lexer": "ipython3",
   "version": "3.12.7"
  }
 },
 "nbformat": 4,
 "nbformat_minor": 5
}
