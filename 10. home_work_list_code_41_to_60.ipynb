{
 "cells": [
  {
   "cell_type": "markdown",
   "id": "1e4ea9cc-b991-471f-974a-785aac9b50e6",
   "metadata": {},
   "source": [
    "# 41. Write a Python program to create multiple lists. "
   ]
  },
  {
   "cell_type": "code",
   "execution_count": 4,
   "id": "fb70be96-8c27-43d8-8df9-c486c561297a",
   "metadata": {},
   "outputs": [
    {
     "name": "stdout",
     "output_type": "stream",
     "text": [
      "{1: [], 2: [], 3: [], 4: [], 5: [], 6: [], 7: [], 8: [], 9: [], 10: [], 11: [], 12: [], 13: [], 14: [], 15: []}\n"
     ]
    }
   ],
   "source": [
    "mul_list = {}\n",
    "def mult_list (a,b):\n",
    "    for i in range (a,b):\n",
    "        mul_list[i] = []\n",
    "\n",
    "mult_list(1,16)\n",
    "print(mul_list)        "
   ]
  },
  {
   "cell_type": "markdown",
   "id": "75c685f1-6d12-4ea2-9ff4-6e9ebb25e637",
   "metadata": {},
   "source": [
    "# 42. Write a Python program to find missing and additional values in two lists.\n",
    "# Sample data : Missing values in second list: b,a,c \n",
    "# Additional values in second list: g,h"
   ]
  },
  {
   "cell_type": "code",
   "execution_count": 1,
   "id": "b6d261df-cf11-44f7-b7dc-2315f7ecad55",
   "metadata": {},
   "outputs": [
    {
     "name": "stdout",
     "output_type": "stream",
     "text": [
      "Missing values in second list\t\t: ['t', 'u', 'g', 'c']\n",
      "Additional values in second list\t: ['p', 'q', 'x']\n"
     ]
    }
   ],
   "source": [
    "lst_01 = [\"a\",\"c\",\"d\",\"g\",\"u\",\"t\",\"e\"]\n",
    "lst_02 = [\"d\",\"e\",\"a\",\"q\",\"x\",\"p\"]\n",
    "\n",
    "miss_val_ls2 = set(lst_01) - set(lst_02)\n",
    "print(f\"Missing values in second list\\t\\t: {list(miss_val_ls2)}\")\n",
    "add_val_ls2 = set(lst_02) - set(lst_01)\n",
    "print(f\"Additional values in second list\\t: {list(add_val_ls2)}\")"
   ]
  },
  {
   "cell_type": "markdown",
   "id": "b6a3a1c6-10ad-4cf6-a20b-bbf56dc42372",
   "metadata": {},
   "source": [
    "# 43. Write a Python program to split a list into different variables."
   ]
  },
  {
   "cell_type": "code",
   "execution_count": 11,
   "id": "0b792f31-cdd6-4a19-8fed-5c266231ede4",
   "metadata": {},
   "outputs": [
    {
     "name": "stdout",
     "output_type": "stream",
     "text": [
      "('Black', '#000000', 'rgb(0, 0, 0)')\n",
      "('Red', '#FF0000', 'rgb(255, 0, 0)')\n",
      "('Yellow', '#FFFF00', 'rgb(255, 255, 0)')\n"
     ]
    }
   ],
   "source": [
    "color = [(\"Black\", \"#000000\", \"rgb(0, 0, 0)\"),(\"Red\", \"#FF0000\", \"rgb(255, 0, 0)\"),(\"Yellow\", \"#FFFF00\", \"rgb(255, 255, 0)\")]\n",
    "color = color_p1, color_p2, color_p3\n",
    "print(color_p1)\n",
    "print(color_p2)\n",
    "print(color_p3)"
   ]
  },
  {
   "cell_type": "markdown",
   "id": "fab9d75c-7386-4d80-ace7-971982b24729",
   "metadata": {},
   "source": [
    "# 44. Write a Python program to generate groups of five consecutive numbers in a list."
   ]
  },
  {
   "cell_type": "code",
   "execution_count": 20,
   "id": "86391f66-8f36-401e-8202-1269524e41e9",
   "metadata": {},
   "outputs": [
    {
     "name": "stdout",
     "output_type": "stream",
     "text": [
      "Group of list = [[1, 2, 3, 4, 5], [6, 7, 8, 9, 10], [11, 12, 13, 14, 15], [16, 17, 18, 19, 20], [21, 22, 23, 24, 25], [26, 27, 28, 29, 30], [31, 32, 33, 34, 35], [36, 37, 38, 39, 40]]\n"
     ]
    }
   ],
   "source": [
    "new_list = []\n",
    "for i in range (1,41,5):\n",
    "    new_list.append([i, i+1, i+2, i+3, i+4])\n",
    "print(f\"Group of list = {new_list}\")"
   ]
  },
  {
   "cell_type": "markdown",
   "id": "6c58f1b2-00a6-4941-bf82-08d6bc659158",
   "metadata": {},
   "source": [
    "# 45. Write a Python program to convert a pair of values into a sorted unique array."
   ]
  },
  {
   "cell_type": "code",
   "execution_count": 31,
   "id": "02d98a4c-63e9-41f7-924c-3b185bd10301",
   "metadata": {},
   "outputs": [
    {
     "name": "stdout",
     "output_type": "stream",
     "text": [
      "{1, 2, 3, 4, 5, 6}\n"
     ]
    }
   ],
   "source": [
    "pairs = [(3, 5), (1, 2), (4, 5), (2, 3), (6, 1), (2, 3)]\n",
    "empty_set = set()\n",
    "\n",
    "for i in pairs:\n",
    "    empty_set.add(i[0])\n",
    "    empty_set.add(i[1])\n",
    "print(empty_set)"
   ]
  },
  {
   "cell_type": "markdown",
   "id": "0d9da2c4-0528-4f6f-9e48-740784b693dc",
   "metadata": {},
   "source": [
    "# 46. Write a Python program to select the odd items of a list. "
   ]
  },
  {
   "cell_type": "code",
   "execution_count": 34,
   "id": "7d1d8059-2438-4785-aaa2-6426282f1b94",
   "metadata": {},
   "outputs": [
    {
     "name": "stdout",
     "output_type": "stream",
     "text": [
      "Odd items are: [3, 5, 11, 77]\n"
     ]
    }
   ],
   "source": [
    "input_list = [24, 3, 5, 11, 6, 88, 34, 77, 2, 4]\n",
    "odd_list = []\n",
    "for i in input_list:\n",
    "    if i%2 != 0:\n",
    "        odd_list.append(i)\n",
    "\n",
    "print(f\"Odd items are: {odd_list}\")"
   ]
  },
  {
   "cell_type": "markdown",
   "id": "cac0755b-bf73-4e69-9718-73214a4eb8bd",
   "metadata": {},
   "source": [
    "# 47. Write a Python program to insert an element before each element of a list."
   ]
  },
  {
   "cell_type": "code",
   "execution_count": 39,
   "id": "fa8efe19-b8da-4cd0-8f9d-c29e5f5c9676",
   "metadata": {},
   "outputs": [
    {
     "name": "stdout",
     "output_type": "stream",
     "text": [
      "['color', 'Red', 'color', 'Yellow', 'color', 'Green', 'color', 'Blue', 'color', 'Pink']\n"
     ]
    }
   ],
   "source": [
    "input_lst = [\"Red\", \"Yellow\", \"Green\", \"Blue\", \"Pink\"]\n",
    "insert_element = \"color\"\n",
    "new_lst = []\n",
    "\n",
    "for i in input_lst:\n",
    "    new_lst.append(insert_element)\n",
    "    new_lst.append(i)\n",
    "\n",
    "print(new_lst)"
   ]
  },
  {
   "cell_type": "markdown",
   "id": "cfeb6168-061f-4b2d-acdd-2e84e60b08de",
   "metadata": {},
   "source": [
    "# 48. Write a Python program to print a nested lists (each list on a new line) using the print() function."
   ]
  },
  {
   "cell_type": "code",
   "execution_count": 42,
   "id": "535394a7-8ebd-4bec-9a80-87419189d495",
   "metadata": {},
   "outputs": [
    {
     "name": "stdout",
     "output_type": "stream",
     "text": [
      "[4, 8, 1]\n",
      "[6, 11, 98]\n",
      "[2, 7, 9]\n",
      "[11, 33, 55]\n"
     ]
    }
   ],
   "source": [
    "in_list = [[4, 8, 1], [6, 11, 98], [2, 7, 9], [11, 33, 55]]\n",
    "\n",
    "for i in in_list:\n",
    "    print(i)"
   ]
  },
  {
   "cell_type": "markdown",
   "id": "47e415e1-fd63-454f-ab7d-c61183ef3d30",
   "metadata": {},
   "source": [
    "# 49. Write a Python program to convert list to list of dictionaries. \n",
    "# Sample lists: [\"Black\", \"Red\", \"Maroon\", \"Yellow\"], [\"#000000\", \"#FF0000\", \"#800000\", \"#FFFF00\"] \n",
    "# Expected Output: [{'color_name': 'Black', 'color_code': '#000000'}, {'color_name': 'Red', 'color_code': '#FF0000'}, {'color_name': 'Maroon', 'color_code': '#800000'}, {'color_name': 'Yellow', 'color_code': '#FFFF00'}] "
   ]
  },
  {
   "cell_type": "code",
   "execution_count": 53,
   "id": "700b7b1b-62ea-41ab-9649-e10961c59177",
   "metadata": {},
   "outputs": [
    {
     "name": "stdout",
     "output_type": "stream",
     "text": [
      "[{'color name': 'Black', 'color code': '#000000'}, {'color name': 'Red', 'color code': '#FF0000'}, {'color name': 'Maroon', 'color code': '#800000'}, {'color name': 'Yellow', 'color code': '#FFFF00'}]\n"
     ]
    }
   ],
   "source": [
    "color_name = [\"Black\", \"Red\", \"Maroon\", \"Yellow\"]\n",
    "color_code = [\"#000000\", \"#FF0000\", \"#800000\", \"#FFFF00\"]\n",
    "new_list = []\n",
    "\n",
    "for i in range(len(color_name)):\n",
    "    new_list.append({\"color name\": color_name[i], \"color code\": color_code[i]})\n",
    "\n",
    "print(new_list)"
   ]
  },
  {
   "cell_type": "markdown",
   "id": "d79c7cad-c8e2-4cc1-848e-d324c659cdff",
   "metadata": {},
   "source": [
    "# 50. Write a Python program to sort a list of nested dictionaries."
   ]
  },
  {
   "cell_type": "code",
   "execution_count": 115,
   "id": "7f01db01-a72d-46c4-8a26-185577790a72",
   "metadata": {},
   "outputs": [
    {
     "name": "stdout",
     "output_type": "stream",
     "text": [
      "Sorted by age:\n",
      "{'name': 'Charlie', 'age': 22, 'score': 90}\n",
      "{'name': 'Alice', 'age': 25, 'score': 88}\n",
      "{'name': 'Bob', 'age': 30, 'score': 75}\n",
      "\n",
      "Sorted by score:\n",
      "{'name': 'Bob', 'age': 30, 'score': 75}\n",
      "{'name': 'Alice', 'age': 25, 'score': 88}\n",
      "{'name': 'Charlie', 'age': 22, 'score': 90}\n"
     ]
    }
   ],
   "source": [
    "data = [{\"name\": \"Alice\", \"age\": 25, \"score\": 88},\n",
    "    {\"name\": \"Bob\", \"age\": 30, \"score\": 75},\n",
    "    {\"name\": \"Charlie\", \"age\": 22, \"score\": 90}]\n",
    "\n",
    "list_01 = []\n",
    "for i in data:\n",
    "    list_01.append((i[\"name\"], i[\"age\"], i[\"score\"]))\n",
    "\n",
    "def get_by_age(a):\n",
    "    return a[\"age\"]\n",
    "data.sort(key=get_by_age)\n",
    "\n",
    "print(\"Sorted by age:\")\n",
    "for a in data:\n",
    "    print(a)\n",
    "\n",
    "def get_by_score(b):\n",
    "    return b[\"score\"]\n",
    "data.sort(key=get_by_score)   \n",
    "\n",
    "print(\"\\nSorted by score:\")\n",
    "for b in data:\n",
    "    print(b)"
   ]
  },
  {
   "cell_type": "markdown",
   "id": "24468ab4-0019-4373-8b1a-dd23cb181e88",
   "metadata": {},
   "source": [
    "# 51. Write a Python program to split a list every Nth element. \n",
    "# Sample list: ['a', 'b', 'c', 'd', 'e', 'f', 'g', 'h', 'i', 'j', 'k', 'l', 'm', 'n'] \n",
    "# Expected Output: [['a', 'd', 'g', 'j', 'm'], ['b', 'e', 'h', 'k', 'n'], ['c', 'f', 'i', 'l']] "
   ]
  },
  {
   "cell_type": "code",
   "execution_count": 122,
   "id": "659fadae-f303-4c06-b87c-fdd0c44fbda8",
   "metadata": {},
   "outputs": [
    {
     "name": "stdout",
     "output_type": "stream",
     "text": [
      "[['a', 'd', 'g', 'j', 'm'], ['b', 'e', 'h', 'k', 'n'], ['c', 'f', 'i', 'l']]\n"
     ]
    }
   ],
   "source": [
    "input_list = ['a', 'b', 'c', 'd', 'e', 'f', 'g', 'h', 'i', 'j', 'k', 'l', 'm', 'n']\n",
    "\n",
    "n = 3  \n",
    "\n",
    "g_1 = []\n",
    "g_2 = []\n",
    "g_3 = []\n",
    "\n",
    "for i in range(len(input_list)):\n",
    "    if i % n == 0:\n",
    "        g_1.append(input_list[i])\n",
    "    elif i % n == 1:\n",
    "        g_2.append(input_list[i])\n",
    "    elif i % n == 2:\n",
    "        g_3.append(input_list[i])\n",
    "\n",
    "new_list = [g_1, g_2, g_3]\n",
    "\n",
    "print(new_list)"
   ]
  },
  {
   "cell_type": "markdown",
   "id": "950624c9-aca2-4bc7-af3b-e8daeeb89e8f",
   "metadata": {},
   "source": [
    "# 52. Write a Python program to compute the difference between two lists.\n",
    "# Sample data: [\"red\", \"orange\", \"green\", \"blue\", \"white\"], [\"black\", \"yellow\", \"green\", \"blue\"] \n",
    "# Expected Output: \n",
    "# Color1-Color2: ['white', 'orange', 'red'] \n",
    "# Color2-Color1: ['black', 'yellow'] "
   ]
  },
  {
   "cell_type": "code",
   "execution_count": 129,
   "id": "2d3c4ca8-ac5b-44f2-878b-35ea517e9689",
   "metadata": {},
   "outputs": [
    {
     "name": "stdout",
     "output_type": "stream",
     "text": [
      "Color1 - Color2 = ['orange', 'white', 'red']\n",
      "Color2 - Color1 = ['black', 'yellow']\n"
     ]
    }
   ],
   "source": [
    "color1 = [\"red\", \"orange\", \"green\", \"blue\", \"white\"]\n",
    "color2 = [\"black\", \"yellow\", \"green\", \"blue\"]\n",
    "\n",
    "c1_c2 = set(color1) - set(color2)\n",
    "c2_c1 = set(color2) - set(color1)\n",
    "\n",
    "c_1_2 = list(c1_c2)\n",
    "c_2_1 = list(c2_c1)\n",
    "\n",
    "print(f\"Color1 - Color2 = {c_1_2}\")\n",
    "print(f\"Color2 - Color1 = {c_2_1}\")"
   ]
  },
  {
   "cell_type": "markdown",
   "id": "7df474b4-698a-49d8-99c3-ff2a278db3be",
   "metadata": {},
   "source": [
    "# 53. Write a Python program to create a list with infinite elements."
   ]
  },
  {
   "cell_type": "code",
   "execution_count": 138,
   "id": "18d71338-cd9e-4891-b6c3-6c1ae5a1c1aa",
   "metadata": {},
   "outputs": [
    {
     "name": "stdout",
     "output_type": "stream",
     "text": [
      "1\n",
      "2\n",
      "3\n",
      "4\n",
      "5\n",
      "6\n",
      "7\n",
      "8\n",
      "9\n",
      "10\n",
      "11\n",
      "12\n",
      "13\n",
      "14\n",
      "15\n",
      "16\n",
      "17\n",
      "18\n",
      "19\n",
      "20\n",
      "21\n",
      "22\n",
      "23\n",
      "24\n"
     ]
    }
   ],
   "source": [
    "num = 1\n",
    "while True:\n",
    "    print(num)\n",
    "    num += 1\n",
    "\n",
    "    if num > 24:\n",
    "        break"
   ]
  },
  {
   "cell_type": "markdown",
   "id": "60448f06-3662-4135-a77f-b8c530599e54",
   "metadata": {},
   "source": [
    "# 54. Write a Python program to concatenate elements of a list."
   ]
  },
  {
   "cell_type": "code",
   "execution_count": 10,
   "id": "311c52bc-89f0-408d-a645-eb142ad17f5e",
   "metadata": {},
   "outputs": [
    {
     "name": "stdout",
     "output_type": "stream",
     "text": [
      "python-machine-learning-class\n",
      "pythonmachinelearningclass\n"
     ]
    }
   ],
   "source": [
    "inp_list = [\"python\", \"machine\", \"learning\", \"class\"]\n",
    "\n",
    "print('-'.join(inp_list))\n",
    "print(''.join(inp_list))"
   ]
  },
  {
   "cell_type": "markdown",
   "id": "6e9389e1-60b3-462d-93dd-dea22c1f2afa",
   "metadata": {},
   "source": [
    "# 55. Write a Python program to remove key values pairs from a list of dictionaries."
   ]
  },
  {
   "cell_type": "code",
   "execution_count": 43,
   "id": "fea83b31-207d-44fe-9730-980bbbbe22f1",
   "metadata": {},
   "outputs": [
    {
     "name": "stdout",
     "output_type": "stream",
     "text": [
      "[{'color2': 'red'}, {'color2': 'green'}]\n"
     ]
    }
   ],
   "source": [
    "in_list = [{\"color1\": \"white\", \"color2\":\"red\"},{\"color1\": \"yellow\", \"color2\":\"green\"}]\n",
    "\n",
    "for i in in_list:\n",
    "    del i[\"color1\"]\n",
    "\n",
    "print(in_list)"
   ]
  },
  {
   "cell_type": "markdown",
   "id": "14eed3c5-1497-49a3-ab4b-5a354dc58fa5",
   "metadata": {},
   "source": [
    "# 56. Write a Python program to convert a string to a list."
   ]
  },
  {
   "cell_type": "code",
   "execution_count": 50,
   "id": "94980ce2-b010-4022-83b8-b04de8a72886",
   "metadata": {},
   "outputs": [
    {
     "name": "stdout",
     "output_type": "stream",
     "text": [
      "['python', 'machine', 'learning']\n"
     ]
    }
   ],
   "source": [
    "input_string = \"python machine learning\"\n",
    "output_list = input_string.split()\n",
    "\n",
    "print(output_list)"
   ]
  },
  {
   "cell_type": "markdown",
   "id": "9eebe5ea-6a58-45b5-a81b-6dc78c641dcf",
   "metadata": {},
   "source": [
    "# 57. Write a Python program to check whether all items of a list is equal to a given string."
   ]
  },
  {
   "cell_type": "code",
   "execution_count": 69,
   "id": "8b703810-f145-43bc-a915-0c1d2151167d",
   "metadata": {},
   "outputs": [
    {
     "name": "stdout",
     "output_type": "stream",
     "text": [
      "For list 01 = True\n",
      "For list 02 = False\n"
     ]
    }
   ],
   "source": [
    "list_01 = [\"apple\", \"apple\", \"apple\"]\n",
    "list_02 = [\"apple\", \"banana\", \"apple\"]\n",
    "\n",
    "def item_chk(a):\n",
    "    for i in a:\n",
    "        if i != \"apple\":\n",
    "            return False\n",
    "    return True\n",
    "\n",
    "print(f\"For list 01 = {item_chk(list_01)}\")\n",
    "print(f\"For list 02 = {item_chk(list_02)}\")"
   ]
  },
  {
   "cell_type": "markdown",
   "id": "1172f8ab-7109-468f-81ef-8d0c2505bb00",
   "metadata": {},
   "source": [
    "# 58. Write a Python program to replace the last element in a list with another list. \n",
    "# Sample data : [1, 3, 5, 7, 9, 10], [2, 4, 6, 8] \n",
    "# Expected Output: [1, 3, 5, 7, 9, 2, 4, 6, 8]"
   ]
  },
  {
   "cell_type": "code",
   "execution_count": 76,
   "id": "73e74a50-1564-4cad-aa73-7f1a6f8492cd",
   "metadata": {},
   "outputs": [
    {
     "name": "stdout",
     "output_type": "stream",
     "text": [
      "[1, 3, 5, 7, 9, 2, 4, 6, 8]\n"
     ]
    }
   ],
   "source": [
    "inp_01 = [1, 3, 5, 7, 9, 10]\n",
    "inp_02 = [2, 4, 6, 8]\n",
    "\n",
    "inp_01[-1:] = inp_02\n",
    "print(inp_01)"
   ]
  },
  {
   "cell_type": "markdown",
   "id": "0c336770-f6f5-44d9-9b37-5460749210bc",
   "metadata": {},
   "source": [
    "# 59. Write a Python program to check whether the n-th element exists in a given list."
   ]
  },
  {
   "cell_type": "code",
   "execution_count": 94,
   "id": "75966be3-0591-43c5-843c-2a4ab3ca51bc",
   "metadata": {},
   "outputs": [
    {
     "name": "stdin",
     "output_type": "stream",
     "text": [
      "Enter the index to check:  5\n"
     ]
    },
    {
     "name": "stdout",
     "output_type": "stream",
     "text": [
      "Element at index 5 is: 60\n"
     ]
    }
   ],
   "source": [
    "in_list = [10, 20, 30, 40, 50, 60, 70]\n",
    "chk_index = int(input(\"Enter the index to check: \"))\n",
    "\n",
    "if chk_index < len(in_list):\n",
    "    print(f\"Element at index {chk_index} is: {in_list[chk_index]}\")\n",
    "else:\n",
    "    print(f\"No element found at index: {chk_index}\")"
   ]
  },
  {
   "cell_type": "markdown",
   "id": "f693b112-5f25-4007-94a4-5e1c01a5908d",
   "metadata": {},
   "source": [
    "# 60. Write a Python program to find a tuple, the smallest second index value from a list of tuples."
   ]
  },
  {
   "cell_type": "code",
   "execution_count": 97,
   "id": "aa7138b0-684f-473d-945e-1249ba394995",
   "metadata": {},
   "outputs": [
    {
     "name": "stdout",
     "output_type": "stream",
     "text": [
      "Tuple with the smallest second value: (1, 15)\n"
     ]
    }
   ],
   "source": [
    "inp_list = [(4, 23), (3, 17), (1, 15), (7, 77), (6, 91)]\n",
    "\n",
    "sm_tuple = inp_list[0]\n",
    "for i in inp_list:\n",
    "    if i[1] < sm_tuple[1]:\n",
    "        sm_tuple = i\n",
    "\n",
    "print(\"Tuple with the smallest second value:\", sm_tuple)"
   ]
  }
 ],
 "metadata": {
  "kernelspec": {
   "display_name": "Python [conda env:base] *",
   "language": "python",
   "name": "conda-base-py"
  },
  "language_info": {
   "codemirror_mode": {
    "name": "ipython",
    "version": 3
   },
   "file_extension": ".py",
   "mimetype": "text/x-python",
   "name": "python",
   "nbconvert_exporter": "python",
   "pygments_lexer": "ipython3",
   "version": "3.12.7"
  }
 },
 "nbformat": 4,
 "nbformat_minor": 5
}
