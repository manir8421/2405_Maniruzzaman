{
 "cells": [
  {
   "cell_type": "markdown",
   "id": "2411fc0c-551b-4a0e-9d54-addff70f268d",
   "metadata": {},
   "source": [
    "# data type"
   ]
  },
  {
   "cell_type": "code",
   "execution_count": 2,
   "id": "a4fbda4a-53c4-479b-88ad-4c83afc98210",
   "metadata": {},
   "outputs": [],
   "source": [
    "# int, float, string, bool"
   ]
  },
  {
   "cell_type": "code",
   "execution_count": 4,
   "id": "fd473595-d505-4409-8ebf-64e8f2f9897a",
   "metadata": {},
   "outputs": [
    {
     "data": {
      "text/plain": [
       "5.0"
      ]
     },
     "execution_count": 4,
     "metadata": {},
     "output_type": "execute_result"
    }
   ],
   "source": [
    "var=5\n",
    "float(var)"
   ]
  },
  {
   "cell_type": "code",
   "execution_count": 24,
   "id": "79e1f52b-39c6-4e02-b8b7-ea1d396cc1dc",
   "metadata": {},
   "outputs": [
    {
     "name": "stdout",
     "output_type": "stream",
     "text": [
      "Before\n",
      "<class 'int'> 5\n",
      "\n",
      "After\n",
      "<class 'float'> 5.0\n"
     ]
    }
   ],
   "source": [
    "# integer to float convert\n",
    "print('Before')\n",
    "var=5\n",
    "print(type(var), var) # int\n",
    "# print()\n",
    "print('\\nAfter')\n",
    "convert_var = float(var)\n",
    "print(type(convert_var), convert_var) # float"
   ]
  },
  {
   "cell_type": "code",
   "execution_count": 44,
   "id": "f5cb528f-4189-4f5d-ae5c-a22706f974d8",
   "metadata": {},
   "outputs": [
    {
     "name": "stdout",
     "output_type": "stream",
     "text": [
      "Before\n",
      "<class 'float'> 5.5\n",
      "\n",
      "After\n",
      "<class 'int'> 5\n"
     ]
    }
   ],
   "source": [
    "# float to integer convert\n",
    "print('Before')\n",
    "var=5.5\n",
    "print(type(var), var) # float\n",
    "# print()\n",
    "print('\\nAfter')\n",
    "convert_var = int(var)\n",
    "print(type(convert_var), convert_var) # int"
   ]
  },
  {
   "cell_type": "code",
   "execution_count": 46,
   "id": "da4cfc22-6668-4eb2-8035-35ccf7c7f4f1",
   "metadata": {},
   "outputs": [
    {
     "name": "stdout",
     "output_type": "stream",
     "text": [
      "Before\n",
      "<class 'str'> 6\n",
      "\n",
      "After\n",
      "<class 'int'> 6\n"
     ]
    }
   ],
   "source": [
    "# string to integer convert\n",
    "print('Before')\n",
    "var='6'\n",
    "print(type(var), var) # str\n",
    "# print()\n",
    "print('\\nAfter')\n",
    "convert_var = int(var)\n",
    "print(type(convert_var), convert_var) # int"
   ]
  },
  {
   "cell_type": "code",
   "execution_count": 48,
   "id": "85f0afc5-0666-408b-ba19-89ea67b3732e",
   "metadata": {},
   "outputs": [
    {
     "name": "stdout",
     "output_type": "stream",
     "text": [
      "Before\n",
      "<class 'str'> 6.6\n",
      "\n",
      "After\n",
      "<class 'float'> 6.6\n"
     ]
    }
   ],
   "source": [
    "# string to float convert\n",
    "print('Before')\n",
    "var='6.6'\n",
    "print(type(var), var) # str\n",
    "# print()\n",
    "print('\\nAfter')\n",
    "convert_var = float(var)\n",
    "print(type(convert_var), convert_var) # float"
   ]
  },
  {
   "cell_type": "code",
   "execution_count": 50,
   "id": "953ee077-7d56-48e5-a692-510650fa0d2a",
   "metadata": {},
   "outputs": [
    {
     "name": "stdout",
     "output_type": "stream",
     "text": [
      "Before\n",
      "<class 'float'> 6.6\n",
      "\n",
      "After\n",
      "<class 'str'> 6.6\n"
     ]
    }
   ],
   "source": [
    "# float to string convert\n",
    "print('Before')\n",
    "var=6.6\n",
    "print(type(var), var) # float\n",
    "# print()\n",
    "print('\\nAfter')\n",
    "convert_var = str(var)\n",
    "print(type(convert_var), convert_var) # str"
   ]
  },
  {
   "cell_type": "code",
   "execution_count": 54,
   "id": "300bb58f-1127-4c15-943e-0e81f4d13906",
   "metadata": {},
   "outputs": [
    {
     "name": "stdout",
     "output_type": "stream",
     "text": [
      "Before\n",
      "<class 'str'> 6.6\n",
      "\n",
      "convert to float\n",
      "<class 'float'> 6.6\n",
      "\n",
      "convert float to integer\n",
      "<class 'int'> 6\n"
     ]
    }
   ],
   "source": [
    "# string to int convert\n",
    "print('Before')\n",
    "var='6.6'\n",
    "print(type(var), var) # str\n",
    "\n",
    "print('\\nconvert to float')\n",
    "convert_var = float(var)\n",
    "print(type(convert_var), convert_var) # float\n",
    "\n",
    "print('\\nconvert float to integer')\n",
    "convert_var2=int(convert_var)\n",
    "print (type(convert_var2), convert_var2) # int"
   ]
  },
  {
   "cell_type": "code",
   "execution_count": 60,
   "id": "a11ab629-0a6e-49b5-98f5-ef0d3a80e227",
   "metadata": {},
   "outputs": [
    {
     "name": "stdout",
     "output_type": "stream",
     "text": [
      "value 3.45678\n",
      "value 3.457\n"
     ]
    }
   ],
   "source": [
    "float1=3.45678\n",
    "print('value', float1)\n",
    "print('value', round(float1,3))"
   ]
  },
  {
   "cell_type": "markdown",
   "id": "23c35b0b-1e4b-41fc-a5fb-457fa66b1dad",
   "metadata": {},
   "source": [
    "# Data Structure"
   ]
  },
  {
   "cell_type": "code",
   "execution_count": 63,
   "id": "d868d782-ae7a-4895-bf81-ac1ce26752b7",
   "metadata": {},
   "outputs": [],
   "source": [
    "# list\n",
    "# set\n",
    "# tuple\n",
    "# dictionary"
   ]
  },
  {
   "cell_type": "code",
   "execution_count": 65,
   "id": "5172d948-8777-4e5b-ab29-fb640242c414",
   "metadata": {},
   "outputs": [],
   "source": [
    "# midifiable\n",
    "# add element - append, insert, extend, +\n",
    "# remove element - pop, remove, del, clear"
   ]
  },
  {
   "cell_type": "code",
   "execution_count": 67,
   "id": "006bef36-6cfb-401a-b447-31f6a2344488",
   "metadata": {},
   "outputs": [
    {
     "name": "stdout",
     "output_type": "stream",
     "text": [
      "[2, 3, True, 'hi', 'g', 2]\n",
      "[2, 3, True, 'hi', 'g', 2, 100]\n"
     ]
    }
   ],
   "source": [
    "list1 = [2,3,True, 'hi', 'g', 2]\n",
    "print(list1)\n",
    "list1.append(100)\n",
    "print(list1)"
   ]
  },
  {
   "cell_type": "code",
   "execution_count": 71,
   "id": "7da7d114-7050-4f1a-940c-e0e26030d2d4",
   "metadata": {},
   "outputs": [
    {
     "name": "stdout",
     "output_type": "stream",
     "text": [
      "[2, 3, True, 'hi', 'g', 2]\n",
      "[2, 3, True, 'hi', 'g', 2, 100]\n",
      "[2, 2500, 3, True, 'hi', 'g', 2, 100]\n",
      "[2, 2500, 'world', 3, True, 'hi', 'g', 2, 100]\n"
     ]
    }
   ],
   "source": [
    "list1 = [2,3,True, 'hi', 'g', 2]\n",
    "print(list1)\n",
    "list1.append(100)\n",
    "print(list1)\n",
    "list1.insert(1,2500)\n",
    "print(list1)\n",
    "list1.insert(2,'world')\n",
    "print(list1)"
   ]
  },
  {
   "cell_type": "code",
   "execution_count": 77,
   "id": "b058277a-fd27-4bd8-aec6-810ecf00b012",
   "metadata": {},
   "outputs": [
    {
     "name": "stdout",
     "output_type": "stream",
     "text": [
      "[2, 3, True, 'hi', 'g', 2, 34, 56, 78, 'fg']\n"
     ]
    }
   ],
   "source": [
    "list1 = [2,3,True, 'hi', 'g', 2]\n",
    "list2 = [34,56,78,'fg']\n",
    "add_list=(list1+list2)\n",
    "print(add_list)"
   ]
  },
  {
   "cell_type": "code",
   "execution_count": 79,
   "id": "8cd32f9c-0acb-40aa-b9c0-8b4f68820837",
   "metadata": {},
   "outputs": [
    {
     "name": "stdout",
     "output_type": "stream",
     "text": [
      "[2, 3, True, 'hi', 'g', 2, 34, 56, 78, 'fg']\n"
     ]
    }
   ],
   "source": [
    "list1 = [2,3,True, 'hi', 'g', 2]\n",
    "list2 = [34,56,78,'fg']\n",
    "list1.extend(list2)\n",
    "print(list1)"
   ]
  },
  {
   "cell_type": "code",
   "execution_count": 83,
   "id": "1d1649a7-896d-47e0-ae9a-502e6a170320",
   "metadata": {},
   "outputs": [
    {
     "name": "stdout",
     "output_type": "stream",
     "text": [
      "[2, 3, True, 'hi', 'g', 2, 34, 56, 78, 'fg', 'world']\n"
     ]
    }
   ],
   "source": [
    "list1 = [2,3,True, 'hi', 'g', 2]\n",
    "list2 = [34,56,78,'fg']\n",
    "list3 = ['world']\n",
    "list1.extend(list2)\n",
    "list1.extend(list3)\n",
    "print(list1)\n"
   ]
  },
  {
   "cell_type": "code",
   "execution_count": 85,
   "id": "11189ac9-02f9-416e-8b90-c9ef893c9d4e",
   "metadata": {},
   "outputs": [
    {
     "name": "stdout",
     "output_type": "stream",
     "text": [
      "[2, True, 'hi', 'g', 2]\n"
     ]
    }
   ],
   "source": [
    "list1 = [2,3,True, 'hi', 'g', 2]\n",
    "list1.remove(3)\n",
    "print(list1)"
   ]
  },
  {
   "cell_type": "code",
   "execution_count": 89,
   "id": "1fe52a94-e7bc-42d5-a32f-c84a69f9fe11",
   "metadata": {},
   "outputs": [
    {
     "name": "stdout",
     "output_type": "stream",
     "text": [
      "[2, 3, True, 'g', 2]\n"
     ]
    }
   ],
   "source": [
    "list1 = [2,3,True, 'hi', 'g', 2]\n",
    "list1.pop(3) # position of element\n",
    "print(list1)"
   ]
  },
  {
   "cell_type": "code",
   "execution_count": null,
   "id": "1a7268f9-dcbf-4c4a-ad0e-b967979271a6",
   "metadata": {},
   "outputs": [],
   "source": [
    "# clear for all emement delete\n",
    "# del > it's delete that variable ????"
   ]
  },
  {
   "cell_type": "code",
   "execution_count": 93,
   "id": "36d5e23c-a126-45c5-9ba3-d9ce2c376b59",
   "metadata": {},
   "outputs": [
    {
     "name": "stdout",
     "output_type": "stream",
     "text": [
      "[]\n"
     ]
    }
   ],
   "source": [
    "list1 = [2,3,True, 'hi', 'g', 2]\n",
    "list1.clear()\n",
    "print(list1)"
   ]
  },
  {
   "cell_type": "code",
   "execution_count": 101,
   "id": "144a1649-0a0f-4a89-b3ab-96683831e8c1",
   "metadata": {},
   "outputs": [
    {
     "name": "stdout",
     "output_type": "stream",
     "text": [
      "[2, 3, True, 'hi', 2]\n"
     ]
    }
   ],
   "source": [
    "list1 = [2,3,True, 'hi', 'g', 2]\n",
    "del(list1[4]) ?????\n",
    "print(list1)"
   ]
  },
  {
   "cell_type": "code",
   "execution_count": null,
   "id": "42bca1c4-70dc-4ed5-9556-622b00fdd5e3",
   "metadata": {},
   "outputs": [],
   "source": []
  }
 ],
 "metadata": {
  "kernelspec": {
   "display_name": "Python [conda env:base] *",
   "language": "python",
   "name": "conda-base-py"
  },
  "language_info": {
   "codemirror_mode": {
    "name": "ipython",
    "version": 3
   },
   "file_extension": ".py",
   "mimetype": "text/x-python",
   "name": "python",
   "nbconvert_exporter": "python",
   "pygments_lexer": "ipython3",
   "version": "3.12.7"
  }
 },
 "nbformat": 4,
 "nbformat_minor": 5
}
