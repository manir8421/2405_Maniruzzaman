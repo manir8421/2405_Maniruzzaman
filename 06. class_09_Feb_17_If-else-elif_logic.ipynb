{
 "cells": [
  {
   "cell_type": "markdown",
   "id": "306bb9a3-0d87-468e-9d30-dc424dadb0a3",
   "metadata": {},
   "source": [
    "# Conditional Statement"
   ]
  },
  {
   "cell_type": "code",
   "execution_count": 3,
   "id": "507eadb5-65fa-4e40-a923-513fca5951c2",
   "metadata": {},
   "outputs": [],
   "source": [
    "# if - to check a condition (True / False), \n",
    "# elif - go to next option with a condition\n",
    "# else - last option, when If condition is failed or False"
   ]
  },
  {
   "cell_type": "code",
   "execution_count": 5,
   "id": "d6edd48d-d71b-4f39-844e-bbfe92d62f72",
   "metadata": {},
   "outputs": [
    {
     "name": "stdout",
     "output_type": "stream",
     "text": [
      "A is smaller\n"
     ]
    }
   ],
   "source": [
    "a=5\n",
    "if a>10: # True\n",
    "    print('A is grater') # True execute\n",
    "else: # False\n",
    "    print('A is smaller') # False execute"
   ]
  },
  {
   "cell_type": "code",
   "execution_count": 7,
   "id": "6f4e87f4-5906-41c1-8bff-9d763de07785",
   "metadata": {},
   "outputs": [
    {
     "name": "stdout",
     "output_type": "stream",
     "text": [
      "A is grater\n"
     ]
    }
   ],
   "source": [
    "a=14\n",
    "if a>10: # True\n",
    "    print('A is grater') # True execute\n",
    "else: # False\n",
    "    print('A is smaller') # False execute"
   ]
  },
  {
   "cell_type": "code",
   "execution_count": 19,
   "id": "7a3944d7-0999-4e4a-bb84-44153ec98176",
   "metadata": {},
   "outputs": [
    {
     "name": "stdout",
     "output_type": "stream",
     "text": [
      "A is equal\n"
     ]
    }
   ],
   "source": [
    "a=5\n",
    "if a==5: # True\n",
    "    print('A is equal') # True execute\n",
    "else: # False (execute 2nd loop)\n",
    "    if a>5: # False execute for 1st loop and True check for 2nd loop\n",
    "        print('A is grater') # True execute for 2nd loop\n",
    "    else: # False for 2nd loop\n",
    "        print('A is smaller') # # False execute for 2nd loop"
   ]
  },
  {
   "cell_type": "code",
   "execution_count": 17,
   "id": "40346dca-560c-4aa6-a331-d4cb761b7771",
   "metadata": {},
   "outputs": [
    {
     "name": "stdout",
     "output_type": "stream",
     "text": [
      "A is grater\n"
     ]
    }
   ],
   "source": [
    "a=6\n",
    "if a==5: # True\n",
    "    print('A is equal') # True execute\n",
    "else: # False (execute 2nd loop)\n",
    "    if a>5: # False execute for 1st loop and True check for 2nd loop\n",
    "        print('A is grater') # True execute for 2nd loop\n",
    "    else: # False for 2nd loop\n",
    "        print('A is smaller') # # False execute for 2nd loop"
   ]
  },
  {
   "cell_type": "code",
   "execution_count": 15,
   "id": "ccce15ca-b5c0-4b22-9881-cfcb2f06b389",
   "metadata": {},
   "outputs": [
    {
     "name": "stdout",
     "output_type": "stream",
     "text": [
      "A is smaller\n"
     ]
    }
   ],
   "source": [
    "a=2\n",
    "if a==5: # True\n",
    "    print('A is equal') # True execute\n",
    "else: # False (execute 2nd loop)\n",
    "    if a>5: # False execute for 1st loop and True check for 2nd loop\n",
    "        print('A is grater') # True execute for 2nd loop\n",
    "    else: # False for 2nd loop\n",
    "        print('A is smaller') # # False execute for 2nd loop"
   ]
  },
  {
   "cell_type": "code",
   "execution_count": 21,
   "id": "846304a5-f95b-4fdd-b6f2-9848054cb635",
   "metadata": {},
   "outputs": [
    {
     "name": "stdout",
     "output_type": "stream",
     "text": [
      "A is smaller\n"
     ]
    }
   ],
   "source": [
    "a=2\n",
    "if a==5:\n",
    "    print('A is equal')\n",
    "elif a>5:\n",
    "    print('A is grater')\n",
    "else:\n",
    "    print('A is smaller')"
   ]
  },
  {
   "cell_type": "code",
   "execution_count": 23,
   "id": "8451ae4e-7f59-4d83-b7dd-e0e5c300dd9a",
   "metadata": {},
   "outputs": [
    {
     "name": "stdout",
     "output_type": "stream",
     "text": [
      "A is grater\n"
     ]
    }
   ],
   "source": [
    "a=6\n",
    "if a==5:\n",
    "    print('A is equal')\n",
    "elif a>5:\n",
    "    print('A is grater')\n",
    "else:\n",
    "    print('A is smaller')"
   ]
  },
  {
   "cell_type": "code",
   "execution_count": 25,
   "id": "2f6daa5d-81aa-41d5-abe6-cab12954fef9",
   "metadata": {},
   "outputs": [
    {
     "name": "stdout",
     "output_type": "stream",
     "text": [
      "A is equal\n"
     ]
    }
   ],
   "source": [
    "a=5\n",
    "if a==5:\n",
    "    print('A is equal')\n",
    "elif a>5:\n",
    "    print('A is grater')\n",
    "else:\n",
    "    print('A is smaller')"
   ]
  },
  {
   "cell_type": "code",
   "execution_count": null,
   "id": "9773e986-2a81-4da8-b867-d3ebec4e18de",
   "metadata": {},
   "outputs": [],
   "source": [
    "# Problem - 01\n",
    "# 2 resturant\n",
    "# 1st restutant - age > 21, covid > 2\n",
    "# 2nd resturant - age > 18, covid > 1"
   ]
  },
  {
   "cell_type": "code",
   "execution_count": 49,
   "id": "97e70d3e-8838-459c-9e52-837f0c1fc2b0",
   "metadata": {},
   "outputs": [
    {
     "name": "stdout",
     "output_type": "stream",
     "text": [
      "Not allow any resturant\n"
     ]
    }
   ],
   "source": [
    "age=13\n",
    "covid=2\n",
    "if age>21 and covid>2:\n",
    "    print ('Allow resturant 01 an 02')\n",
    "elif age>18 and covid>1:\n",
    "    print ('Allow resturant 02')\n",
    "else:\n",
    "    print('Not allow any resturant')"
   ]
  },
  {
   "cell_type": "code",
   "execution_count": 51,
   "id": "f9942175-0e9a-42a8-acc6-2d06fe34d072",
   "metadata": {},
   "outputs": [
    {
     "name": "stdout",
     "output_type": "stream",
     "text": [
      "Allow resturant 02\n"
     ]
    }
   ],
   "source": [
    "age=19\n",
    "covid=2\n",
    "if age>21 and covid>2:\n",
    "    print ('Allow resturant 01 and 02')\n",
    "elif age>18 and covid>1:\n",
    "    print ('Allow resturant 02')\n",
    "else:\n",
    "    print('Not allow any resturant')"
   ]
  },
  {
   "cell_type": "code",
   "execution_count": 53,
   "id": "2ecb1c1d-bd7f-472c-bc51-3761a7ac583d",
   "metadata": {},
   "outputs": [
    {
     "name": "stdout",
     "output_type": "stream",
     "text": [
      "Not allow any resturant\n"
     ]
    }
   ],
   "source": [
    "age=19\n",
    "covid=1\n",
    "if age>21 and covid>2:\n",
    "    print ('Allow resturant 01 and 02')\n",
    "elif age>18 and covid>1:\n",
    "    print ('Allow resturant 02')\n",
    "else:\n",
    "    print('Not allow any resturant')"
   ]
  },
  {
   "cell_type": "code",
   "execution_count": 55,
   "id": "a10692d6-1427-4e94-b7ff-c807f31923c3",
   "metadata": {},
   "outputs": [
    {
     "name": "stdout",
     "output_type": "stream",
     "text": [
      "Not allow any resturant\n"
     ]
    }
   ],
   "source": [
    "age=24\n",
    "covid=1\n",
    "if age>21 and covid>2:\n",
    "    print ('Allow resturant 01 and 02')\n",
    "elif age>18 and covid>1:\n",
    "    print ('Allow resturant 02')\n",
    "else:\n",
    "    print('Not allow any resturant')"
   ]
  },
  {
   "cell_type": "code",
   "execution_count": 57,
   "id": "544d9798-5084-4f17-ba28-8a58d48f4042",
   "metadata": {},
   "outputs": [
    {
     "name": "stdout",
     "output_type": "stream",
     "text": [
      "Allow resturant 01 and 02\n"
     ]
    }
   ],
   "source": [
    "age=24\n",
    "covid=3\n",
    "if age>21 and covid>2:\n",
    "    print ('Allow resturant 01 and 02')\n",
    "elif age>18 and covid>1:\n",
    "    print ('Allow resturant 02')\n",
    "else:\n",
    "    print('Not allow any resturant')"
   ]
  },
  {
   "cell_type": "code",
   "execution_count": 59,
   "id": "b6d30d77-0a0a-4eab-a566-0d347a238506",
   "metadata": {},
   "outputs": [
    {
     "name": "stdout",
     "output_type": "stream",
     "text": [
      "Allow resturant 02\n"
     ]
    }
   ],
   "source": [
    "age=20\n",
    "covid=3\n",
    "if age>21 and covid>2:\n",
    "    print ('Allow resturant 01 and 02')\n",
    "elif age>18 and covid>1:\n",
    "    print ('Allow resturant 02')\n",
    "else:\n",
    "    print('Not allow any resturant')"
   ]
  },
  {
   "cell_type": "markdown",
   "id": "f06cc4ea-1ed0-46f4-9eba-1f4e7fb642c3",
   "metadata": {},
   "source": [
    "**Home Work**"
   ]
  },
  {
   "cell_type": "code",
   "execution_count": 1,
   "id": "5c657a4b-16ac-48f8-8e29-1b74189b887c",
   "metadata": {},
   "outputs": [
    {
     "name": "stdin",
     "output_type": "stream",
     "text": [
      "Enter the value of a:  4\n",
      "Enter the value of b:  7\n",
      "Enter the operation (add/sub/mul/div) or symbol:  +\n"
     ]
    },
    {
     "name": "stdout",
     "output_type": "stream",
     "text": [
      "Addition result is: 11.0\n"
     ]
    }
   ],
   "source": [
    "a=float(input('Enter the value of a: '))\n",
    "b=float(input('Enter the value of b: '))\n",
    "c=input('Enter the operation (add/sub/mul/div) or symbol: ')\n",
    "if c == 'add' or '+':\n",
    "    d=a+b\n",
    "    print(f'Addition result is: {d}')\n",
    "elif c == 'sub' or '-':\n",
    "    d=a-b\n",
    "    print(f'Subtruct result is: {d}')\n",
    "elif c == 'mul' or '*':\n",
    "    d=a*b\n",
    "    print(f'Multipliction result is: {d}')\n",
    "elif c == 'div' or '/':\n",
    "    if b != 0:\n",
    "        d=a/b\n",
    "        print(f'Division result is: {d}')\n",
    "    else:\n",
    "        print('Division by 0 not allow')\n",
    "else:\n",
    "    print ('Invalid operation input! please check')"
   ]
  }
 ],
 "metadata": {
  "kernelspec": {
   "display_name": "Python [conda env:base] *",
   "language": "python",
   "name": "conda-base-py"
  },
  "language_info": {
   "codemirror_mode": {
    "name": "ipython",
    "version": 3
   },
   "file_extension": ".py",
   "mimetype": "text/x-python",
   "name": "python",
   "nbconvert_exporter": "python",
   "pygments_lexer": "ipython3",
   "version": "3.12.7"
  }
 },
 "nbformat": 4,
 "nbformat_minor": 5
}
