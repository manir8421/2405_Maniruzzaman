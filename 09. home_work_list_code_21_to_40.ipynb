{
 "cells": [
  {
   "cell_type": "markdown",
   "id": "f5cfbf12-00ff-42d0-a2db-5f9d90bac9f0",
   "metadata": {},
   "source": [
    "# 21. Write a Python program to convert a list of characters into a string."
   ]
  },
  {
   "cell_type": "code",
   "execution_count": 37,
   "id": "00f1e195-cec0-43aa-997c-a2bbca22c5de",
   "metadata": {},
   "outputs": [
    {
     "name": "stdout",
     "output_type": "stream",
     "text": [
      "python\n"
     ]
    }
   ],
   "source": [
    "def convert_list(a):\n",
    "    output_string = ''.join(a)\n",
    "    print(output_string)\n",
    "\n",
    "input_list_01 = ['p', 'y', 't', 'h', 'o', 'n']\n",
    "convert_list(input_list_01)"
   ]
  },
  {
   "cell_type": "markdown",
   "id": "61bcd174-7810-4177-84d1-73a1482028eb",
   "metadata": {},
   "source": [
    "# 22. Write a Python program to find the index of an item in a specified list."
   ]
  },
  {
   "cell_type": "code",
   "execution_count": 9,
   "id": "c04e9f9e-40b5-4a25-8533-a6b033c4398f",
   "metadata": {},
   "outputs": [
    {
     "name": "stdout",
     "output_type": "stream",
     "text": [
      "Index for value 67 is = 2\n"
     ]
    }
   ],
   "source": [
    "import random\n",
    "def find_index(a,b):\n",
    "    for i in range(len(a)):\n",
    "        if a[i] == b:\n",
    "            print(f\"Index for value {find_index_of} is = {i}\")\n",
    "\n",
    "input_list = [23, 45, 67, 89]\n",
    "find_index_of = 67\n",
    "find_index(input_list, find_index_of)"
   ]
  },
  {
   "cell_type": "markdown",
   "id": "39387265-670e-4e6d-8833-4110b1794a08",
   "metadata": {},
   "source": [
    "# 23. Write a Python program to flatten a shallow list."
   ]
  },
  {
   "cell_type": "code",
   "execution_count": 20,
   "id": "dd89d7b7-5fdc-42f6-8bd5-e293df9f3c18",
   "metadata": {},
   "outputs": [
    {
     "name": "stdout",
     "output_type": "stream",
     "text": [
      "Input flatten list = [[1, 3, 5], [2, 4, 6], [11, 22, 88], [-67, 9, -2]]\n",
      "Output shallow list = [1, 3, 5, 2, 4, 6, 11, 22, 88, -67, 9, -2]\n"
     ]
    }
   ],
   "source": [
    "flatten_list = [[1,3,5], [2,4,6], [11,22,88], [-67, 9, -2]]\n",
    "shallow_list = []\n",
    "for i in flatten_list:\n",
    "    #print(i)\n",
    "    for j in i:\n",
    "        #print(j)\n",
    "        shallow_list.append(j)\n",
    "print(f\"Input flatten list = {flatten_list}\")\n",
    "print(f\"Output shallow list = {shallow_list}\")"
   ]
  },
  {
   "cell_type": "markdown",
   "id": "0716ab74-390a-4262-a022-d7e64a487b59",
   "metadata": {},
   "source": [
    "# 24. Write a Python program to append a list to the second list. "
   ]
  },
  {
   "cell_type": "code",
   "execution_count": 81,
   "id": "408cb581-3171-48ea-a05e-8f067f6c776a",
   "metadata": {},
   "outputs": [
    {
     "data": {
      "text/plain": [
       "[-23, 45, 6, -1, 4]"
      ]
     },
     "execution_count": 81,
     "metadata": {},
     "output_type": "execute_result"
    }
   ],
   "source": [
    "def append_list(a):\n",
    "    for i in a:\n",
    "        #print(i)\n",
    "        second_list.append(i)\n",
    "    return (second_list)\n",
    "\n",
    "first_list = [-23, 45, 6, -1, 4]\n",
    "second_list = []\n",
    "append_list(first_list)"
   ]
  },
  {
   "cell_type": "markdown",
   "id": "5af0bab1-cc77-486d-bdec-44693784d1e9",
   "metadata": {},
   "source": [
    "# 25. Write a Python program to select an item randomly from a list."
   ]
  },
  {
   "cell_type": "code",
   "execution_count": 312,
   "id": "70399bf2-1b65-43cf-91b8-11f4d427a987",
   "metadata": {},
   "outputs": [
    {
     "name": "stdout",
     "output_type": "stream",
     "text": [
      "Random Selected value is = 9\n"
     ]
    }
   ],
   "source": [
    "import random\n",
    "def select_value(a):\n",
    "    for i in range(len(a)):\n",
    "        sel_val = random.choice(a)\n",
    "    print(f\"Random Selected value is = {sel_val}\")\n",
    "\n",
    "inp_lst = [-2,5,-8,11,-3,9,-1]\n",
    "select_value(inp_lst)"
   ]
  },
  {
   "cell_type": "markdown",
   "id": "06a5ca1b-e225-4d49-ae6d-3ce8e3706682",
   "metadata": {},
   "source": [
    "# 26. Write a python program to check whether two lists are circularly identical."
   ]
  },
  {
   "cell_type": "code",
   "execution_count": 339,
   "id": "5e14e069-4258-44d1-92f0-1c2098383640",
   "metadata": {},
   "outputs": [
    {
     "name": "stdout",
     "output_type": "stream",
     "text": [
      "list 1 and list 2 are circulerly identical = False\n",
      "list 1 and list 3 are circulerly identical = True\n"
     ]
    }
   ],
   "source": [
    "lst_1 = [1,2,3,4,5]\n",
    "lst_2 = [4,1,2,5,3]\n",
    "lst_3 = [4,5,1,2,3]\n",
    "\n",
    "ext_list_1 = lst_1 + lst_1\n",
    "\n",
    "cir_identical_list_2 = False\n",
    "cir_identical_list_3 = False\n",
    "\n",
    "for i in range(len(lst_1)):\n",
    "    if ext_list_1[i:i+len(lst_1)] == lst_2:\n",
    "        cir_identical_list_2 = True\n",
    "    if ext_list_1[i:i+len(lst_1)] == lst_3:\n",
    "        cir_identical_list_3 = True\n",
    "\n",
    "print(f\"list 1 and list 2 are circulerly identical = {cir_identical_list_2}\")\n",
    "print(f\"list 1 and list 3 are circulerly identical = {cir_identical_list_3}\")\n"
   ]
  },
  {
   "cell_type": "markdown",
   "id": "869e6b97-ad90-4b0a-a497-9420ae3ddcd5",
   "metadata": {},
   "source": [
    "# 27. Write a Python program to find the second smallest number in a list."
   ]
  },
  {
   "cell_type": "code",
   "execution_count": 406,
   "id": "76150bf6-e9be-47e5-8ac7-20af21637294",
   "metadata": {},
   "outputs": [
    {
     "name": "stdout",
     "output_type": "stream",
     "text": [
      "Input list = [34, -23, 6, -2, 8, 11]\n",
      "Sorted list of Input = [-23, -2, 6, 8, 11, 34]\n",
      "Second Smallest Value is = -2\n"
     ]
    }
   ],
   "source": [
    "input_lst = [34, -23, 6, -2, 8, 11]\n",
    "print(f\"Input list = {input_lst}\")\n",
    "new_lst = sorted(input_lst)\n",
    "print(f\"Sorted list of Input = {new_lst}\")\n",
    "sec_small_num = new_lst[1]\n",
    "print(f\"Second Smallest Value is = {sec_small_num}\")"
   ]
  },
  {
   "cell_type": "markdown",
   "id": "ad12d9cf-5693-49bc-baf3-179dc6d63f92",
   "metadata": {},
   "source": [
    "# 28. Write a Python program to find the second largest number in a list."
   ]
  },
  {
   "cell_type": "code",
   "execution_count": 410,
   "id": "4bf3c13d-5be5-413c-a449-2b49c2dc380d",
   "metadata": {},
   "outputs": [
    {
     "name": "stdout",
     "output_type": "stream",
     "text": [
      "Input list = [34, -23, 6, -2, 8, 11]\n",
      "Sorted list of Input = [-23, -2, 6, 8, 11, 34]\n",
      "Second Smallest Value is = 11\n"
     ]
    }
   ],
   "source": [
    "inp_list = [34, -23, 6, -2, 8, 11]\n",
    "print(f\"Input list = {inp_list}\")\n",
    "new_list = sorted(inp_list)\n",
    "print(f\"Sorted list of Input = {new_list}\")\n",
    "sec_large_num = new_list[-2]\n",
    "print(f\"Second Smallest Value is = {sec_large_num}\")"
   ]
  },
  {
   "cell_type": "markdown",
   "id": "80937516-743b-4a3d-a256-689079f8c598",
   "metadata": {},
   "source": [
    "# 29. Write a Python program to get unique values from a list."
   ]
  },
  {
   "cell_type": "code",
   "execution_count": 415,
   "id": "f4924b0b-8ee6-49d7-95e6-e54c12dafbd1",
   "metadata": {},
   "outputs": [
    {
     "name": "stdout",
     "output_type": "stream",
     "text": [
      "Input list is = [23, 56, 9, 32, 56, 23, 88, 43, 99, 43]\n",
      "Unique value's list = [9, 32, 88, 99]\n"
     ]
    }
   ],
   "source": [
    "input_list = [23, 56, 9, 32, 56, 23, 88, 43, 99, 43]\n",
    "unique_val_list = []\n",
    "\n",
    "for i in input_list:\n",
    "    if input_list.count(i) == 1:\n",
    "        unique_val_list.append(i)\n",
    "\n",
    "print(f\"Input list is = {input_list}\")\n",
    "print(f\"Unique value's list = {unique_val_list}\")\n"
   ]
  },
  {
   "cell_type": "markdown",
   "id": "9ff2dad9-907a-4ee3-9c67-bc4a4f508c68",
   "metadata": {},
   "source": [
    "# 30. Write a Python program to get the frequency of the elements in a list."
   ]
  },
  {
   "cell_type": "code",
   "execution_count": 552,
   "id": "50019e93-42c3-4f3e-9893-8c55cae6a9c3",
   "metadata": {},
   "outputs": [
    {
     "name": "stdout",
     "output_type": "stream",
     "text": [
      "Input list is = [23, 56, 9, 32, 56, 23, 88, 23, 99, 88]\n",
      "Converted set from list = {32, 99, 9, 23, 56, 88}\n",
      "\n",
      "32- 1 times\n",
      "99- 1 times\n",
      "9- 1 times\n",
      "23- 3 times\n",
      "56- 2 times\n",
      "88- 2 times\n"
     ]
    }
   ],
   "source": [
    "inp_list = [23, 56, 9, 32, 56, 23, 88, 23, 99, 88]\n",
    "print(f\"Input list is = {inp_list}\")\n",
    "\n",
    "convert_set = set(inp_list)\n",
    "print(f\"Converted set from list = {convert_set}\\n\")\n",
    "\n",
    "for i in convert_set:\n",
    "    count_frequency = inp_list.count(i)\n",
    "    print(f\"{i}- {count_frequency} times\")"
   ]
  },
  {
   "cell_type": "markdown",
   "id": "a66f538f-5a4a-4d2c-8439-cf7faf17fea4",
   "metadata": {},
   "source": [
    "# 31. Write a Python program to count the number of elements in a list within a specified range."
   ]
  },
  {
   "cell_type": "code",
   "execution_count": 567,
   "id": "7ad8fde7-8ab1-4bed-945a-5128e5708b0f",
   "metadata": {},
   "outputs": [
    {
     "name": "stdout",
     "output_type": "stream",
     "text": [
      "Input list is = [23, 56, 9, 32, 56, 23, 88, 23, 99, 88]\n",
      "Converted set from list = {32, 99, 9, 23, 56, 88}\n",
      "\n",
      "Number of element in range: 3 to 9 \n",
      "32- 1 times\n",
      "99- 1 times\n",
      "9- 0 times\n",
      "23- 2 times\n",
      "56- 1 times\n",
      "88- 1 times\n"
     ]
    }
   ],
   "source": [
    "inp_list = [23, 56, 9, 32, 56, 23, 88, 23, 99, 88]\n",
    "print(f\"Input list is = {inp_list}\")\n",
    "\n",
    "convert_set = set(inp_list)\n",
    "print(f\"Converted set from list = {convert_set}\\n\")\n",
    "print(\"Number of element in range: 3 to 9 \")\n",
    "for i in convert_set:\n",
    "    count_frequency = inp_list[3:9].count(i)\n",
    "    print(f\"{i}- {count_frequency} times\")"
   ]
  },
  {
   "cell_type": "markdown",
   "id": "e310d247-9562-484a-a7e7-cfa37404fde2",
   "metadata": {},
   "source": [
    "# 32. Write a Python program to check whether a list contains a sublist."
   ]
  },
  {
   "cell_type": "code",
   "execution_count": 204,
   "id": "b0e4036e-9062-4cf3-9db3-d6db469f20d6",
   "metadata": {},
   "outputs": [
    {
     "name": "stdout",
     "output_type": "stream",
     "text": [
      "Is sub List = [7, 8, 9] in Main List = [2, 3, 4, 5, 6, 7, 8, 9] ?\n",
      "Sublist exist in main list\n",
      "\n",
      "Is sub List = [4, 6, 7] in Main List = [2, 3, 4, 5, 6, 7, 8, 9] ?\n",
      "Sublist not exist in main list\n"
     ]
    }
   ],
   "source": [
    "main_list = [2,3,4,5,6,7,8,9]\n",
    "sub_list_1 = [7,8,9]\n",
    "sub_list_2 = [4,6,7]\n",
    "\n",
    "def sublist_chk(a,b):\n",
    "    if str(b)[1:-1] in str(a):\n",
    "        print(\"Sublist exist in main list\")\n",
    "    else:\n",
    "        print(\"Sublist not exist in main list\")\n",
    "\n",
    "print(f\"Is sub List = {sub_list_1} in Main List = {main_list} ?\")\n",
    "sublist_chk(main_list, sub_list_1)\n",
    "print(f\"\\nIs sub List = {sub_list_2} in Main List = {main_list} ?\")\n",
    "sublist_chk(main_list, sub_list_2)"
   ]
  },
  {
   "cell_type": "markdown",
   "id": "5d302e1a-43dc-4348-8a82-0a987ce2afae",
   "metadata": {},
   "source": [
    "# 33. Write a Python program to generate all sublists of a list."
   ]
  },
  {
   "cell_type": "code",
   "execution_count": 112,
   "id": "c3849de3-6487-4953-b316-ac766c64f010",
   "metadata": {},
   "outputs": [
    {
     "name": "stdout",
     "output_type": "stream",
     "text": [
      "Sub-List are: [[11], [11, 33], [11, 33, 55], [11, 33, 55, 77], [33], [33, 55], [33, 55, 77], [55], [55, 77], [77]]\n"
     ]
    }
   ],
   "source": [
    "input_list = [11, 33, 55, 77]\n",
    "sublists = []\n",
    "\n",
    "for i in range(len(input_list)):\n",
    "    for j in range(i+1, len(input_list)+1):\n",
    "        sublists.append(input_list[i:j])\n",
    "\n",
    "print(f\"Sub-List are: {sublists}\")"
   ]
  },
  {
   "cell_type": "markdown",
   "id": "339d7eec-1c74-417b-a783-f7951e790c45",
   "metadata": {},
   "source": [
    "# 34. Write a Python program using Sieve of Eratosthenes method for computing primes upto a specified number.\n",
    "\n",
    "# Note: In mathematics, the sieve of Eratosthenes, (Ancient Greek: κόσκινον Ἐρατοσθένους, kóskinon Eratosthénous) one of a number of prime number sieves, is a simple, ancient algorithm for finding all prime numbers up to any given limit."
   ]
  },
  {
   "cell_type": "code",
   "execution_count": 1,
   "id": "ba54205b-86aa-4d63-b260-4b0d2fbdfa01",
   "metadata": {},
   "outputs": [],
   "source": [
    "# ignore this question (Instruction by instructor)"
   ]
  },
  {
   "cell_type": "markdown",
   "id": "cc9ab68f-71e0-41d1-a3f3-2517968c5ccf",
   "metadata": {},
   "source": [
    "# 35. Write a Python program to create a list by concatenating a given list which range goes from 1 to n. \n",
    "\n",
    "# Sample list : ['p', 'q'] \n",
    "# n =5 \n",
    "# Sample Output : ['p1', 'q1', 'p2', 'q2', 'p3', 'q3', 'p4', 'q4', 'p5', 'q5']"
   ]
  },
  {
   "cell_type": "code",
   "execution_count": 70,
   "id": "cbb9cd68-b342-4358-9efa-6031a9f878a8",
   "metadata": {},
   "outputs": [
    {
     "name": "stdout",
     "output_type": "stream",
     "text": [
      "['m0', 'n0', 'r0', 'm1', 'n1', 'r1', 'm2', 'n2', 'r2', 'm3', 'n3', 'r3', 'm4', 'n4', 'r4']\n"
     ]
    }
   ],
   "source": [
    "lst_inp = [\"m\", \"n\", \"r\"]\n",
    "n = 4\n",
    "new_lst = []\n",
    "\n",
    "def concat(a,b):\n",
    "    for i in range(b+1):\n",
    "        for j in a:\n",
    "            new_lst.append(j+str(i))\n",
    "\n",
    "concat(lst_inp, n)\n",
    "print(new_lst)"
   ]
  },
  {
   "cell_type": "markdown",
   "id": "7a1f9dff-b802-4dda-b380-63bcaf171cc0",
   "metadata": {},
   "source": [
    "# 36. Write a Python program to get variable unique identification number or string."
   ]
  },
  {
   "cell_type": "code",
   "execution_count": 3,
   "id": "47932d72-8628-4092-8344-90537033c181",
   "metadata": {},
   "outputs": [],
   "source": [
    "# ignore this question (Instruction by instructor)"
   ]
  },
  {
   "cell_type": "markdown",
   "id": "b1bc4bd4-4cae-46f8-9e18-8c87fa7644d0",
   "metadata": {},
   "source": [
    "# 37. Write a Python program to find common items from two lists."
   ]
  },
  {
   "cell_type": "code",
   "execution_count": 276,
   "id": "4b18d728-a11f-4071-9982-5c43f4f5c31d",
   "metadata": {},
   "outputs": [
    {
     "name": "stdout",
     "output_type": "stream",
     "text": [
      "Input first list\t= [11, 22, 33, 44, 55]\n",
      "Input second list\t= [22, 55, 77]\n",
      "Common items are\t= [22, 55]\n"
     ]
    }
   ],
   "source": [
    "list01 = [11, 22, 33, 44, 55]\n",
    "list02 = [22,55, 77]\n",
    "print(f\"Input first list\\t= {list01}\")\n",
    "print(f\"Input second list\\t= {list02}\")\n",
    "set01 = set(list01)\n",
    "#print(set01)\n",
    "set02 = set(list02)\n",
    "#print(set02)\n",
    "common_set = set01.intersection(set02)\n",
    "#print(common_set)\n",
    "common_list = list(common_set)\n",
    "print(f\"Common items are\\t= {common_list}\")"
   ]
  },
  {
   "cell_type": "markdown",
   "id": "bc1d1457-9fe2-4dee-b961-edf2ee253ed2",
   "metadata": {},
   "source": [
    "# 38. Write a Python program to change the position of every n-th value with the (n+1)th in a list. \n",
    "# Sample list: [0,1,2,3,4,5] \n",
    "# Expected Output: [1, 0, 3, 2, 5, 4] "
   ]
  },
  {
   "cell_type": "code",
   "execution_count": 274,
   "id": "d374824b-7265-4d4f-bcbc-891b15a8ae30",
   "metadata": {},
   "outputs": [
    {
     "name": "stdout",
     "output_type": "stream",
     "text": [
      "Input list\t= [2, 4, 6, 8, 10, 12]\n",
      "List after swap\t= [4, 2, 8, 6, 12, 10]\n"
     ]
    }
   ],
   "source": [
    "input_list = [2,4,6,8,10,12]\n",
    "copy_of_input_list = input_list[:]\n",
    "for i in range(0, len(input_list)-1, 2):\n",
    "   input_list[i], input_list[i+1] = input_list[i+1], input_list[i]\n",
    "print(f\"Input list\\t= {copy_of_input_list}\")\n",
    "print(f\"List after swap\\t= {input_list}\")"
   ]
  },
  {
   "cell_type": "markdown",
   "id": "cddc5061-5209-4eeb-8155-aa57b76118d1",
   "metadata": {},
   "source": [
    "# 39. Write a Python program to convert a list of multiple integers into a single integer. \n",
    "# Sample list: [11, 33, 50] \n",
    "# Expected Output: 113350"
   ]
  },
  {
   "cell_type": "code",
   "execution_count": 54,
   "id": "5c4a91fb-84b0-44c6-9b66-f4d42e476074",
   "metadata": {},
   "outputs": [
    {
     "name": "stdout",
     "output_type": "stream",
     "text": [
      "Input List = [11, 33, 50]\n",
      "Expected Output List = 113350\n"
     ]
    }
   ],
   "source": [
    "sample_list = [11, 33, 50]\n",
    "convert_string_list = [] \n",
    "\n",
    "for i in sample_list:\n",
    "    convert_string_list.append(str(i))\n",
    "\n",
    "expected_output = \"\".join(convert_string_list)\n",
    "\n",
    "print(f\"Input List = {sample_list}\")\n",
    "print(f\"Expected Output List = {expected_output}\")"
   ]
  },
  {
   "cell_type": "markdown",
   "id": "a06061ae-559d-4403-9081-78d697c15fea",
   "metadata": {},
   "source": [
    "# 40. Write a Python program to split a list based on first character of word."
   ]
  },
  {
   "cell_type": "code",
   "execution_count": 90,
   "id": "8ef2d4de-327d-44bc-be0b-90804cf464cf",
   "metadata": {},
   "outputs": [
    {
     "name": "stdout",
     "output_type": "stream",
     "text": [
      "{'p': ['python', 'program'], 'm': ['machine'], 'l': ['learning', 'list'], 'c': ['course', 'character'], 'w': ['word']}\n"
     ]
    }
   ],
   "source": [
    "words_list = [\"python\", \"machine\", \"learning\", \"course\", \"program\", \"character\", \"list\", \"word\"]\n",
    "group_of_dic = {}\n",
    "\n",
    "for i in words_list:\n",
    "    chr = i[0]\n",
    "    if chr not in group_of_dic:\n",
    "        group_of_dic[chr] = []\n",
    "    group_of_dic[chr].append(i)\n",
    "print(group_of_dic)   "
   ]
  }
 ],
 "metadata": {
  "kernelspec": {
   "display_name": "Python [conda env:base] *",
   "language": "python",
   "name": "conda-base-py"
  },
  "language_info": {
   "codemirror_mode": {
    "name": "ipython",
    "version": 3
   },
   "file_extension": ".py",
   "mimetype": "text/x-python",
   "name": "python",
   "nbconvert_exporter": "python",
   "pygments_lexer": "ipython3",
   "version": "3.12.7"
  }
 },
 "nbformat": 4,
 "nbformat_minor": 5
}
