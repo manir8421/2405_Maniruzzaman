{
 "cells": [
  {
   "cell_type": "markdown",
   "id": "0bc46154-245f-4bc9-a11e-efee8414ab18",
   "metadata": {},
   "source": [
    "# dictionary"
   ]
  },
  {
   "cell_type": "code",
   "execution_count": 141,
   "id": "5c1ac17e-776a-46bd-a833-9d694b678175",
   "metadata": {},
   "outputs": [],
   "source": [
    "# deictionary reduce the search type\n",
    "# Ascending by alphabetically ordered\n",
    "# data type for 'key' (left side): char/word/sentence/string(str), int, float, bool, unique\n",
    "# when keys will be str/char/word/sentence, must use '<str/char/word/sentence>' this 'quotation' symbol.\n",
    "# data type for 'value' (right side): all data type, all data structure, not unique\n",
    "# like value = [list]/{set}/(tuple)/nested-list,set,tuple\n",
    "# dictionary always start and end with { <dictionary> } curly brace, also must have ':' colon symbol\n",
    "# left side is key of colon; in dictionary\n",
    "# right side is value of colon; in dictionary\n",
    "# we can find value from key, but cannot find key from value in dictionary\n",
    "# when we add any value under a key, there use {} curly brace in dictionary.\n",
    "# indictionary keys should be unique\n",
    "# indexing - not allow\n",
    "# slicing - not allow\n",
    "# modificatin - allow\n",
    "# But, kind of indexing possible by the name or mentioned by 'key' of dictionary"
   ]
  },
  {
   "cell_type": "markdown",
   "id": "73a8c35c-9d93-4383-9caa-5a38b396b734",
   "metadata": {},
   "source": [
    "# dictionary data structure\n",
    "# -------------------------\n",
    "# dict = {'key':'value'}"
   ]
  },
  {
   "cell_type": "code",
   "execution_count": 16,
   "id": "612209eb-59a1-46f6-9d38-16bbf28b6f4b",
   "metadata": {},
   "outputs": [
    {
     "data": {
      "text/plain": [
       "'black'"
      ]
     },
     "execution_count": 16,
     "metadata": {},
     "output_type": "execute_result"
    }
   ],
   "source": [
    "# example\n",
    "dict_01={'color':'black'}\n",
    "# in dictionary, has a key named 'color' which value is 'black'\n",
    "# when we search by key 'color' it's will show the value of that key, here value is 'black'\n",
    "# so the output will be 'black'\n",
    "dict_01['color']"
   ]
  },
  {
   "cell_type": "code",
   "execution_count": 32,
   "id": "c9529483-6379-4ecd-b187-36af425860b2",
   "metadata": {},
   "outputs": [
    {
     "data": {
      "text/plain": [
       "1"
      ]
     },
     "execution_count": 32,
     "metadata": {},
     "output_type": "execute_result"
    }
   ],
   "source": [
    "dict_02={'one':1,\n",
    "         'two':2,\n",
    "         'three':3}\n",
    "dict_02['one']  # will print, corresponding value '1' of the key named 'one' "
   ]
  },
  {
   "cell_type": "code",
   "execution_count": 34,
   "id": "a841ea50-df8b-4a9b-bdf5-ce37bcc18922",
   "metadata": {},
   "outputs": [
    {
     "name": "stdout",
     "output_type": "stream",
     "text": [
      "2\n"
     ]
    }
   ],
   "source": [
    "dict_02={'one':1,\n",
    "         'two':2,\n",
    "         'three':3}\n",
    "print(dict_02['two'])  # will print, corresponding value '2' of the key named 'two' "
   ]
  },
  {
   "cell_type": "code",
   "execution_count": 36,
   "id": "f34b63ca-36a0-4953-ad55-857a605b4bc9",
   "metadata": {},
   "outputs": [
    {
     "name": "stdout",
     "output_type": "stream",
     "text": [
      "3\n"
     ]
    }
   ],
   "source": [
    "dict_02={'one':1,\n",
    "         'two':2,\n",
    "         'three':3}\n",
    "print(dict_02['three'])  # will print, corresponding value '3' of the key named 'three' "
   ]
  },
  {
   "cell_type": "code",
   "execution_count": 42,
   "id": "a720dee0-16f1-44ae-aa2b-e4e72a09c5c9",
   "metadata": {},
   "outputs": [
    {
     "name": "stdout",
     "output_type": "stream",
     "text": [
      "dict_keys(['one', 'two', 'three'])\n",
      "dict_values([1, 2, 3])\n"
     ]
    }
   ],
   "source": [
    "print(dict_02.keys()) # will print the key's of the dictionary mentioned (dict_02)\n",
    "print(dict_02.values()) # will print the value's of the dictionary mentioned (dict_02)"
   ]
  },
  {
   "cell_type": "code",
   "execution_count": 207,
   "id": "15da90ce-44bf-42e7-8416-7c463bc58412",
   "metadata": {},
   "outputs": [
    {
     "name": "stdout",
     "output_type": "stream",
     "text": [
      "dict_keys(['dece@', 'two', 'three'])\n",
      "dict_values([[1, [4, 5, 6], 3], (1, 2, 3), 'this is three'])\n",
      "dict_items([('dece@', [1, [4, 5, 6], 3]), ('two', (1, 2, 3)), ('three', 'this is three')])\n",
      "3\n",
      "dict_keys(['dece@', 'two', 'three']) 3\n",
      "dict_values([[1, [4, 5, 6], 3], (1, 2, 3), 'this is three']) 3\n",
      "dict_items([('dece@', [1, [4, 5, 6], 3]), ('two', (1, 2, 3)), ('three', 'this is three')]) 3\n"
     ]
    }
   ],
   "source": [
    "dict_03={'dece@':[1,[4,5,6],3],   # first item/pair\n",
    "         'two':(1,2,3),           # second item/pair\n",
    "         'three':'this is three'} # third item/pair\n",
    "print(dict_03.keys()) # show all keys\n",
    "print(dict_03.values()) # show all values\n",
    "print(dict_03.items()) # show all keys and values\n",
    "print(len(dict_03.items())) # no. of items in dictionary is 3, so output = 3\n",
    "print(dict_03.keys(),len(dict_03.keys())) # length of key is 3, all keys, output=3\n",
    "print(dict_03.values(),len(dict_03.values())) # values length is 3, all values, output=3\n",
    "print(dict_03.items(),len(dict_03.items())) # items in dictionary is 3, all items, output=3"
   ]
  },
  {
   "cell_type": "code",
   "execution_count": 203,
   "id": "70c93d8a-83cb-40e3-bde0-796d132314c3",
   "metadata": {},
   "outputs": [
    {
     "name": "stdout",
     "output_type": "stream",
     "text": [
      "{'girls': {'a': 7, 'b': 14, 'c': 11}, 'boys': ['e', 'f', 'g']}\n",
      "{'a': 7, 'b': 14, 'c': 11}\n",
      "14\n"
     ]
    }
   ],
   "source": [
    "classroom={'girls':{'a':7,'b':14,'c':11},  # nested dictionary\n",
    "           'boys':['e','f','g']}\n",
    "print(classroom)  # print whole dictionary classroom\n",
    "print(classroom['girls']) # print values of key named 'girl'\n",
    "print(classroom['girls']['b']) # print the value '14' of keys'b' in dictionary named girls from classroom"
   ]
  },
  {
   "cell_type": "code",
   "execution_count": 74,
   "id": "51b10705-8539-4df7-9630-e9577e663cf8",
   "metadata": {},
   "outputs": [
    {
     "name": "stdout",
     "output_type": "stream",
     "text": [
      "[14, 80]\n"
     ]
    }
   ],
   "source": [
    "classroom={'girls':{'a':7,'b':[14,80],'c':11},  # nested dictionary and list in dictionary\n",
    "           'boys':['e','f','g']}\n",
    "print(classroom['girls']['b']) # print the value <a list> = '[14,80]' of keys'b' in dictionary named girls from classroom"
   ]
  },
  {
   "cell_type": "code",
   "execution_count": 78,
   "id": "08faeba7-4b20-46a5-b035-f35bfd3085fa",
   "metadata": {},
   "outputs": [
    {
     "name": "stdout",
     "output_type": "stream",
     "text": [
      "14\n"
     ]
    }
   ],
   "source": [
    "classroom={'girls':{'a':7,'b':[14,80],'c':11},  # nested dictionary and list in dictionary\n",
    "           'boys':['e','f','g']}\n",
    "print(classroom['girls']['b'][0]) \n",
    "# print the value of index 0 from <list> = '[14,80]' , value of index 0 = 14 (output)\n",
    "# name of the list is 'b' in dictionary named girls\n",
    "# girls is nested dictionary in the dictionary named 'classroom'"
   ]
  },
  {
   "cell_type": "markdown",
   "id": "d333bc82-12f2-4c59-b3b7-af0c9311978a",
   "metadata": {},
   "source": [
    "# adding a item in dictionary"
   ]
  },
  {
   "cell_type": "code",
   "execution_count": 102,
   "id": "09a3be91-e224-49dc-aeac-87b78b8ff1f1",
   "metadata": {},
   "outputs": [
    {
     "name": "stdout",
     "output_type": "stream",
     "text": [
      "{'girls': {'a': 7, 'b': [14, 80], 'c': 11, 'd': 1000}, 'boys': ['e', 'f', 'g']}\n"
     ]
    }
   ],
   "source": [
    "classroom={'girls':{'a':7,'b':[14,80],'c':11},  # nested dictionary and list in dictionary\n",
    "           'boys':['e','f','g']}\n",
    "classroom['girls']['d']=1000 # will add another one key 'd' which value is=1000\n",
    "print(classroom)"
   ]
  },
  {
   "cell_type": "markdown",
   "id": "5c3c4524-72ac-4e39-9698-d87985504102",
   "metadata": {},
   "source": [
    "# locating a particuler value from a dictionary"
   ]
  },
  {
   "cell_type": "code",
   "execution_count": 100,
   "id": "1aa13100-90ee-43f8-9ee5-2bacdb373159",
   "metadata": {},
   "outputs": [
    {
     "name": "stdout",
     "output_type": "stream",
     "text": [
      "{'girls': {'a': 7, 'b': [14, 80], 'c': 11}, 'boys': ['e', 'f', 'g']}\n",
      "['e', 'f', 'g']\n",
      "{'a': 7, 'b': [14, 80], 'c': 11}\n",
      "80\n"
     ]
    }
   ],
   "source": [
    "classroom={'girls':{'a':7,\n",
    "                    'b':[14,80],\n",
    "                    'c':11},  # nested dictionary and list in dictionary\n",
    "           \n",
    "           'boys':['e','f','g']}\n",
    "# locate particuler value\n",
    "print(classroom) # print whole classroom\n",
    "print(classroom['boys']) # print the values of keys 'boys' from dictionary named classroom\n",
    "print(classroom['girls']) # print the values of keys 'girls' from dictionary named classroom\n",
    "print(classroom['girls']['b'][1]) # print value of index 1 = 80 from list b, from value's of key 'girls' in dictionary named classroom"
   ]
  },
  {
   "cell_type": "markdown",
   "id": "8c03a96f-f316-49b9-94af-3095c7108e3c",
   "metadata": {},
   "source": [
    "# change value in the dictionary"
   ]
  },
  {
   "cell_type": "code",
   "execution_count": 109,
   "id": "c876f2ed-a345-4b95-9fb1-b5ee3885830a",
   "metadata": {},
   "outputs": [
    {
     "name": "stdout",
     "output_type": "stream",
     "text": [
      "{'girls': {'a': 7, 'b': [14, 80], 'c': 999}, 'boys': ['e', 'f', 'g']}\n"
     ]
    }
   ],
   "source": [
    "classroom={'girls':{'a':7,\n",
    "                    'b':[14,80],\n",
    "                    'c':11},  # nested dictionary and list in dictionary\n",
    "           \n",
    "           'boys':['e','f','g']}\n",
    "\n",
    "classroom['girls']['c']=999 # will change the value of 'c'=99, from value's under key 'girl' in dictionary 'classroom'\n",
    "print(classroom)"
   ]
  },
  {
   "cell_type": "markdown",
   "id": "f43a60c5-6310-4595-8ff4-1180fbc66e89",
   "metadata": {},
   "source": [
    "# samiler keys under dictionary"
   ]
  },
  {
   "cell_type": "code",
   "execution_count": 124,
   "id": "bda9a0f1-009b-4f4a-a3cf-e3acaaafe4f6",
   "metadata": {},
   "outputs": [
    {
     "name": "stdout",
     "output_type": "stream",
     "text": [
      "{'girls': {'a': 12345, 'b': [14, 80], 'c': 11}, 'boys': ['e', 'f', 'g']}\n"
     ]
    }
   ],
   "source": [
    "classroom={'girls':{'a':7,\n",
    "                    'b':[14,80],\n",
    "                    'c':11,\n",
    "                    'a':12345},  # nested dictionary and list in dictionary\n",
    " # if there any same key in the dictionary, there, \n",
    "           # latest value of that key replace to old kays,\n",
    "           # mean, one key will show is same name multiple kay in the dictionary.\n",
    "           # value will be the last one / latest one\n",
    "           'boys':['e','f','g']}\n",
    "# in this list a=7 and latest value of a=12345 under same keys.\n",
    "# at the output, single a will show insted of multiple and value will be 12345, the last/latest one\n",
    "print(classroom)"
   ]
  },
  {
   "cell_type": "markdown",
   "id": "cf6271ed-5042-4abd-840d-5ccac2f0290e",
   "metadata": {},
   "source": [
    "# remove in dictionary"
   ]
  },
  {
   "cell_type": "code",
   "execution_count": 129,
   "id": "e8df32ed-26fd-4485-934a-04e084614b64",
   "metadata": {},
   "outputs": [
    {
     "name": "stdout",
     "output_type": "stream",
     "text": [
      "{'girls': {'a': 7, 'c': 11}, 'boys': ['e', 'f', 'g']}\n"
     ]
    }
   ],
   "source": [
    "classroom={'girls':{'a':7,\n",
    "                    'b':[14,80],\n",
    "                    'c':11},  # nested dictionary and list in dictionary\n",
    "           \n",
    "           'boys':['e','f','g']}\n",
    "\n",
    "del classroom['girls']['b'] # will remove mentioned value 'b' (it's a list), from key 'girls' in the dictionary named classroom\n",
    "print(classroom)"
   ]
  },
  {
   "cell_type": "code",
   "execution_count": 131,
   "id": "c53c036a-0d23-4fa8-b456-cd956e513f26",
   "metadata": {},
   "outputs": [
    {
     "name": "stdout",
     "output_type": "stream",
     "text": [
      "{'boys': ['e', 'f', 'g']}\n"
     ]
    }
   ],
   "source": [
    "# remove a key from classroom\n",
    "classroom={'girls':{'a':7,\n",
    "                    'b':[14,80],\n",
    "                    'c':11},  # nested dictionary and list in dictionary\n",
    "           \n",
    "           'boys':['e','f','g']}\n",
    "\n",
    "del classroom['girls'] # will remove mentioned key 'girls' in the dictionary named classroom\n",
    "print(classroom)"
   ]
  },
  {
   "cell_type": "code",
   "execution_count": 135,
   "id": "dc4fb8bb-638c-455c-bcd0-673156c5ee88",
   "metadata": {},
   "outputs": [
    {
     "ename": "NameError",
     "evalue": "name 'classroom' is not defined",
     "output_type": "error",
     "traceback": [
      "\u001b[1;31m---------------------------------------------------------------------------\u001b[0m",
      "\u001b[1;31mNameError\u001b[0m                                 Traceback (most recent call last)",
      "Cell \u001b[1;32mIn[135], line 9\u001b[0m\n\u001b[0;32m      2\u001b[0m classroom\u001b[38;5;241m=\u001b[39m{\u001b[38;5;124m'\u001b[39m\u001b[38;5;124mgirls\u001b[39m\u001b[38;5;124m'\u001b[39m:{\u001b[38;5;124m'\u001b[39m\u001b[38;5;124ma\u001b[39m\u001b[38;5;124m'\u001b[39m:\u001b[38;5;241m7\u001b[39m,\n\u001b[0;32m      3\u001b[0m                     \u001b[38;5;124m'\u001b[39m\u001b[38;5;124mb\u001b[39m\u001b[38;5;124m'\u001b[39m:[\u001b[38;5;241m14\u001b[39m,\u001b[38;5;241m80\u001b[39m],\n\u001b[0;32m      4\u001b[0m                     \u001b[38;5;124m'\u001b[39m\u001b[38;5;124mc\u001b[39m\u001b[38;5;124m'\u001b[39m:\u001b[38;5;241m11\u001b[39m},  \u001b[38;5;66;03m# nested dictionary and list in dictionary\u001b[39;00m\n\u001b[0;32m      5\u001b[0m            \n\u001b[0;32m      6\u001b[0m            \u001b[38;5;124m'\u001b[39m\u001b[38;5;124mboys\u001b[39m\u001b[38;5;124m'\u001b[39m:[\u001b[38;5;124m'\u001b[39m\u001b[38;5;124me\u001b[39m\u001b[38;5;124m'\u001b[39m,\u001b[38;5;124m'\u001b[39m\u001b[38;5;124mf\u001b[39m\u001b[38;5;124m'\u001b[39m,\u001b[38;5;124m'\u001b[39m\u001b[38;5;124mg\u001b[39m\u001b[38;5;124m'\u001b[39m]}\n\u001b[0;32m      8\u001b[0m \u001b[38;5;28;01mdel\u001b[39;00m classroom \u001b[38;5;66;03m# will remove mentioned dictionary named classroom\u001b[39;00m\n\u001b[1;32m----> 9\u001b[0m \u001b[38;5;28mprint\u001b[39m(classroom)\n",
      "\u001b[1;31mNameError\u001b[0m: name 'classroom' is not defined"
     ]
    }
   ],
   "source": [
    "# remove  classroom\n",
    "classroom={'girls':{'a':7,\n",
    "                    'b':[14,80],\n",
    "                    'c':11},  # nested dictionary and list in dictionary\n",
    "           \n",
    "           'boys':['e','f','g']}\n",
    "\n",
    "del classroom # will remove mentioned dictionary named classroom\n",
    "print(classroom) # there no any dictionary exist named classroom after del (remove), so, error on print function"
   ]
  },
  {
   "cell_type": "code",
   "execution_count": 139,
   "id": "c664a9d1-29e4-4cd4-9810-49a70de560c7",
   "metadata": {},
   "outputs": [
    {
     "name": "stdout",
     "output_type": "stream",
     "text": [
      "{'girls': {'a': 7, 'b': [14, 80], 'c': 11}, 'boys': ['e', 'f', 'g']}\n"
     ]
    }
   ],
   "source": [
    "# join two dictionary\n",
    "classroom_girls={'girls':{'a':7,\n",
    "                    'b':[14,80],\n",
    "                    'c':11}}  # nested dictionary and list in dictionary\n",
    "           \n",
    "classroom_boys={'boys':['e','f','g']}\n",
    "\n",
    "classroom_girls.update(classroom_boys) # will add keys and values from classroom_boys to classroom_girls\n",
    "print(classroom_girls)"
   ]
  },
  {
   "cell_type": "code",
   "execution_count": 147,
   "id": "fd4c28a9-e6ae-4e6c-9344-5d1e47658d08",
   "metadata": {},
   "outputs": [
    {
     "data": {
      "text/plain": [
       "{'a': 7, 'b': [14, 80], 'c': 11}"
      ]
     },
     "execution_count": 147,
     "metadata": {},
     "output_type": "execute_result"
    }
   ],
   "source": [
    "classroom_girls.get('girls') # will get the values of key named 'girls' from dictionary named classroom_girls\n",
    "# classroom_girls['girls'] >> same output"
   ]
  },
  {
   "cell_type": "code",
   "execution_count": 153,
   "id": "e192886a-7360-49b7-98de-0fa31174ef53",
   "metadata": {},
   "outputs": [],
   "source": [
    "classroom_girls.get('girl') # there no any key named 'girl' so, there no any output\n",
    "# no error show because of use the 'get' function"
   ]
  },
  {
   "cell_type": "code",
   "execution_count": 157,
   "id": "6ea8ba29-1d5d-4085-b200-3ab3f27d9856",
   "metadata": {},
   "outputs": [
    {
     "data": {
      "text/plain": [
       "'not found'"
      ]
     },
     "execution_count": 157,
     "metadata": {},
     "output_type": "execute_result"
    }
   ],
   "source": [
    "# if we want to return some note if there no key found as we search, then\n",
    "classroom_girls.get('girl', 'not found') # will return 'not found' if there no kay named 'girl'"
   ]
  },
  {
   "cell_type": "code",
   "execution_count": 163,
   "id": "5c68c311-838c-44c1-80dd-cebd264b7acb",
   "metadata": {},
   "outputs": [
    {
     "ename": "KeyError",
     "evalue": "'girl'",
     "output_type": "error",
     "traceback": [
      "\u001b[1;31m---------------------------------------------------------------------------\u001b[0m",
      "\u001b[1;31mKeyError\u001b[0m                                  Traceback (most recent call last)",
      "Cell \u001b[1;32mIn[163], line 1\u001b[0m\n\u001b[1;32m----> 1\u001b[0m classroom_girls[\u001b[38;5;124m'\u001b[39m\u001b[38;5;124mgirl\u001b[39m\u001b[38;5;124m'\u001b[39m]\n",
      "\u001b[1;31mKeyError\u001b[0m: 'girl'"
     ]
    }
   ],
   "source": [
    "classroom_girls['girl']  # show error because we not use 'get' function here, there no any key named 'girl' as previous "
   ]
  },
  {
   "cell_type": "code",
   "execution_count": 171,
   "id": "fa096180-794c-40fe-ad67-1465f99bc973",
   "metadata": {},
   "outputs": [
    {
     "name": "stdout",
     "output_type": "stream",
     "text": [
      "two None\n"
     ]
    }
   ],
   "source": [
    "# for example together\n",
    "dataset={1:'one',\n",
    "         2:'two'}\n",
    "\n",
    "print(dataset[2], dataset.get(3))\n",
    "# it's show value 'two' for key 'two'\n",
    "# return 'none' by default, becuse there no any key named '3'\n",
    "# if we want, we can mentioned 'user defined return' instead of default return 'none'"
   ]
  },
  {
   "cell_type": "code",
   "execution_count": 173,
   "id": "0639dd0f-be3f-4fd9-9e78-b3a2aacc4141",
   "metadata": {},
   "outputs": [
    {
     "name": "stdout",
     "output_type": "stream",
     "text": [
      "two not found\n"
     ]
    }
   ],
   "source": [
    "dataset={1:'one',\n",
    "         2:'two'}\n",
    "\n",
    "print(dataset[2], dataset.get(3,'not found'))"
   ]
  },
  {
   "cell_type": "code",
   "execution_count": 175,
   "id": "ec1b99be-d20c-4ebc-b88c-bff08f8d3ab6",
   "metadata": {},
   "outputs": [
    {
     "ename": "ValueError",
     "evalue": "100 is not in list",
     "output_type": "error",
     "traceback": [
      "\u001b[1;31m---------------------------------------------------------------------------\u001b[0m",
      "\u001b[1;31mValueError\u001b[0m                                Traceback (most recent call last)",
      "Cell \u001b[1;32mIn[175], line 3\u001b[0m\n\u001b[0;32m      1\u001b[0m \u001b[38;5;66;03m# another example of list\u001b[39;00m\n\u001b[0;32m      2\u001b[0m list_11\u001b[38;5;241m=\u001b[39m[\u001b[38;5;241m10\u001b[39m,\u001b[38;5;241m20\u001b[39m,\u001b[38;5;241m30\u001b[39m,\u001b[38;5;241m40\u001b[39m,\u001b[38;5;241m50\u001b[39m]\n\u001b[1;32m----> 3\u001b[0m list_11\u001b[38;5;241m.\u001b[39mindex(\u001b[38;5;241m100\u001b[39m)\n",
      "\u001b[1;31mValueError\u001b[0m: 100 is not in list"
     ]
    }
   ],
   "source": [
    "# another example of list\n",
    "list_11=[10,20,30,40,50]\n",
    "list_11.index(100) # shows error, because value is not in the list"
   ]
  },
  {
   "cell_type": "code",
   "execution_count": 179,
   "id": "e103a6cc-477c-46ef-8308-30f30ec5c792",
   "metadata": {},
   "outputs": [
    {
     "data": {
      "text/plain": [
       "2"
      ]
     },
     "execution_count": 179,
     "metadata": {},
     "output_type": "execute_result"
    }
   ],
   "source": [
    "list_11=[10,20,30,40,50]\n",
    "# index [ 0, 1, 2, 3, 4]\n",
    "list_11.index(30) # will return corresponding index value of 30; here output is 2"
   ]
  },
  {
   "cell_type": "code",
   "execution_count": 211,
   "id": "6a445a11-ecc7-4b6f-961c-32d867f622ed",
   "metadata": {},
   "outputs": [
    {
     "data": {
      "text/plain": [
       "10"
      ]
     },
     "execution_count": 211,
     "metadata": {},
     "output_type": "execute_result"
    }
   ],
   "source": [
    "# example of indexing\n",
    "list=[10,20,30]\n",
    "dict={'a':10,\n",
    "      'b':20,\n",
    "      'c':30}\n",
    "list[0] # index 0 has value = 10, output=10"
   ]
  },
  {
   "cell_type": "code",
   "execution_count": 215,
   "id": "d6d7c796-ada0-4e96-b396-69be6dba2882",
   "metadata": {},
   "outputs": [
    {
     "data": {
      "text/plain": [
       "10"
      ]
     },
     "execution_count": 215,
     "metadata": {},
     "output_type": "execute_result"
    }
   ],
   "source": [
    "dict['a'] # key 'a' has value=10, output=10"
   ]
  },
  {
   "cell_type": "code",
   "execution_count": 231,
   "id": "924f233a-ec57-45b1-a0ca-8d27482a50e0",
   "metadata": {},
   "outputs": [
    {
     "name": "stdout",
     "output_type": "stream",
     "text": [
      "{'yellow': ['mango', 'banana'], 'green': ['apple', 'orange']}\n",
      "['mango', 'banana']\n"
     ]
    }
   ],
   "source": [
    "# example\n",
    "# fruit > yellow > mango, banana\n",
    "#       > green  > apple, orange\n",
    "\n",
    "fruit={'yellow':['mango','banana',\n",
    "       'green':['apple','orange']}\n",
    "print(fruit) # will print full dictionary\n",
    "print(fruit['yellow']) # will print the list of yellow under dictionary 'fruit'"
   ]
  },
  {
   "cell_type": "code",
   "execution_count": 237,
   "id": "d551d7e3-420c-49ba-b81e-865dbc09fa29",
   "metadata": {},
   "outputs": [
    {
     "name": "stdout",
     "output_type": "stream",
     "text": [
      "{'yellow': {'mango': 5, 'banana': 5}, 'green': {'apple': 10, 'orange': 10}}\n"
     ]
    }
   ],
   "source": [
    "fruit={'yellow':{'mango':5,'banana':5},\n",
    "       'green':{'apple':10,'orange':10}}\n",
    "print(fruit) # will print full dictionary"
   ]
  }
 ],
 "metadata": {
  "kernelspec": {
   "display_name": "Python [conda env:base] *",
   "language": "python",
   "name": "conda-base-py"
  },
  "language_info": {
   "codemirror_mode": {
    "name": "ipython",
    "version": 3
   },
   "file_extension": ".py",
   "mimetype": "text/x-python",
   "name": "python",
   "nbconvert_exporter": "python",
   "pygments_lexer": "ipython3",
   "version": "3.12.7"
  }
 },
 "nbformat": 4,
 "nbformat_minor": 5
}
