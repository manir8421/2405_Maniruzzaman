{
 "cells": [
  {
   "cell_type": "code",
   "execution_count": 1,
   "id": "4bbf67d4-4f3c-4ce1-afb5-f8d500583b53",
   "metadata": {},
   "outputs": [
    {
     "data": {
      "text/plain": [
       "4"
      ]
     },
     "execution_count": 1,
     "metadata": {},
     "output_type": "execute_result"
    }
   ],
   "source": [
    "2+2"
   ]
  },
  {
   "cell_type": "code",
   "execution_count": 3,
   "id": "c7ff73a3-5cd2-4736-915c-92558f61ea87",
   "metadata": {},
   "outputs": [
    {
     "name": "stdout",
     "output_type": "stream",
     "text": [
      "hello world\n"
     ]
    }
   ],
   "source": [
    "print(\"hello world\")"
   ]
  },
  {
   "cell_type": "markdown",
   "id": "ee9edf5a-9ab7-484a-b007-7116606e928f",
   "metadata": {},
   "source": [
    "# operator"
   ]
  },
  {
   "cell_type": "code",
   "execution_count": 9,
   "id": "90c9187a-12af-4a2e-a13c-9678b33d2ebb",
   "metadata": {},
   "outputs": [
    {
     "data": {
      "text/plain": [
       "4"
      ]
     },
     "execution_count": 9,
     "metadata": {},
     "output_type": "execute_result"
    }
   ],
   "source": [
    "# addition\n",
    "2+2"
   ]
  },
  {
   "cell_type": "code",
   "execution_count": 11,
   "id": "ffc78b4f-fd9e-45fb-94a2-7496d24b454b",
   "metadata": {},
   "outputs": [
    {
     "data": {
      "text/plain": [
       "7"
      ]
     },
     "execution_count": 11,
     "metadata": {},
     "output_type": "execute_result"
    }
   ],
   "source": [
    "# subtraction\n",
    "10-3"
   ]
  },
  {
   "cell_type": "code",
   "execution_count": 13,
   "id": "b460d239-c761-4f1f-b5ba-db39db17bc8c",
   "metadata": {},
   "outputs": [
    {
     "data": {
      "text/plain": [
       "4"
      ]
     },
     "execution_count": 13,
     "metadata": {},
     "output_type": "execute_result"
    }
   ],
   "source": [
    "# multiply\n",
    "2*2"
   ]
  },
  {
   "cell_type": "code",
   "execution_count": 15,
   "id": "20906dd5-59f6-45c4-9e46-dc2c73493f61",
   "metadata": {},
   "outputs": [
    {
     "data": {
      "text/plain": [
       "3.3333333333333335"
      ]
     },
     "execution_count": 15,
     "metadata": {},
     "output_type": "execute_result"
    }
   ],
   "source": [
    "# division\n",
    "10/3"
   ]
  },
  {
   "cell_type": "code",
   "execution_count": 17,
   "id": "12954e2e-7bae-4ca9-a6d3-cdc08607f923",
   "metadata": {},
   "outputs": [
    {
     "data": {
      "text/plain": [
       "3"
      ]
     },
     "execution_count": 17,
     "metadata": {},
     "output_type": "execute_result"
    }
   ],
   "source": [
    "# floor division\n",
    "10//3"
   ]
  },
  {
   "cell_type": "code",
   "execution_count": 19,
   "id": "bf63fee0-428c-46f1-b6a5-56c53d4135e2",
   "metadata": {},
   "outputs": [
    {
     "data": {
      "text/plain": [
       "8"
      ]
     },
     "execution_count": 19,
     "metadata": {},
     "output_type": "execute_result"
    }
   ],
   "source": [
    "# power\n",
    "2**3"
   ]
  },
  {
   "cell_type": "code",
   "execution_count": 21,
   "id": "355c216d-1c1f-478a-8061-036aa2d1ee8f",
   "metadata": {},
   "outputs": [
    {
     "data": {
      "text/plain": [
       "2"
      ]
     },
     "execution_count": 21,
     "metadata": {},
     "output_type": "execute_result"
    }
   ],
   "source": [
    "# modulus\n",
    "10%4"
   ]
  },
  {
   "cell_type": "markdown",
   "id": "b74f7228-1ecb-455e-8315-daa182768c09",
   "metadata": {},
   "source": [
    "# comparison opertor"
   ]
  },
  {
   "cell_type": "code",
   "execution_count": 27,
   "id": "e845b892-ca30-497e-ae98-855e4fe883ff",
   "metadata": {},
   "outputs": [
    {
     "data": {
      "text/plain": [
       "False"
      ]
     },
     "execution_count": 27,
     "metadata": {},
     "output_type": "execute_result"
    }
   ],
   "source": [
    "2>3"
   ]
  },
  {
   "cell_type": "code",
   "execution_count": 29,
   "id": "529a8519-8412-4e39-92e2-305709f39fdb",
   "metadata": {},
   "outputs": [
    {
     "data": {
      "text/plain": [
       "True"
      ]
     },
     "execution_count": 29,
     "metadata": {},
     "output_type": "execute_result"
    }
   ],
   "source": [
    "2<3"
   ]
  },
  {
   "cell_type": "code",
   "execution_count": 31,
   "id": "63c1a8ec-4dc6-4879-9d38-fd693babfab7",
   "metadata": {},
   "outputs": [
    {
     "data": {
      "text/plain": [
       "False"
      ]
     },
     "execution_count": 31,
     "metadata": {},
     "output_type": "execute_result"
    }
   ],
   "source": [
    "2==3"
   ]
  },
  {
   "cell_type": "code",
   "execution_count": 33,
   "id": "352854f9-2aa1-407a-a6c3-88d536534f9e",
   "metadata": {},
   "outputs": [
    {
     "data": {
      "text/plain": [
       "True"
      ]
     },
     "execution_count": 33,
     "metadata": {},
     "output_type": "execute_result"
    }
   ],
   "source": [
    "2!=3"
   ]
  },
  {
   "cell_type": "code",
   "execution_count": 35,
   "id": "6809fd4e-d2e4-4ebc-82e2-2a75ddfb1095",
   "metadata": {},
   "outputs": [
    {
     "data": {
      "text/plain": [
       "False"
      ]
     },
     "execution_count": 35,
     "metadata": {},
     "output_type": "execute_result"
    }
   ],
   "source": [
    "2==3"
   ]
  },
  {
   "cell_type": "code",
   "execution_count": 37,
   "id": "99a709ac-cfdc-47ff-a11a-526e3b0d0c88",
   "metadata": {},
   "outputs": [
    {
     "data": {
      "text/plain": [
       "False"
      ]
     },
     "execution_count": 37,
     "metadata": {},
     "output_type": "execute_result"
    }
   ],
   "source": [
    "3>=4"
   ]
  },
  {
   "cell_type": "code",
   "execution_count": 39,
   "id": "92341626-ed56-4da5-9b6e-66c36e32ea33",
   "metadata": {},
   "outputs": [
    {
     "data": {
      "text/plain": [
       "True"
      ]
     },
     "execution_count": 39,
     "metadata": {},
     "output_type": "execute_result"
    }
   ],
   "source": [
    "3>=3"
   ]
  },
  {
   "cell_type": "code",
   "execution_count": 41,
   "id": "a937851e-f9d6-4fd7-9003-8baa5308aa83",
   "metadata": {},
   "outputs": [
    {
     "data": {
      "text/plain": [
       "True"
      ]
     },
     "execution_count": 41,
     "metadata": {},
     "output_type": "execute_result"
    }
   ],
   "source": [
    "4>=3"
   ]
  },
  {
   "cell_type": "code",
   "execution_count": 43,
   "id": "20e10e10-cb15-4cd1-b9ac-fc7eb3072e95",
   "metadata": {},
   "outputs": [
    {
     "data": {
      "text/plain": [
       "True"
      ]
     },
     "execution_count": 43,
     "metadata": {},
     "output_type": "execute_result"
    }
   ],
   "source": [
    "4<=4"
   ]
  },
  {
   "cell_type": "code",
   "execution_count": 45,
   "id": "f9c7aa07-11e3-427f-97f1-11be549681cd",
   "metadata": {},
   "outputs": [
    {
     "data": {
      "text/plain": [
       "True"
      ]
     },
     "execution_count": 45,
     "metadata": {},
     "output_type": "execute_result"
    }
   ],
   "source": [
    "4<=7"
   ]
  },
  {
   "cell_type": "markdown",
   "id": "10def6ae-94ee-4dbf-9da0-2051265e3122",
   "metadata": {},
   "source": [
    "# variable"
   ]
  },
  {
   "cell_type": "code",
   "execution_count": 64,
   "id": "d2e5de9f-08cf-4c01-8aa6-530491744e22",
   "metadata": {},
   "outputs": [],
   "source": [
    "# memory store\n",
    "my_first_variable = 2 # long"
   ]
  },
  {
   "cell_type": "code",
   "execution_count": 66,
   "id": "73398063-c0b2-40bc-a600-aeaa67fdc866",
   "metadata": {},
   "outputs": [
    {
     "name": "stdout",
     "output_type": "stream",
     "text": [
      "2\n"
     ]
    }
   ],
   "source": [
    "print(my_first_variable)"
   ]
  },
  {
   "cell_type": "markdown",
   "id": "db936dd9-f212-4b98-91b6-c153086aff83",
   "metadata": {},
   "source": [
    "# Assignment Operatior"
   ]
  },
  {
   "cell_type": "code",
   "execution_count": 69,
   "id": "6e2807c7-d6de-422d-88bd-acec6b888cec",
   "metadata": {},
   "outputs": [],
   "source": [
    "a = 3"
   ]
  },
  {
   "cell_type": "code",
   "execution_count": 71,
   "id": "ba68af6b-5963-4b1a-a653-66ed47f86f12",
   "metadata": {},
   "outputs": [
    {
     "name": "stdout",
     "output_type": "stream",
     "text": [
      "3\n"
     ]
    }
   ],
   "source": [
    "print(a)"
   ]
  },
  {
   "cell_type": "code",
   "execution_count": 73,
   "id": "4ea2c6c0-92d5-4ff1-a31f-61d2ec309bb4",
   "metadata": {},
   "outputs": [
    {
     "name": "stdout",
     "output_type": "stream",
     "text": [
      "4\n"
     ]
    }
   ],
   "source": [
    "a=3\n",
    "a=a+1\n",
    "print(a)"
   ]
  },
  {
   "cell_type": "markdown",
   "id": "77ac1c0b-44c1-4400-86ff-0b1f180d94bb",
   "metadata": {},
   "source": [
    "# identity operator"
   ]
  },
  {
   "cell_type": "code",
   "execution_count": 76,
   "id": "800d3ee2-bf18-4a70-80b8-8762eb048a7a",
   "metadata": {},
   "outputs": [],
   "source": [
    "# is ==\n",
    "# is not !="
   ]
  },
  {
   "cell_type": "code",
   "execution_count": 80,
   "id": "142e4a0d-2d64-4aac-af34-78e66bb10968",
   "metadata": {},
   "outputs": [
    {
     "data": {
      "text/plain": [
       "True"
      ]
     },
     "execution_count": 80,
     "metadata": {},
     "output_type": "execute_result"
    }
   ],
   "source": [
    "3 == 3"
   ]
  },
  {
   "cell_type": "code",
   "execution_count": 82,
   "id": "3ea361d2-0632-4d27-8aa9-2d382c49de06",
   "metadata": {},
   "outputs": [
    {
     "data": {
      "text/plain": [
       "True"
      ]
     },
     "execution_count": 82,
     "metadata": {},
     "output_type": "execute_result"
    }
   ],
   "source": [
    "3==3"
   ]
  },
  {
   "cell_type": "code",
   "execution_count": 84,
   "id": "f098866e-9592-4a81-b7a8-8fb598fb9731",
   "metadata": {},
   "outputs": [
    {
     "name": "stderr",
     "output_type": "stream",
     "text": [
      "<>:1: SyntaxWarning: \"is\" with 'int' literal. Did you mean \"==\"?\n",
      "<>:1: SyntaxWarning: \"is\" with 'int' literal. Did you mean \"==\"?\n",
      "C:\\Users\\manir\\AppData\\Local\\Temp\\ipykernel_13604\\30664588.py:1: SyntaxWarning: \"is\" with 'int' literal. Did you mean \"==\"?\n",
      "  3 is 3\n"
     ]
    },
    {
     "data": {
      "text/plain": [
       "True"
      ]
     },
     "execution_count": 84,
     "metadata": {},
     "output_type": "execute_result"
    }
   ],
   "source": [
    "3 is 3"
   ]
  },
  {
   "cell_type": "code",
   "execution_count": 86,
   "id": "792a49e1-3dd9-4a5f-85b7-4de26536c166",
   "metadata": {},
   "outputs": [
    {
     "name": "stderr",
     "output_type": "stream",
     "text": [
      "<>:1: SyntaxWarning: \"is\" with 'int' literal. Did you mean \"==\"?\n",
      "<>:1: SyntaxWarning: \"is\" with 'int' literal. Did you mean \"==\"?\n",
      "C:\\Users\\manir\\AppData\\Local\\Temp\\ipykernel_13604\\4228277984.py:1: SyntaxWarning: \"is\" with 'int' literal. Did you mean \"==\"?\n",
      "  3 is 2\n"
     ]
    },
    {
     "data": {
      "text/plain": [
       "False"
      ]
     },
     "execution_count": 86,
     "metadata": {},
     "output_type": "execute_result"
    }
   ],
   "source": [
    "3 is 2"
   ]
  },
  {
   "cell_type": "markdown",
   "id": "1d0118ca-6e39-410e-acd6-1c72e3530550",
   "metadata": {},
   "source": [
    "# logical operator"
   ]
  },
  {
   "cell_type": "code",
   "execution_count": 89,
   "id": "3d322aef-cd3a-4c57-b40f-0a585863ea4b",
   "metadata": {},
   "outputs": [
    {
     "data": {
      "text/plain": [
       "True"
      ]
     },
     "execution_count": 89,
     "metadata": {},
     "output_type": "execute_result"
    }
   ],
   "source": [
    "2>3 or 3>2 # single condition should be atleast valid"
   ]
  },
  {
   "cell_type": "code",
   "execution_count": 91,
   "id": "78f6f1b8-f20f-4ed2-8b45-112efae287c7",
   "metadata": {},
   "outputs": [
    {
     "data": {
      "text/plain": [
       "False"
      ]
     },
     "execution_count": 91,
     "metadata": {},
     "output_type": "execute_result"
    }
   ],
   "source": [
    "2>3 and 3>2 # both condition should be true or valid"
   ]
  },
  {
   "cell_type": "code",
   "execution_count": 93,
   "id": "d7b8e2f0-5dff-40a2-bf9b-a69b461299d8",
   "metadata": {},
   "outputs": [
    {
     "data": {
      "text/plain": [
       "False"
      ]
     },
     "execution_count": 93,
     "metadata": {},
     "output_type": "execute_result"
    }
   ],
   "source": [
    "4>3 and 3>2 and 2>3 # all condition should bd true"
   ]
  },
  {
   "cell_type": "code",
   "execution_count": 95,
   "id": "0dfaadf3-f307-4569-a425-b76a8715c699",
   "metadata": {},
   "outputs": [
    {
     "data": {
      "text/plain": [
       "False"
      ]
     },
     "execution_count": 95,
     "metadata": {},
     "output_type": "execute_result"
    }
   ],
   "source": [
    "not (2>3 or 3>2)"
   ]
  },
  {
   "cell_type": "code",
   "execution_count": 97,
   "id": "94a9e07d-75cf-494a-abda-3c03d22b5647",
   "metadata": {},
   "outputs": [
    {
     "data": {
      "text/plain": [
       "True"
      ]
     },
     "execution_count": 97,
     "metadata": {},
     "output_type": "execute_result"
    }
   ],
   "source": [
    "(2>3 or 3>2)"
   ]
  },
  {
   "cell_type": "markdown",
   "id": "5eabb24f-d910-41bc-8fce-64f010dc6fc7",
   "metadata": {},
   "source": [
    "# membership operator"
   ]
  },
  {
   "cell_type": "code",
   "execution_count": 100,
   "id": "91ab1d9e-19b4-48c2-b250-0b80ea6f9354",
   "metadata": {},
   "outputs": [
    {
     "data": {
      "text/plain": [
       "False"
      ]
     },
     "execution_count": 100,
     "metadata": {},
     "output_type": "execute_result"
    }
   ],
   "source": [
    "3 in (4,5,6)"
   ]
  },
  {
   "cell_type": "code",
   "execution_count": 102,
   "id": "466b8641-6b72-4a77-8eb9-3820a486c24a",
   "metadata": {},
   "outputs": [
    {
     "data": {
      "text/plain": [
       "True"
      ]
     },
     "execution_count": 102,
     "metadata": {},
     "output_type": "execute_result"
    }
   ],
   "source": [
    "3 in (3,4,5,6)"
   ]
  },
  {
   "cell_type": "code",
   "execution_count": 104,
   "id": "3c31280e-1b5d-4c93-89e1-f10ed59a288e",
   "metadata": {},
   "outputs": [
    {
     "data": {
      "text/plain": [
       "True"
      ]
     },
     "execution_count": 104,
     "metadata": {},
     "output_type": "execute_result"
    }
   ],
   "source": [
    "3 not in (4,5,6)"
   ]
  },
  {
   "cell_type": "markdown",
   "id": "bcbaeff7-6d88-45f1-b9a1-7a0630c6f6af",
   "metadata": {},
   "source": [
    "# data types"
   ]
  },
  {
   "cell_type": "code",
   "execution_count": 107,
   "id": "cd1fe82c-cf0c-4fd9-9d72-04afb4c51122",
   "metadata": {},
   "outputs": [],
   "source": [
    "# char > / string \"a\", 'a', \"\", '', ''' ''', \"\"\" \"\"\"\n",
    "# bool > true/false\n",
    "# int > 3,100,-1000\n",
    "# float > 3.1, -100.23, 1.0"
   ]
  },
  {
   "cell_type": "code",
   "execution_count": 109,
   "id": "7e531317-da1f-4e90-a318-ae17da6e95e1",
   "metadata": {},
   "outputs": [
    {
     "data": {
      "text/plain": [
       "int"
      ]
     },
     "execution_count": 109,
     "metadata": {},
     "output_type": "execute_result"
    }
   ],
   "source": [
    "my_var=3\n",
    "type(my_var)"
   ]
  },
  {
   "cell_type": "code",
   "execution_count": 111,
   "id": "a814fb09-fd79-4973-bd69-3cd0866b6ae8",
   "metadata": {},
   "outputs": [],
   "source": [
    "my_var=3.2"
   ]
  },
  {
   "cell_type": "code",
   "execution_count": 113,
   "id": "acf46fd7-2c09-4e76-901b-12220f7a60a6",
   "metadata": {},
   "outputs": [
    {
     "data": {
      "text/plain": [
       "float"
      ]
     },
     "execution_count": 113,
     "metadata": {},
     "output_type": "execute_result"
    }
   ],
   "source": [
    "type(my_var)"
   ]
  },
  {
   "cell_type": "code",
   "execution_count": 119,
   "id": "614a2048-ed98-43ba-82b6-ab59e020bde8",
   "metadata": {},
   "outputs": [
    {
     "data": {
      "text/plain": [
       "str"
      ]
     },
     "execution_count": 119,
     "metadata": {},
     "output_type": "execute_result"
    }
   ],
   "source": [
    "x = \"hello\"\n",
    "type (x)"
   ]
  },
  {
   "cell_type": "code",
   "execution_count": 121,
   "id": "a14024a1-f011-4caf-8727-d71c209192a6",
   "metadata": {},
   "outputs": [],
   "source": [
    "x=True"
   ]
  },
  {
   "cell_type": "code",
   "execution_count": 123,
   "id": "69beb949-5378-4586-84c8-6fedf12baf7e",
   "metadata": {},
   "outputs": [
    {
     "data": {
      "text/plain": [
       "bool"
      ]
     },
     "execution_count": 123,
     "metadata": {},
     "output_type": "execute_result"
    }
   ],
   "source": [
    "type(x)"
   ]
  },
  {
   "cell_type": "markdown",
   "id": "49dc0355-9a02-4536-be45-f07dafa41ddf",
   "metadata": {},
   "source": [
    "# next class starting by 'list'"
   ]
  },
  {
   "cell_type": "code",
   "execution_count": 130,
   "id": "9040e336-191e-44be-9682-5e5b7bdcd0ef",
   "metadata": {},
   "outputs": [],
   "source": [
    "# home work> use note for each line or code of class_03"
   ]
  },
  {
   "cell_type": "code",
   "execution_count": null,
   "id": "6c181c24-c8c7-43f9-9944-d7f11a374b4c",
   "metadata": {},
   "outputs": [],
   "source": []
  }
 ],
 "metadata": {
  "kernelspec": {
   "display_name": "Python [conda env:base] *",
   "language": "python",
   "name": "conda-base-py"
  },
  "language_info": {
   "codemirror_mode": {
    "name": "ipython",
    "version": 3
   },
   "file_extension": ".py",
   "mimetype": "text/x-python",
   "name": "python",
   "nbconvert_exporter": "python",
   "pygments_lexer": "ipython3",
   "version": "3.12.7"
  }
 },
 "nbformat": 4,
 "nbformat_minor": 5
}
