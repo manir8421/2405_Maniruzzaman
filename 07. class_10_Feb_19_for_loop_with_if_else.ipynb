{
 "cells": [
  {
   "cell_type": "markdown",
   "id": "18bcb2a5-d41f-4da9-91ca-e2199609e033",
   "metadata": {},
   "source": [
    "# loop - for loop, while loop"
   ]
  },
  {
   "cell_type": "markdown",
   "id": "d0103de4-f866-4cbf-ab27-bbb33d097f80",
   "metadata": {},
   "source": [
    "# for loop"
   ]
  },
  {
   "cell_type": "code",
   "execution_count": 2,
   "id": "f5af4d8b-df64-4388-b98c-e3e63a2c10c3",
   "metadata": {},
   "outputs": [
    {
     "data": {
      "text/plain": [
       "9"
      ]
     },
     "execution_count": 2,
     "metadata": {},
     "output_type": "execute_result"
    }
   ],
   "source": [
    "list1=[3,4,5,6,7,8]\n",
    "list1[0]**2"
   ]
  },
  {
   "cell_type": "code",
   "execution_count": 8,
   "id": "3646fba1-05a9-4b94-a2ef-0b67852fd2c7",
   "metadata": {},
   "outputs": [
    {
     "name": "stdout",
     "output_type": "stream",
     "text": [
      "1 1\n",
      "2 4\n",
      "3 9\n",
      "4 16\n",
      "5 25\n",
      "6 36\n",
      "7 49\n",
      "8 64\n",
      "9 81\n"
     ]
    }
   ],
   "source": [
    "list_2=[1,2,3,4,5,6,7,8,9]\n",
    "for element in list_2:\n",
    "    print(element, element**2)"
   ]
  },
  {
   "cell_type": "code",
   "execution_count": 10,
   "id": "1169a92d-362c-44f4-adc2-92b1394d6f5f",
   "metadata": {},
   "outputs": [
    {
     "name": "stdout",
     "output_type": "stream",
     "text": [
      "1 1 1\n",
      "2 4 8\n",
      "3 9 27\n",
      "4 16 64\n",
      "5 25 125\n",
      "6 36 216\n",
      "7 49 343\n",
      "8 64 512\n",
      "9 81 729\n"
     ]
    }
   ],
   "source": [
    "list_2=[1,2,3,4,5,6,7,8,9]\n",
    "for element in list_2:\n",
    "    print(element, element**2, element**3)"
   ]
  },
  {
   "cell_type": "code",
   "execution_count": 14,
   "id": "f5a77592-2213-4a7c-896f-2a72915b0d33",
   "metadata": {},
   "outputs": [
    {
     "name": "stdout",
     "output_type": "stream",
     "text": [
      "1\n",
      "4\n",
      "9\n",
      "16\n",
      "25\n",
      "36\n",
      "49\n",
      "64\n",
      "81\n"
     ]
    }
   ],
   "source": [
    "list_2=[1,2,3,4,5,6,7,8,9]\n",
    "for element in list_2:\n",
    "    print(element**2)"
   ]
  },
  {
   "cell_type": "code",
   "execution_count": 16,
   "id": "6f88b8cf-4a48-4024-b4b8-4d7adf8bb406",
   "metadata": {},
   "outputs": [
    {
     "name": "stdout",
     "output_type": "stream",
     "text": [
      "1\n",
      "8\n",
      "27\n",
      "64\n",
      "125\n",
      "216\n",
      "343\n",
      "512\n",
      "729\n"
     ]
    }
   ],
   "source": [
    "list_2=[1,2,3,4,5,6,7,8,9]\n",
    "for element in list_2:\n",
    "    print(element**3)"
   ]
  },
  {
   "cell_type": "code",
   "execution_count": 20,
   "id": "67fbb239-f9fe-4743-9515-a74d97219ce7",
   "metadata": {},
   "outputs": [
    {
     "name": "stdout",
     "output_type": "stream",
     "text": [
      "[1, 4, 9, 16, 25, 36, 49, 64, 81]\n"
     ]
    }
   ],
   "source": [
    "list_1=[1,2,3,4,5,6,7,8,9]\n",
    "list_blnk=[]\n",
    "for element in list_1:\n",
    "    list_blnk.append(element**2)\n",
    "print(list_blnk)"
   ]
  },
  {
   "cell_type": "code",
   "execution_count": 22,
   "id": "1827553e-fcbd-4539-83ae-b62024f250b8",
   "metadata": {},
   "outputs": [
    {
     "data": {
      "text/plain": [
       "2"
      ]
     },
     "execution_count": 22,
     "metadata": {},
     "output_type": "execute_result"
    }
   ],
   "source": [
    "list_1 = [1,2,3,4,5,6,7,8,9] # element in list\n",
    "# index= [0,1,2,3,4,5,6,7,8]\n",
    "list_1.index(3) # mention element 3 and output is corresponding index 2"
   ]
  },
  {
   "cell_type": "code",
   "execution_count": 26,
   "id": "b2b7cf61-21ce-4880-9108-d2f59b630b25",
   "metadata": {},
   "outputs": [
    {
     "data": {
      "text/plain": [
       "3"
      ]
     },
     "execution_count": 26,
     "metadata": {},
     "output_type": "execute_result"
    }
   ],
   "source": [
    "list_1 = [1,2,3,4,5,6,7,8,9] # element in list\n",
    "# index= [0,1,2,3,4,5,6,7,8]\n",
    "list_1[2] # mention index 2 and output is corresponding value 3"
   ]
  },
  {
   "cell_type": "code",
   "execution_count": 28,
   "id": "f98ea256-d22e-4176-9db6-627221659e86",
   "metadata": {},
   "outputs": [
    {
     "data": {
      "text/plain": [
       "6"
      ]
     },
     "execution_count": 28,
     "metadata": {},
     "output_type": "execute_result"
    }
   ],
   "source": [
    "list_1=[1,2,3,4,5,6,7,8,9]\n",
    "list_1.index(7)"
   ]
  },
  {
   "cell_type": "code",
   "execution_count": 34,
   "id": "b44ca74b-4c49-47be-b806-0bff5817a8af",
   "metadata": {},
   "outputs": [
    {
     "data": {
      "text/plain": [
       "7"
      ]
     },
     "execution_count": 34,
     "metadata": {},
     "output_type": "execute_result"
    }
   ],
   "source": [
    "list_1=[1,2,3,4,5,6,7,8,9]\n",
    "list_1[6]"
   ]
  },
  {
   "cell_type": "code",
   "execution_count": 42,
   "id": "0c2a45ed-9fc9-47fa-bc85-94d84cbea45d",
   "metadata": {},
   "outputs": [
    {
     "data": {
      "text/plain": [
       "1"
      ]
     },
     "execution_count": 42,
     "metadata": {},
     "output_type": "execute_result"
    }
   ],
   "source": [
    "list_1=[3,4,5,6,7,8]\n",
    "list_1.index(4) # index of value 4 = 1, so Output = 1\n",
    "# list_1[list_1.index(4)]"
   ]
  },
  {
   "cell_type": "code",
   "execution_count": 48,
   "id": "16f0caeb-949d-4e8c-a5e6-ce31fbeca9b4",
   "metadata": {},
   "outputs": [
    {
     "data": {
      "text/plain": [
       "4"
      ]
     },
     "execution_count": 48,
     "metadata": {},
     "output_type": "execute_result"
    }
   ],
   "source": [
    "list_1=[3,4,5,6,7,8]\n",
    "# list_1.index(4) # index of value 4 = 1, so Output = 1\n",
    "list_1[list_1.index(4)] # list_1.index(4) = 1 ; list_1[1] = 4 , so,Output = 4"
   ]
  },
  {
   "cell_type": "code",
   "execution_count": 52,
   "id": "8a08debe-52df-40fc-a731-ff875e462102",
   "metadata": {},
   "outputs": [
    {
     "name": "stdout",
     "output_type": "stream",
     "text": [
      "[3, 4, 5, 6, 7, 8]\n",
      "[100, 4, 5, 6, 7, 8]\n"
     ]
    }
   ],
   "source": [
    "list_1=[3,4,5,6,7,8]\n",
    "print(list_1)\n",
    "list_1[0] = 100 # item assignment\n",
    "print(list_1)"
   ]
  },
  {
   "cell_type": "code",
   "execution_count": 62,
   "id": "754db9ac-9348-4c31-a59c-39328feacc2d",
   "metadata": {},
   "outputs": [
    {
     "name": "stdout",
     "output_type": "stream",
     "text": [
      "3\n"
     ]
    },
    {
     "data": {
      "text/plain": [
       "6"
      ]
     },
     "execution_count": 62,
     "metadata": {},
     "output_type": "execute_result"
    }
   ],
   "source": [
    "# make square of element 6 from list\n",
    "list_1=[3,4,5,6,7,8]\n",
    "index = list_1.index(6) # here, index of 6 = 3, so, index = 3\n",
    "print(index)\n",
    "list_1[index] # menas, list[3]; element of index 3 = 6, output = 6"
   ]
  },
  {
   "cell_type": "code",
   "execution_count": 66,
   "id": "40b8b991-72cf-4c59-96fa-4e82397bce90",
   "metadata": {},
   "outputs": [
    {
     "name": "stdout",
     "output_type": "stream",
     "text": [
      "3\n",
      "[3, 4, 5, 1000, 7, 8]\n"
     ]
    }
   ],
   "source": [
    "list_1=[3,4,5,6,7,8]\n",
    "index = list_1.index(6) # here, index of 6 = 3, so, index = 3\n",
    "print(index)\n",
    "list_1[index] = 1000 # menas, list[3]; new value of index 3 = 1000, output = 1000\n",
    "print(list_1)"
   ]
  },
  {
   "cell_type": "code",
   "execution_count": 68,
   "id": "cb3c6bf4-1b32-49f0-800a-4c5d75a2938a",
   "metadata": {},
   "outputs": [
    {
     "data": {
      "text/plain": [
       "6"
      ]
     },
     "execution_count": 68,
     "metadata": {},
     "output_type": "execute_result"
    }
   ],
   "source": [
    "list_1=[3,4,5,6,7,8]\n",
    "list_1[list_1.index(6)] # index of element 6 = 3, means, list_1[3] = 6, output = 6 "
   ]
  },
  {
   "cell_type": "code",
   "execution_count": 74,
   "id": "3ee307f4-8bc3-416e-b0d2-a954f5a9dc8b",
   "metadata": {},
   "outputs": [
    {
     "name": "stdout",
     "output_type": "stream",
     "text": [
      "[3, 4, 5, 100, 7, 8]\n"
     ]
    }
   ],
   "source": [
    "list_1=[3,4,5,6,7,8]\n",
    "list_1[list_1.index(6)] = 100 # index of element 6 = 3, means, new value of index list_1[3] = 100, output = 100\n",
    "print(list_1)"
   ]
  },
  {
   "cell_type": "code",
   "execution_count": 82,
   "id": "22fc7fac-c308-440f-90dd-7c774c45a010",
   "metadata": {},
   "outputs": [
    {
     "name": "stdout",
     "output_type": "stream",
     "text": [
      "[9, 16, 25, 36, 49, 64]\n"
     ]
    }
   ],
   "source": [
    "list_1=[3,4,5,6,7,8]\n",
    "for element in list_1:\n",
    "    list_1[list_1.index(element)] =  list_1[list_1.index(element)]**2\n",
    "    # here, check each element's index fisrt, then square of the value of corresponding index\n",
    "    # example, 1st step, element = 3\n",
    "    # index of element = 0\n",
    "    # then, in the index 0 = value**2 of the corresponding index; 3**2 = 9\n",
    "print(list_1)"
   ]
  },
  {
   "cell_type": "code",
   "execution_count": 84,
   "id": "a64285a5-801f-4b2b-ab48-a4b213ea79ae",
   "metadata": {},
   "outputs": [
    {
     "name": "stdout",
     "output_type": "stream",
     "text": [
      "[9, 16, 25, 36, 49, 64]\n"
     ]
    }
   ],
   "source": [
    "list_1=[3,4,5,6,7,8]\n",
    "for element in list_1:\n",
    "    index=list_1.index(element)\n",
    "    list_1[index] =  list_1[index]**2\n",
    "    # here, check each element's index fisrt, then square of the value of corresponding index\n",
    "    # example, 1st step, element = 3\n",
    "    # index of element = 0\n",
    "    # then, in the index 0 = value**2 of the corresponding index; 3**2 = 9\n",
    "print(list_1)"
   ]
  },
  {
   "cell_type": "code",
   "execution_count": 90,
   "id": "f6511c7b-6ef8-4d02-a327-acca4869a154",
   "metadata": {},
   "outputs": [
    {
     "name": "stdout",
     "output_type": "stream",
     "text": [
      "[3, 4, 5, 36, 7, 8]\n"
     ]
    }
   ],
   "source": [
    "# square of value 6\n",
    "list_1=[3,4,5,6,7,8]\n",
    "for element in list_1:\n",
    "    index=list_1.index(element)\n",
    "    if list_1[index] == 6:\n",
    "        list_1[index] = list_1[index]**2 \n",
    "print(list_1)"
   ]
  },
  {
   "cell_type": "code",
   "execution_count": 92,
   "id": "dd7a3b0f-8b27-42ae-a73b-5952d2dc8176",
   "metadata": {},
   "outputs": [
    {
     "name": "stdout",
     "output_type": "stream",
     "text": [
      "[3, 4, 5, 36, 7, 8]\n"
     ]
    }
   ],
   "source": [
    "# square of value 6\n",
    "list_1=[3,4,5,6,7,8]\n",
    "for element in list_1:\n",
    "    if list_1[list_1.index(element)] == 6:\n",
    "        list_1[list_1.index(element)] = list_1[list_1.index(element)]**2 \n",
    "print(list_1)"
   ]
  },
  {
   "cell_type": "code",
   "execution_count": 150,
   "id": "fb7d6238-6749-4f7c-a40c-81a9bfc2aa20",
   "metadata": {},
   "outputs": [
    {
     "name": "stdout",
     "output_type": "stream",
     "text": [
      "6\n",
      "range(0, 6)\n",
      "[0, 1, 2, 3, 4, 5]\n"
     ]
    }
   ],
   "source": [
    "list_1 = [3,4,5,6,7,8]\n",
    "# length= 1,2,3,4,5,6\n",
    "# index= [0,1,2,3,4,5]\n",
    "print(len(list_1))\n",
    "print(range(len(list_1)))\n",
    "print(list(range(len(list_1))))"
   ]
  },
  {
   "cell_type": "code",
   "execution_count": 152,
   "id": "f0c39062-f83d-4a35-977f-06ca2c5a379e",
   "metadata": {},
   "outputs": [
    {
     "name": "stdout",
     "output_type": "stream",
     "text": [
      "[9, 16, 25, 36, 49, 64]\n"
     ]
    }
   ],
   "source": [
    "list_1=[3,4,5,6,7,8]\n",
    "for index in range(len(list_1)):\n",
    "        list_1[index] = list_1[index]**2\n",
    "print(list_1)"
   ]
  },
  {
   "cell_type": "code",
   "execution_count": 154,
   "id": "ee7c07d6-1358-49a8-9c52-2bc007467d65",
   "metadata": {},
   "outputs": [
    {
     "name": "stdout",
     "output_type": "stream",
     "text": [
      "[9, 16, 100, 36, 49, 64]\n"
     ]
    }
   ],
   "source": [
    "list_1=[3,4,10,6,7,8]\n",
    "for index in range(len(list_1)):\n",
    "        list_1[index] = list_1[index]**2\n",
    "print(list_1)"
   ]
  },
  {
   "cell_type": "code",
   "execution_count": 156,
   "id": "703db06f-3fe0-45bd-a083-510815146a70",
   "metadata": {},
   "outputs": [
    {
     "name": "stdout",
     "output_type": "stream",
     "text": [
      "[9, 16, 25, 36, 49, 64, 81]\n"
     ]
    }
   ],
   "source": [
    "list_1=[3,4,5,6,7,8,9]\n",
    "for index in range(len(list_1)):\n",
    "        list_1[index] = list_1[index]**2\n",
    "print(list_1)"
   ]
  },
  {
   "cell_type": "code",
   "execution_count": 184,
   "id": "2cfa39d9-5109-4f07-83fe-3a9d27fd4c14",
   "metadata": {},
   "outputs": [
    {
     "name": "stdout",
     "output_type": "stream",
     "text": [
      "list 1 = [3, 4, 5, 6, 7, 8, 9]\n",
      "list 2 = [3, 4, 5, 36, 7, 8, 9]\n"
     ]
    }
   ],
   "source": [
    "list_1=[3,4,5,6,7,8,9]\n",
    "list_2=[]\n",
    "for index in range(len(list_1)):\n",
    "    if list_1[index] == 6:\n",
    "        #list_1[index] = list_1[index]**2\n",
    "        list_2.append(list_1[index]**2)\n",
    "    else:\n",
    "        list_2.append(list_1[index])\n",
    "print(f'list 1 = {list_1}')\n",
    "print(f'list 2 = {list_2}')"
   ]
  },
  {
   "cell_type": "code",
   "execution_count": 188,
   "id": "b9897ed6-931e-404c-9e5e-40dc69ba0f8b",
   "metadata": {},
   "outputs": [
    {
     "name": "stdout",
     "output_type": "stream",
     "text": [
      "list 1 = [3, 4, 5, 6, 7, 8, 9]\n",
      "list 2 = [9, 4, 5, 36, 7, 8, 9]\n"
     ]
    }
   ],
   "source": [
    "list_1=[3,4,5,6,7,8,9]\n",
    "list_2=[]\n",
    "for index in range(len(list_1)):\n",
    "    if list_1[index] == 6:\n",
    "        #list_1[index] = list_1[index]**2\n",
    "        list_2.append(list_1[index]**2)\n",
    "    elif list_1[index] == 3:\n",
    "        list_2.append(list_1[index]**2)\n",
    "    else:\n",
    "        list_2.append(list_1[index])\n",
    "print(f'list 1 = {list_1}')\n",
    "print(f'list 2 = {list_2}')"
   ]
  },
  {
   "cell_type": "code",
   "execution_count": 194,
   "id": "df798206-3c75-46ad-a5c9-b4754fb9810f",
   "metadata": {},
   "outputs": [
    {
     "name": "stdout",
     "output_type": "stream",
     "text": [
      "[4, 6, 8]\n",
      "[16, 36, 64]\n"
     ]
    }
   ],
   "source": [
    "list3=[3,4,5,6,7,8]\n",
    "list4=[]\n",
    "list5=[]\n",
    "for element in list3:\n",
    "    if element%2 == 0:\n",
    "        list5.append(element)\n",
    "        list4.append(element**2)\n",
    "print(list5)\n",
    "print(list4)"
   ]
  },
  {
   "cell_type": "code",
   "execution_count": 196,
   "id": "023b9789-93b9-43b8-a0bd-0e718a7281af",
   "metadata": {},
   "outputs": [
    {
     "name": "stdout",
     "output_type": "stream",
     "text": [
      "[3, 5, 7]\n",
      "[9, 25, 49]\n"
     ]
    }
   ],
   "source": [
    "list3=[3,4,5,6,7,8]\n",
    "list4=[]\n",
    "list5=[]\n",
    "for element in list3:\n",
    "    if element%2 != 0:\n",
    "        list5.append(element)\n",
    "        list4.append(element**2)\n",
    "print(list5)\n",
    "print(list4)"
   ]
  },
  {
   "cell_type": "markdown",
   "id": "e828a2dd-b859-4d4d-bde2-967059bd5e4c",
   "metadata": {},
   "source": [
    "# Homework\n",
    "Question\n",
    "1. find the sum of all the elements in list\n",
    "2. find all the even numbers in the list\n",
    "3. find the smallest element in the list\n",
    "4. find the largest element in the list\n",
    "5. add the even numbers in the list"
   ]
  },
  {
   "cell_type": "code",
   "execution_count": null,
   "id": "a01ce089-6e4d-468e-817a-7348807b9bcd",
   "metadata": {
    "scrolled": true
   },
   "outputs": [
    {
     "name": "stdout",
     "output_type": "stream",
     "text": [
      "main list = [1, 2, 3, 4, 5, 6, 7, 8, 9]\n",
      "\n",
      "sum of list = 90\n",
      "Even number's list = [2, 4, 6, 8]\n",
      "Smallest element in the list = 1\n",
      "Largest element in the list = 9\n",
      "Sum of even number's if the list = 20\n"
     ]
    }
   ],
   "source": [
    "list = [1,2,3,4,5,6,7,8,9]\n",
    "# ----------------------------\n",
    "print(f\"main list = {list}\")\n",
    "# ----------------------------\n",
    "sum=0\n",
    "for i in range(len(list)):\n",
    "    sum = sum + list[i]\n",
    "print(f'\\nsum of list = {sum}')\n",
    "# -----------------------------\n",
    "list_even_number = []\n",
    "for i in range(len(list)):\n",
    "    if list[i] % 2 == 0:\n",
    "        list_even_number.append(list[i])\n",
    "print(f\"Even number's list = {list_even_number}\")\n",
    "# -----------------------------------------------\n",
    "smallest_element = list[0]\n",
    "for i in range(len(list)):\n",
    "    if list[i] < list[0]:\n",
    "        smallest_element = list[i]\n",
    "print(f\"Smallest element in the list = {smallest_element}\")\n",
    "# ----------------------------------------------------------\n",
    "largest_element = list[0]\n",
    "for i in range(len(list)):\n",
    "    if list[i] > list[0]:\n",
    "        largest_element = list[i]\n",
    "print(f\"Largest element in the list = {largest_element}\")\n",
    "# ------------------------------------------------------------\n",
    "sum_even = 0\n",
    "for i in range(len(list)):\n",
    "    if list[i] % 2 == 0:\n",
    "        sum_even = sum_even + list[i]\n",
    "print(f\"Sum of even number's if the list = {sum_even}\")"
   ]
  }
 ],
 "metadata": {
  "kernelspec": {
   "display_name": "Python [conda env:base] *",
   "language": "python",
   "name": "conda-base-py"
  },
  "language_info": {
   "codemirror_mode": {
    "name": "ipython",
    "version": 3
   },
   "file_extension": ".py",
   "mimetype": "text/x-python",
   "name": "python",
   "nbconvert_exporter": "python",
   "pygments_lexer": "ipython3",
   "version": "3.12.7"
  }
 },
 "nbformat": 4,
 "nbformat_minor": 5
}
